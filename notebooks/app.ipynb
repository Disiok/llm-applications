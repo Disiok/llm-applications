{
 "cells": [
  {
   "cell_type": "markdown",
   "id": "154b2d0e-f7ce-453b-b3b7-eda0666a9795",
   "metadata": {},
   "source": [
    "# Rag-based LLM Application"
   ]
  },
  {
   "cell_type": "markdown",
   "id": "35af14d4-478a-418b-a738-b17012188779",
   "metadata": {},
   "source": [
    "## Set up"
   ]
  },
  {
   "cell_type": "code",
   "execution_count": 1,
   "id": "e538090b-c736-46e7-8427-298ecc3e50f9",
   "metadata": {
    "tags": []
   },
   "outputs": [],
   "source": [
    "import os\n",
    "import openai\n",
    "from pathlib import Path\n",
    "from pprint import pprint\n",
    "import ray\n",
    "from tqdm import tqdm"
   ]
  },
  {
   "cell_type": "code",
   "execution_count": 2,
   "id": "633996c3-45b4-4ac6-961d-56b0df9156c0",
   "metadata": {
    "tags": []
   },
   "outputs": [],
   "source": [
    "import sys; sys.path.append(\"..\")\n",
    "import warnings; warnings.filterwarnings('ignore')\n",
    "from dotenv import load_dotenv; load_dotenv()\n",
    "from app.config import ROOT_DIR"
   ]
  },
  {
   "cell_type": "code",
   "execution_count": null,
   "id": "8f36dc38-f797-4db9-9979-2450764679aa",
   "metadata": {
    "tags": []
   },
   "outputs": [],
   "source": [
    "# Database credentials\n",
    "ray.init(runtime_env={\"env_vars\": {\"DB_CONNECTION_STRING\": os.environ[\"DB_CONNECTION_STRING\"]}, \"working_dir\": ROOT_DIR})"
   ]
  },
  {
   "cell_type": "markdown",
   "id": "4c503edd-963a-4ec3-9182-39f7afc44153",
   "metadata": {},
   "source": [
    "## Load data"
   ]
  },
  {
   "cell_type": "markdown",
   "id": "1f82562f-2b5d-4e8d-9716-b0da8670e8bf",
   "metadata": {},
   "source": [
    "Our data is already ready at `/efs/shared_storage/pcmoritz/docs.ray.io/en/master/` (on Staging, `us-east-1`) but if you wanted to load it yourself, run this bash command (change `/desired/output/directory`, but make sure it's on the shared storage,\n",
    "so that it's accessible to the workers):\n",
    "```bash\n",
    "export DOCS_PATH=/desired/output/directory\n",
    "wget -e robots=off --recursive --no-clobber --page-requisites \\\n",
    "  --html-extension --convert-links --restrict-file-names=windows \\\n",
    "  --domains docs.ray.io --no-parent --accept=html \\\n",
    "  -P $DOCS_PATH https://docs.ray.io/en/master/\n",
    "```"
   ]
  },
  {
   "cell_type": "code",
   "execution_count": 8,
   "id": "02d639a6-4cfc-409b-b887-a88c3325e303",
   "metadata": {
    "tags": []
   },
   "outputs": [
    {
     "name": "stdout",
     "output_type": "stream",
     "text": [
      "3294 documents\n"
     ]
    }
   ],
   "source": [
    "# Ray dataset\n",
    "docs_path = Path(\"/efs/shared_storage/pcmoritz/docs.ray.io/en/master/\")\n",
    "ds = ray.data.from_items([{\"path\": path} for path in docs_path.rglob(\"*.html\") if not path.is_dir()])\n",
    "print(f\"{ds.count()} documents\")"
   ]
  },
  {
   "cell_type": "markdown",
   "id": "ba9edff6-6dbf-4037-9675-ae05cd3eb7a7",
   "metadata": {
    "tags": []
   },
   "source": [
    "## Process data"
   ]
  },
  {
   "cell_type": "markdown",
   "id": "c829c71d-819f-4834-8fc6-dd343947f831",
   "metadata": {},
   "source": [
    "### Sections"
   ]
  },
  {
   "cell_type": "code",
   "execution_count": 9,
   "id": "756fee1f-ce8a-4ec3-8fcd-29017e1732d2",
   "metadata": {
    "tags": []
   },
   "outputs": [],
   "source": [
    "import matplotlib.pyplot as plt\n",
    "import pandas as pd\n",
    "from app.index import parse_file"
   ]
  },
  {
   "cell_type": "code",
   "execution_count": 12,
   "id": "cfd33ba3-f9e4-46d4-ad63-6a810f18741f",
   "metadata": {
    "tags": []
   },
   "outputs": [
    {
     "name": "stdout",
     "output_type": "stream",
     "text": [
      "[{'source': 'https://docs.ray.io/en/master/train/faq.html', 'text': '\\n\\n\\n'},\n",
      " {'source': 'https://docs.ray.io/en/master/train/faq.html#ray-train-faq',\n",
      "  'text': 'Ray Train FAQ#\\n\\n'},\n",
      " {'source': 'https://docs.ray.io/en/master/train/faq.html#how-fast-is-ray-train-compared-to-pytorch-tensorflow-etc',\n",
      "  'text': 'How fast is Ray Train compared to PyTorch, TensorFlow, etc.?#\\n'\n",
      "          'At its core, training speed should be the same - while Ray Train '\n",
      "          'launches distributed training workers via Ray Actors,\\n'\n",
      "          'communication during training (e.g. gradient synchronization) is '\n",
      "          'handled by the backend training framework itself.\\n'\n",
      "          'For example, when running Ray Train with the TorchTrainer,\\n'\n",
      "          'distributed training communication is done with Torch’s '\n",
      "          'DistributedDataParallel.\\n'\n",
      "          'Take a look at the Pytorch and Tensorflow benchmarks to check '\n",
      "          'performance parity.\\n'\n",
      "          '\\n'\n",
      "          '\\n'}]\n"
     ]
    }
   ],
   "source": [
    "# Sample\n",
    "record = {\"path\": \"/efs/shared_storage/pcmoritz/docs.ray.io/en/master/train/faq.html\"}\n",
    "pprint(parse_file(record)[:3])  # just first few chunks"
   ]
  },
  {
   "cell_type": "code",
   "execution_count": 13,
   "id": "07c369b0-6c1f-4896-9acb-7a0431eb69b3",
   "metadata": {
    "tags": []
   },
   "outputs": [
    {
     "name": "stderr",
     "output_type": "stream",
     "text": [
      "2023-08-22 10:06:40,898\tINFO streaming_executor.py:92 -- Executing DAG InputDataBuffer[Input] -> TaskPoolMapOperator[FlatMap(parse_file)]\n",
      "2023-08-22 10:06:40,900\tINFO streaming_executor.py:93 -- Execution config: ExecutionOptions(resource_limits=ExecutionResources(cpu=None, gpu=None, object_store_memory=None), locality_with_output=False, preserve_order=False, actor_locality_enabled=True, verbose_progress=False)\n",
      "2023-08-22 10:06:40,901\tINFO streaming_executor.py:95 -- Tip: For detailed progress reporting, run `ray.data.DataContext.get_current().execution_options.verbose_progress = True`\n"
     ]
    },
    {
     "data": {
      "application/vnd.jupyter.widget-view+json": {
       "model_id": "",
       "version_major": 2,
       "version_minor": 0
      },
      "text/plain": [
       "Running 0:   0%|          | 0/200 [00:00<?, ?it/s]"
      ]
     },
     "metadata": {},
     "output_type": "display_data"
    },
    {
     "name": "stderr",
     "output_type": "stream",
     "text": [
      "\u001b[2m\u001b[36m(FlatMap(parse_file) pid=60899)\u001b[0m /tmp/ray/session_2023-08-22_09-26-49_519100_2373/runtime_resources/working_dir_files/_ray_pkg_460d7487e00b06dd/app/index.py:21: GuessedAtParserWarning: No parser was explicitly specified, so I'm using the best available HTML parser for this system (\"html.parser\"). This usually isn't a problem, but if you run this code on another system, or in a different virtual environment, it may use a different parser and behave differently.\n",
      "\u001b[2m\u001b[36m(FlatMap(parse_file) pid=60899)\u001b[0m \n",
      "\u001b[2m\u001b[36m(FlatMap(parse_file) pid=60899)\u001b[0m The code that caused this warning is on line 21 of the file /tmp/ray/session_2023-08-22_09-26-49_519100_2373/runtime_resources/working_dir_files/_ray_pkg_460d7487e00b06dd/app/index.py. To get rid of this warning, pass the additional argument 'features=\"html.parser\"' to the BeautifulSoup constructor.\n",
      "\u001b[2m\u001b[36m(FlatMap(parse_file) pid=60899)\u001b[0m \n",
      "\u001b[2m\u001b[36m(FlatMap(parse_file) pid=60899)\u001b[0m   soup = BeautifulSoup(f.read())\n"
     ]
    },
    {
     "name": "stdout",
     "output_type": "stream",
     "text": [
      "\u001b[2m\u001b[1m\u001b[36m(autoscaler +9m27s)\u001b[0m [workspace snapshot] New snapshot created successfully (size: 8.00 MB).\n"
     ]
    },
    {
     "name": "stderr",
     "output_type": "stream",
     "text": [
      "\u001b[2m\u001b[36m(FlatMap(parse_file) pid=60883)\u001b[0m /tmp/ray/session_2023-08-22_09-26-49_519100_2373/runtime_resources/working_dir_files/_ray_pkg_460d7487e00b06dd/app/index.py:21: GuessedAtParserWarning: No parser was explicitly specified, so I'm using the best available HTML parser for this system (\"html.parser\"). This usually isn't a problem, but if you run this code on another system, or in a different virtual environment, it may use a different parser and behave differently.\u001b[32m [repeated 104x across cluster] (Ray deduplicates logs by default. Set RAY_DEDUP_LOGS=0 to disable log deduplication, or see https://docs.ray.io/en/master/ray-observability/ray-logging.html#log-deduplication for more options.)\u001b[0m\n",
      "\u001b[2m\u001b[36m(FlatMap(parse_file) pid=60883)\u001b[0m \u001b[32m [repeated 208x across cluster]\u001b[0m\n",
      "\u001b[2m\u001b[36m(FlatMap(parse_file) pid=60883)\u001b[0m The code that caused this warning is on line 21 of the file /tmp/ray/session_2023-08-22_09-26-49_519100_2373/runtime_resources/working_dir_files/_ray_pkg_460d7487e00b06dd/app/index.py. To get rid of this warning, pass the additional argument 'features=\"html.parser\"' to the BeautifulSoup constructor.\u001b[32m [repeated 104x across cluster]\u001b[0m\n",
      "\u001b[2m\u001b[36m(FlatMap(parse_file) pid=60883)\u001b[0m   soup = BeautifulSoup(f.read())\u001b[32m [repeated 104x across cluster]\u001b[0m\n"
     ]
    },
    {
     "name": "stdout",
     "output_type": "stream",
     "text": [
      "\u001b[2m\u001b[1m\u001b[36m(autoscaler +9m32s)\u001b[0m [autoscaler] Current infeasible cluster resource constraints: {\"minBundles\":[{\"request\":{\"resourcesBundle\":{\"CPU\":1}},\"count\":\"33\"}]}\n",
      "8913\n"
     ]
    }
   ],
   "source": [
    "# Extract sections\n",
    "sections_ds = ds.flat_map(parse_file)\n",
    "sections = sections_ds.take_all()\n",
    "print (len(sections))"
   ]
  },
  {
   "cell_type": "code",
   "execution_count": 14,
   "id": "4f30fcc3-c8be-4156-adc3-f706696f383a",
   "metadata": {
    "tags": []
   },
   "outputs": [
    {
     "data": {
      "text/plain": [
       "count      8913.000000\n",
       "mean       1335.435095\n",
       "std        5963.464153\n",
       "min           3.000000\n",
       "25%           3.000000\n",
       "50%         251.000000\n",
       "75%         809.000000\n",
       "max      208012.000000\n",
       "dtype: float64"
      ]
     },
     "execution_count": 14,
     "metadata": {},
     "output_type": "execute_result"
    }
   ],
   "source": [
    "# Stats summary\n",
    "sections_lengths = [len(section[\"text\"]) for section in sections]\n",
    "series = pd.Series(sections_lengths)\n",
    "series.describe()"
   ]
  },
  {
   "cell_type": "code",
   "execution_count": 15,
   "id": "2e414bd6-82c6-4315-80a9-46c888da4169",
   "metadata": {
    "tags": []
   },
   "outputs": [
    {
     "data": {
      "image/png": "[encoded data removed]",
      "text/plain": [
       "<Figure size 1800x300 with 1 Axes>"
      ]
     },
     "metadata": {},
     "output_type": "display_data"
    }
   ],
   "source": [
    "# Sections lengths\n",
    "plt.figure(figsize=(18, 3))\n",
    "plt.semilogy(sections_lengths, marker='o')\n",
    "plt.xlabel('Section')\n",
    "plt.ylabel('# of characters (log scale)')\n",
    "plt.title('Section Lengths')\n",
    "plt.show()"
   ]
  },
  {
   "cell_type": "markdown",
   "id": "f1769855-6138-4015-ae64-dd8169445dd3",
   "metadata": {
    "tags": []
   },
   "source": [
    "### Chunks"
   ]
  },
  {
   "cell_type": "markdown",
   "id": "3595c2c2-0e9a-4f2a-9c0c-cca45950d661",
   "metadata": {},
   "source": [
    "Some of these sections are very large, let's apply some chunking to improve this so that we can use these sections as context later."
   ]
  },
  {
   "cell_type": "code",
   "execution_count": 16,
   "id": "0bf7145b-47d4-4b60-96a8-74c8d8315f92",
   "metadata": {
    "tags": []
   },
   "outputs": [],
   "source": [
    "from langchain.text_splitter import RecursiveCharacterTextSplitter"
   ]
  },
  {
   "cell_type": "code",
   "execution_count": 17,
   "id": "6b6337e6-07b2-459d-a666-45de3aa945c4",
   "metadata": {
    "tags": []
   },
   "outputs": [],
   "source": [
    "text_splitter = RecursiveCharacterTextSplitter(\n",
    "    separators=[\"\\n\\n\", \"\\n\", \" \", \"\"],\n",
    "    chunk_size=300,\n",
    "    chunk_overlap=50,\n",
    "    length_function=len,\n",
    ")"
   ]
  },
  {
   "cell_type": "code",
   "execution_count": 18,
   "id": "54966d0f-33ee-4503-9f40-a673710950bc",
   "metadata": {
    "tags": []
   },
   "outputs": [],
   "source": [
    "chunks = text_splitter.create_documents(\n",
    "    texts=[section[\"text\"] for section in sections], \n",
    "    metadatas=[{\"source\": section[\"source\"]} for section in sections]\n",
    ")"
   ]
  },
  {
   "cell_type": "code",
   "execution_count": 19,
   "id": "d85f61be-b2ce-4f1e-aaf9-36cd3ec5aed8",
   "metadata": {
    "tags": []
   },
   "outputs": [
    {
     "name": "stdout",
     "output_type": "stream",
     "text": [
      "57835 chunks\n",
      "\n",
      "('ray.tune.search.basic_variant.BasicVariantGenerator.CKPT_FILE_TMPL#\\n'\n",
      " '\\n'\n",
      " '\\n'\n",
      " \"BasicVariantGenerator.CKPT_FILE_TMPL = 'basic-variant-state-{}.json'#\")\n",
      "\n",
      "metadata:\n",
      "{'source': 'https://docs.ray.io/en/master/tune/api/doc/ray.tune.search.basic_variant.BasicVariantGenerator.CKPT_FILE_TMPL.html#ray-tune-search-basic-variant-basicvariantgenerator-ckpt-file-tmpl'}\n"
     ]
    }
   ],
   "source": [
    "print (f\"{len(chunks)} chunks\\n\")\n",
    "pprint (chunks[0].page_content)  # a few tokens\n",
    "print (f\"\\nmetadata:\\n{chunks[0].metadata}\")"
   ]
  },
  {
   "cell_type": "code",
   "execution_count": 20,
   "id": "5be23c62-3108-49be-994d-5aa033162c71",
   "metadata": {
    "tags": []
   },
   "outputs": [],
   "source": [
    "# Ray dataset\n",
    "chunks_ds = ray.data.from_items([{\"text\": chunk.page_content, \"source\": chunk.metadata[\"source\"]} for chunk in chunks])"
   ]
  },
  {
   "cell_type": "markdown",
   "id": "d9c23b31-e7b3-4078-abf7-683f448f5b19",
   "metadata": {},
   "source": [
    "### Embed data"
   ]
  },
  {
   "cell_type": "code",
   "execution_count": 21,
   "id": "712fe08b-fd19-4cb8-94d9-a7570b2dc09d",
   "metadata": {
    "tags": []
   },
   "outputs": [],
   "source": [
    "from langchain.embeddings.huggingface import HuggingFaceEmbeddings\n",
    "import numpy as np\n",
    "from ray.data import ActorPoolStrategy"
   ]
  },
  {
   "cell_type": "code",
   "execution_count": 22,
   "id": "1d0427e0-c4e8-4f6a-8377-778f0492a338",
   "metadata": {
    "tags": []
   },
   "outputs": [],
   "source": [
    "embedding_model = \"thenlper/gte-base\""
   ]
  },
  {
   "cell_type": "code",
   "execution_count": 23,
   "id": "83b6a5a3-cd2d-4987-838a-be13e9553080",
   "metadata": {
    "tags": []
   },
   "outputs": [],
   "source": [
    "class EmbedChunks:\n",
    "    def __init__(self, model_name):\n",
    "        self.embedding_model = HuggingFaceEmbeddings(\n",
    "            model_name=model_name,\n",
    "            model_kwargs={\"device\": \"cuda\"},\n",
    "            encode_kwargs={\"device\": \"cuda\", \"batch_size\": 100})\n",
    "    \n",
    "    def __call__(self, batch):\n",
    "        embeddings = self.embedding_model.embed_documents(batch[\"text\"])\n",
    "        return {\"text\": batch[\"text\"], \"source\": batch[\"source\"], \"embeddings\": embeddings}"
   ]
  },
  {
   "cell_type": "code",
   "execution_count": 24,
   "id": "9715a01e-dc67-4342-a0cb-30e770852097",
   "metadata": {
    "tags": []
   },
   "outputs": [],
   "source": [
    "# Embed chunks\n",
    "embedded_chunks = chunks_ds.map_batches(\n",
    "    EmbedChunks,\n",
    "    fn_constructor_kwargs={\"model_name\": embedding_model},\n",
    "    batch_size=100, \n",
    "    num_gpus=1,\n",
    "    compute=ActorPoolStrategy(size=2))"
   ]
  },
  {
   "cell_type": "code",
   "execution_count": 27,
   "id": "67dffa1f-19a3-4411-af3f-b161a47ee164",
   "metadata": {
    "tags": []
   },
   "outputs": [
    {
     "name": "stdout",
     "output_type": "stream",
     "text": [
      "embedding size: 768\n",
      "('ray.tune.search.basic_variant.BasicVariantGenerator.CKPT_FILE_TMPL#\\n'\n",
      " '\\n'\n",
      " '\\n'\n",
      " \"BasicVariantGenerator.CKPT_FILE_TMPL = 'basic-variant-state-{}.json'#\")\n",
      "\u001b[2m\u001b[1m\u001b[36m(autoscaler +14m24s)\u001b[0m [workspace snapshot] New snapshot created successfully (size: 8.00 MB).\n"
     ]
    }
   ],
   "source": [
    "# Sample\n",
    "sample = embedded_chunks.take(5)\n",
    "print (\"embedding size:\", len(sample[0][\"embeddings\"]))\n",
    "pprint(sample[0][\"text\"])"
   ]
  },
  {
   "cell_type": "markdown",
   "id": "09187588-e1dc-44c5-b88b-cc8ebe3f9c48",
   "metadata": {},
   "source": [
    "### Index data"
   ]
  },
  {
   "cell_type": "code",
   "execution_count": 31,
   "id": "031a6487-c757-46bc-bc20-1e6a135fee6c",
   "metadata": {
    "tags": []
   },
   "outputs": [],
   "source": [
    "def connection_factory():\n",
    "    import psycopg\n",
    "    from pgvector.psycopg import register_vector\n",
    "    conn = psycopg.connect(DB_CONNECTION_STRING)\n",
    "    register_vector(conn)\n",
    "    return conn"
   ]
  },
  {
   "cell_type": "code",
   "execution_count": 33,
   "id": "7ffaa9e9-ed6a-406f-98a5-fedfc920d74c",
   "metadata": {
    "tags": []
   },
   "outputs": [
    {
     "name": "stdout",
     "output_type": "stream",
     "text": [
      "ray @ https://s3-us-west-2.amazonaws.com/ray-wheels/latest/ray-3.0.0.dev0-cp38-cp38-manylinux2014_x86_64.whl#sha256=9a6b593ae28b06015c45702c78d994863a053030910bae788a4be00f08debb40\n",
      "ray-cpp==2.6.3\n"
     ]
    }
   ],
   "source": [
    "%%bash\n",
    "pip freeze | grep ray"
   ]
  },
  {
   "cell_type": "code",
   "execution_count": null,
   "id": "9c4582d9-40ba-4a94-81ac-259b3851f837",
   "metadata": {
    "tags": []
   },
   "outputs": [],
   "source": [
    "# Write embedded chunks\n",
    "results = embedded_chunks.write_sql(\n",
    "    \"INSERT INTO document (text, source, embedding) VALUES (%s, %s, %s)\",\n",
    "    connection_factory\n",
    ")"
   ]
  },
  {
   "cell_type": "markdown",
   "id": "318798c3-d119-4eb5-ad81-b2834516151a",
   "metadata": {},
   "source": [
    "### Retrieval"
   ]
  },
  {
   "cell_type": "code",
   "execution_count": 34,
   "id": "480d4c49-5870-471e-a617-86f7d3fa13d0",
   "metadata": {
    "tags": []
   },
   "outputs": [],
   "source": [
    "import json\n",
    "import numpy as np"
   ]
  },
  {
   "cell_type": "code",
   "execution_count": 37,
   "id": "4827efb7-487b-4368-8880-c7480511c8cf",
   "metadata": {
    "tags": []
   },
   "outputs": [],
   "source": [
    "embedding_model = HuggingFaceEmbeddings(model_name=embedding_model)\n",
    "conn = psycopg.connect(DB_CONNECTION_STRING)\n",
    "register_vector(conn)"
   ]
  },
  {
   "cell_type": "code",
   "execution_count": 38,
   "id": "39c3f410-89a2-4992-8cd1-63aca5bf9936",
   "metadata": {
    "tags": []
   },
   "outputs": [
    {
     "data": {
      "text/plain": [
       "768"
      ]
     },
     "execution_count": 38,
     "metadata": {},
     "output_type": "execute_result"
    }
   ],
   "source": [
    "# Embed query\n",
    "query = \"What is the default batch size for map_batches?\"\n",
    "embedding = np.array(embedding_model.embed_query(query))\n",
    "len(embedding)"
   ]
  },
  {
   "cell_type": "code",
   "execution_count": 39,
   "id": "cc9b25ed-fa16-48df-9e1b-a94c33891a3c",
   "metadata": {
    "tags": []
   },
   "outputs": [],
   "source": [
    "with conn.cursor() as cur:\n",
    "    cur.execute('SELECT * FROM document ORDER BY embedding <-> %s LIMIT 5', (embedding,))\n",
    "    rows = cur.fetchall()\n",
    "    context = [{\"text\": row[2], \"source\": row[1]} for row in rows]"
   ]
  },
  {
   "cell_type": "code",
   "execution_count": 41,
   "id": "b0197e98-5fee-4be0-bdf5-2d975216aa4b",
   "metadata": {
    "tags": []
   },
   "outputs": [
    {
     "name": "stdout",
     "output_type": "stream",
     "text": [
      "{'source': 'entire blocks as batches (blocks may contain different numbers of '\n",
      "           'rows).\\n'\n",
      "           'The actual size of the batch provided to fn may be smaller than\\n'\n",
      "           'batch_size if batch_size doesn’t evenly divide the block(s) sent\\n'\n",
      "           'to a given map task. Default batch_size is 4096 with “default”.',\n",
      " 'text': 'https://docs.ray.io/en/master/data/api/doc/ray.data.Dataset.map_batches.html#ray-data-dataset-map-batches'}\n"
     ]
    }
   ],
   "source": [
    "pprint(context[0])"
   ]
  },
  {
   "cell_type": "markdown",
   "id": "f5738d23-91e3-4016-826e-716872f76b62",
   "metadata": {
    "tags": []
   },
   "source": [
    "### Generation"
   ]
  },
  {
   "cell_type": "code",
   "execution_count": 103,
   "id": "697e65e8-4d69-4870-9f09-0e128008b94e",
   "metadata": {
    "tags": []
   },
   "outputs": [],
   "source": [
    "def generate_response(llm, system_content, assistant_content, user_content, max_retries=3, retry_interval=60):\n",
    "    retry_count = 0\n",
    "    while retry_count < max_retries:\n",
    "        try:\n",
    "            response = openai.ChatCompletion.create(\n",
    "                    model=llm,\n",
    "                    messages=[\n",
    "                        {\"role\": \"system\", \"content\": system_content},\n",
    "                        {\"role\": \"assistant\", \"content\": assistant_content},\n",
    "                        {\"role\": \"user\", \"content\": user_content},\n",
    "                    ])\n",
    "            return response[\"choices\"][-1][\"message\"][\"content\"]\n",
    "        except Exception as e:\n",
    "            print (e)\n",
    "            time.sleep(retry_interval)  # default is per-minute rate limits\n",
    "            retry_count += 1\n",
    "    return \"\""
   ]
  },
  {
   "cell_type": "code",
   "execution_count": 43,
   "id": "9de3685b-6839-445f-9baa-68a5e863562a",
   "metadata": {
    "tags": []
   },
   "outputs": [
    {
     "data": {
      "text/plain": [
       "'The default batch size for map_batches is 4096.'"
      ]
     },
     "execution_count": 43,
     "metadata": {},
     "output_type": "execute_result"
    }
   ],
   "source": [
    "# Generate response\n",
    "generate_response(\n",
    "    model=\"gpt-4\",\n",
    "    system_content=\"Answer the {query} using the provided {context}\",\n",
    "    assistant_content=\"\", \n",
    "    user_content=f\"query: {query}, context: {context}\"\n",
    ")"
   ]
  },
  {
   "cell_type": "markdown",
   "id": "4fa7a068-fc77-4928-bf58-52321616f9d5",
   "metadata": {},
   "source": [
    "### References"
   ]
  },
  {
   "cell_type": "code",
   "execution_count": 44,
   "id": "fa6cab00-d68d-4745-a735-048d72d8e5d6",
   "metadata": {
    "tags": []
   },
   "outputs": [],
   "source": [
    "import re\n",
    "import time"
   ]
  },
  {
   "cell_type": "markdown",
   "id": "03acb7e0-7bcb-4e2f-8552-5fe182a278db",
   "metadata": {},
   "source": [
    "We'll start by creating our reference (ground-truth) dataset. We have a list of user queries and the ideal source to answer the query with inside `eval/reference.jsonl`. We will our LLM app above to generate reference answer for each query/source pair using GPT 4."
   ]
  },
  {
   "cell_type": "code",
   "execution_count": 45,
   "id": "02a9ceb3-e676-40d6-8d4b-fbe439413e8c",
   "metadata": {
    "tags": []
   },
   "outputs": [],
   "source": [
    "llm = \"gpt-4\"\n",
    "max_context_length = 8192"
   ]
  },
  {
   "cell_type": "code",
   "execution_count": 46,
   "id": "ca019cc9-3241-4453-b63d-ef7c44ba584a",
   "metadata": {
    "tags": []
   },
   "outputs": [],
   "source": [
    "with open(Path(ROOT_DIR, \"datasets/eval-dataset-v1.jsonl\"), \"r\") as f:\n",
    "    data = [json.loads(item) for item in list(f)]"
   ]
  },
  {
   "cell_type": "code",
   "execution_count": 47,
   "id": "716b02e5-1ab5-4d19-aaea-cc89d28de508",
   "metadata": {
    "tags": []
   },
   "outputs": [],
   "source": [
    "# Clean up\n",
    "for row in data:\n",
    "    row[\"source\"] = row[\"source\"].replace(\"https://docs.ray.io/en/latest/\", \"https://docs.ray.io/en/master/\")"
   ]
  },
  {
   "cell_type": "code",
   "execution_count": 48,
   "id": "3cd9e509-1fe6-42ad-886f-0e118e8dd35d",
   "metadata": {
    "tags": []
   },
   "outputs": [
    {
     "data": {
      "text/plain": [
       "[{'question': 'I’m struggling a bit with Ray Data type conversions when I do map_batches. Any advice?',\n",
       "  'source': 'https://docs.ray.io/en/master/data/transforming-data.html#configuring-batch-format'},\n",
       " {'question': 'How does autoscaling work in a Ray Serve application?',\n",
       "  'source': 'https://docs.ray.io/en/master/serve/scaling-and-resource-allocation.html#autoscaling'},\n",
       " {'question': 'can i create my own ray image with custom python version',\n",
       "  'source': ''},\n",
       " {'question': 'how do I get the address of a ray node',\n",
       "  'source': 'https://docs.ray.io/en/master/ray-core/miscellaneous.html#node-information'},\n",
       " {'question': 'are you based on GPT-4?', 'source': ''}]"
      ]
     },
     "execution_count": 48,
     "metadata": {},
     "output_type": "execute_result"
    }
   ],
   "source": [
    "data[:5]"
   ]
  },
  {
   "cell_type": "code",
   "execution_count": null,
   "id": "d22f070b-1263-4617-a0ba-ab8fd62dd87b",
   "metadata": {},
   "outputs": [],
   "source": [
    "# Section per document (page) dict\n",
    "sections_per_doc = {section[\"source\"]: section[\"text\"] for section in sections}\n",
    "for section in sections:\n",
    "    page = section[\"source\"]\n",
    "    if \"#\" not in page:\n",
    "        page_sections = [key for key in sections_per_doc.keys() if key.startswith(page)]\n",
    "        combined_text = \"\\n\".join(sections_per_doc[page_section] for page_section in page_sections)\n",
    "        sections_per_doc[page] = combined_text"
   ]
  },
  {
   "cell_type": "code",
   "execution_count": null,
   "id": "04741e61-9e30-4fcf-acb1-9a6bb4f3c069",
   "metadata": {},
   "outputs": [],
   "source": [
    "sections_per_doc['https://docs.ray.io/en/master/train/key-concepts.html']"
   ]
  },
  {
   "cell_type": "code",
   "execution_count": 49,
   "id": "b4495ed6-48a1-4fa4-b837-2dbdabb4cdd6",
   "metadata": {
    "tags": []
   },
   "outputs": [],
   "source": [
    "# Checking if any sources are not in our parsed sources\n",
    "for i, row in enumerate(data):\n",
    "    if row[\"source\"].startswith(\"https://docs.ray.io\"):\n",
    "        if row[\"source\"] not in sections_per_doc:\n",
    "            print(i, row[\"source\"])"
   ]
  },
  {
   "cell_type": "code",
   "execution_count": 50,
   "id": "8a67f8a6-c742-4c40-b8e5-d2c5fb70fec2",
   "metadata": {
    "tags": []
   },
   "outputs": [],
   "source": [
    "def extract_from_response(response):\n",
    "    # Define regular expressions for extracting values\n",
    "    answer_pattern = r'\"answer\"\\s*:\\s*\"([^\"]*)\"'\n",
    "    score_pattern = r'\"score\"\\s*:\\s*([0-9]+)'\n",
    "    reasoning_pattern = r'\"reasoning\"\\s*:\\s*\"([^\"]*)\"'\n",
    "\n",
    "    # Extract values using regular expressions\n",
    "    answer_match = re.search(answer_pattern, response)\n",
    "    score_match = re.search(score_pattern, response)\n",
    "    reasoning_match = re.search(reasoning_pattern, response)\n",
    "\n",
    "    # Convert\n",
    "    if answer_match and score_match and reasoning_match:\n",
    "        answer = answer_match.group(1)\n",
    "        score = float(score_match.group(1))\n",
    "        reasoning = reasoning_match.group(1)\n",
    "        return answer, score, reasoning\n",
    "\n",
    "    return \"\", \"\", \"\""
   ]
  },
  {
   "cell_type": "code",
   "execution_count": 53,
   "id": "dec3460f-c07a-4a2f-95f7-d1ef85d1a064",
   "metadata": {
    "tags": []
   },
   "outputs": [],
   "source": [
    "# Content for inference\n",
    "system_content = \"\"\"\n",
    "    Your job is {answer} a {query} using the additional {context} provided.\n",
    "    Then, you must {score} your response between 1 and 5.\n",
    "    You must return your response in a line with only the score.\n",
    "    Do not add any more details.\n",
    "    On a separate line provide your {reasoning} for the score as well.\n",
    "    Return your response following the exact format outlined below.\n",
    "    Do not add or remove anything.\n",
    "    And all of this must be in a valid JSON format.\n",
    "    \n",
    "    {\"answer\": answer,\n",
    "     \"score\": score,\n",
    "     \"reasoning\": reasoning}\n",
    "    \"\"\"\n",
    "assistant_content = \"\"\n",
    "context_length = max_context_length - len(system_content + assistant_content)"
   ]
  },
  {
   "cell_type": "code",
   "execution_count": 55,
   "id": "63c2db65-36fc-48cb-8e86-18b96554f977",
   "metadata": {
    "tags": []
   },
   "outputs": [
    {
     "name": "stderr",
     "output_type": "stream",
     "text": [
      "100%|██████████| 189/189 [1:03:59<00:00, 20.31s/it]\n"
     ]
    }
   ],
   "source": [
    "# Generate response\n",
    "results = []\n",
    "for row in tqdm(data):\n",
    "    # Get context\n",
    "    query = row[\"question\"]\n",
    "    context = sections_per_doc.get(row[\"source\"], \"\")\n",
    "    \n",
    "    # Generate response\n",
    "    user_content = f\"The query is {query} and the additional context is {context}\"[:context_length]\n",
    "    response = generate_response(\n",
    "        llm=llm, \n",
    "        system_content=system_content, \n",
    "        assistant_content=assistant_content, \n",
    "        user_content=user_content)\n",
    "    \n",
    "    # Extract from response\n",
    "    answer, score, reasoning = extract_from_response(response=response)\n",
    "    \n",
    "    # Store result\n",
    "    result = ({\n",
    "            \"question\": query,\n",
    "            \"source\": row[\"source\"],\n",
    "            \"answer\": answer,\n",
    "            \"score\": score,\n",
    "            \"reasoning\": reasoning,\n",
    "        })\n",
    "    results.append(result)"
   ]
  },
  {
   "cell_type": "code",
   "execution_count": 58,
   "id": "172cb0ef-8f54-4f60-93c9-604918f8814e",
   "metadata": {
    "tags": []
   },
   "outputs": [
    {
     "name": "stderr",
     "output_type": "stream",
     "text": [
      "100%|██████████| 7/7 [03:30<00:00, 30.08s/it]\n"
     ]
    }
   ],
   "source": [
    "# Rerun errors (We could use function calling but we might use OSS LLM as evaluator)\n",
    "error_indices = [i for i, row in enumerate(results) if row[\"answer\"] == \"\" and row[\"source\"].startswith(\"https://docs.ray.io\")]\n",
    "for i in tqdm(error_indices):\n",
    "    row = results[i]\n",
    "    query = row[\"question\"]\n",
    "    context = sections_per_doc.get(row[\"source\"], \"\")\n",
    "    user_content = f\"The question is {query} and the additional context is {context}\"[:max_context_length]\n",
    "    response = generate_response(\n",
    "        llm=llm, \n",
    "        system_content=system_content, \n",
    "        assistant_content=assistant_content, \n",
    "        user_content=user_content)\n",
    "    answer, score, reasoning = extract_from_response(response=response)\n",
    "    result = ({\n",
    "            \"question\": query,\n",
    "            \"source\": row[\"source\"],\n",
    "            \"answer\": answer,\n",
    "            \"score\": score,\n",
    "            \"reasoning\": reasoning,\n",
    "        })\n",
    "    results[i] = result"
   ]
  },
  {
   "cell_type": "markdown",
   "id": "5bd71260-5b7f-4ac4-b1f8-299369b157ea",
   "metadata": {},
   "source": [
    "Rerun the above cell until no errors in extraction."
   ]
  },
  {
   "cell_type": "code",
   "execution_count": 60,
   "id": "1c0f48d7-9d8d-4eeb-a304-fc93324ec4ee",
   "metadata": {
    "tags": []
   },
   "outputs": [],
   "source": [
    "# Save to file\n",
    "with open(Path(ROOT_DIR, \"datasets\", \"gpt-4-with-source.json\"), \"w\") as fp:\n",
    "    json.dump(results, fp, indent=4)"
   ]
  },
  {
   "cell_type": "markdown",
   "id": "d62ee3c3-3150-47fa-b689-b600fe03c8cc",
   "metadata": {},
   "source": [
    "### Inference"
   ]
  },
  {
   "cell_type": "markdown",
   "id": "633e6c37-b6a1-4ee2-892b-ae7658698103",
   "metadata": {},
   "source": [
    "Now we're ready to perform inference using an LLM."
   ]
  },
  {
   "cell_type": "code",
   "execution_count": 61,
   "id": "5d9f077d-47d1-4c1d-a47c-f026d1fe71e2",
   "metadata": {
    "tags": []
   },
   "outputs": [],
   "source": [
    "llm = \"gpt-3.5-turbo-16k\"\n",
    "max_context_length = 16384"
   ]
  },
  {
   "cell_type": "code",
   "execution_count": 62,
   "id": "8592bf80-e724-4ace-bd85-e412841bdc00",
   "metadata": {
    "tags": []
   },
   "outputs": [],
   "source": [
    "# Load questions \n",
    "with open(Path(ROOT_DIR, \"datasets/gpt-4-with-source.json\"), \"r\") as f:\n",
    "    questions = [json.loads(item)[\"question\"] for item in list(f)]"
   ]
  },
  {
   "cell_type": "code",
   "execution_count": 67,
   "id": "58b99c7a-38be-4478-a903-ee4a48292384",
   "metadata": {
    "tags": []
   },
   "outputs": [],
   "source": [
    "# Content for inference\n",
    "system_content = \"Answer the question using the additional context provided.\"\n",
    "assistant_content = \"\"\n",
    "context_length = max_context_length - len(system_content + assistant_content)"
   ]
  },
  {
   "cell_type": "code",
   "execution_count": 85,
   "id": "65cdfbf8-f645-4f1f-8980-e637b72e69a4",
   "metadata": {
    "tags": []
   },
   "outputs": [
    {
     "name": "stderr",
     "output_type": "stream",
     "text": [
      "100%|██████████| 189/189 [54:22<00:00, 17.26s/it] \n"
     ]
    }
   ],
   "source": [
    "# Generate response\n",
    "results = []\n",
    "for query in tqdm(questions):\n",
    "    # Get context\n",
    "    embedding = np.array(embedding_model.embed_query(query))\n",
    "    with conn.cursor() as cur:\n",
    "        cur.execute('SELECT * FROM document ORDER BY embedding <-> %s LIMIT 5', (embedding,))\n",
    "        rows = cur.fetchall()\n",
    "        context = [{\"text\": row[1]} for row in rows]\n",
    "        sources = [row[2] for row in rows]\n",
    "        \n",
    "    # Generate response\n",
    "    user_content = f\"The question is {query} and the additional context is {context}\"[:context_length]\n",
    "    answer = generate_response(\n",
    "        llm=llm, \n",
    "        system_content=system_content, \n",
    "        assistant_content=assistant_content, \n",
    "        user_content=user_content)\n",
    "\n",
    "    # Store result\n",
    "    result = ({\n",
    "            \"question\": query,\n",
    "            \"sources\": sources,\n",
    "            \"answer\": answer,\n",
    "        })\n",
    "    results.append(result)"
   ]
  },
  {
   "cell_type": "markdown",
   "id": "a6815341-d799-4054-992e-6619c85f9959",
   "metadata": {},
   "source": [
    "### Evaluation"
   ]
  },
  {
   "cell_type": "markdown",
   "id": "935e0d57-548f-479e-a101-cad9af153bff",
   "metadata": {},
   "source": [
    "Evalute our LLM (ex. Llama 2, GPT 3.5, etc.) on our reference dataset."
   ]
  },
  {
   "cell_type": "code",
   "execution_count": 95,
   "id": "40e3c9e8-05d3-4df1-937b-50e9a676c582",
   "metadata": {
    "tags": []
   },
   "outputs": [],
   "source": [
    "llm = \"gpt-4\"\n",
    "max_context_length = 8192"
   ]
  },
  {
   "cell_type": "code",
   "execution_count": 96,
   "id": "7fd50cfc-c0c6-47c6-acb2-97fee18b9dfe",
   "metadata": {
    "tags": []
   },
   "outputs": [],
   "source": [
    "# Load answers\n",
    "with open(Path(ROOT_DIR, \"datasets/gpt-4-with-source.json\"), \"r\") as f:\n",
    "    references = [item for item in json.load(f)]\n",
    "generated = results\n",
    "assert len(references) == len(generated)"
   ]
  },
  {
   "cell_type": "code",
   "execution_count": 97,
   "id": "a959d2e8-abfb-4f52-96f6-f45209178010",
   "metadata": {
    "tags": []
   },
   "outputs": [],
   "source": [
    "# Retrieval score\n",
    "matches = np.zeros(len(references))\n",
    "for i in range(len(references)):\n",
    "    reference_source = references[i][\"source\"].split(\"#\")[0]\n",
    "    if not reference_source:\n",
    "        matches[i] = 1\n",
    "        continue\n",
    "    for source in generated[i][\"sources\"]:\n",
    "        if reference_source == source.split(\"#\")[0]:  # sections don't have to perfectly match\n",
    "            matches[i] = 1\n",
    "            continue\n",
    "print (np.mean(matches))"
   ]
  },
  {
   "cell_type": "code",
   "execution_count": 100,
   "id": "19cca0bf-c0d8-4fb2-b9f5-d33e5151ed2b",
   "metadata": {
    "tags": []
   },
   "outputs": [],
   "source": [
    "# Content\n",
    "system_content = \"\"\"\n",
    "    Your job is to rate the quality of our generated answer {generated_answer}\n",
    "    given a query {query} and a reference answer {reference_answer}.\n",
    "    Your score has to be between 1 and 5.\n",
    "    You must return your response in a line with only the score.\n",
    "    Do not return answers in any other format.\n",
    "    On a separate line provide your reasoning for the score as well.\n",
    "    \"\"\"\n",
    "assistant_content = \"\"\n",
    "context_length = max_context_length - len(system_content + assistant_content)"
   ]
  },
  {
   "cell_type": "code",
   "execution_count": 108,
   "id": "fe68c1b6-3b5e-4925-abaf-3b66088887cf",
   "metadata": {
    "tags": []
   },
   "outputs": [
    {
     "name": "stderr",
     "output_type": "stream",
     "text": [
      "100%|██████████| 189/189 [25:41<00:00,  8.15s/it]\n"
     ]
    }
   ],
   "source": [
    "# Generate response\n",
    "results = []\n",
    "for ref, gen in tqdm(zip(references, generated), total=len(references)):\n",
    "    # User prompt\n",
    "    assert ref[\"question\"]==gen[\"question\"]\n",
    "    user_content = str({\n",
    "        \"question\": gen[\"question\"],\n",
    "        \"generated_answer\": gen[\"answer\"],\n",
    "        \"reference_answer\": ref[\"answer\"]\n",
    "    })[:context_length]\n",
    "    \n",
    "    # Generate response\n",
    "    response = generate_response(\n",
    "        llm=llm,\n",
    "        system_content=system_content, \n",
    "        assistant_content=\"\", \n",
    "        user_content=user_content)\n",
    "    \n",
    "    # Extract from response\n",
    "    score, reasoning = response.split(\"\\n\", 1)\n",
    "\n",
    "    # Store result\n",
    "    result = {\n",
    "        \"question\": gen[\"question\"],\n",
    "        \"generated_answer\": gen[\"answer\"],\n",
    "        \"reference_answer\": ref[\"answer\"],\n",
    "        \"score\": float(score),\n",
    "        \"reasoning\": reasoning.lstrip(\"\\n\"),\n",
    "    }\n",
    "    results.append(result)"
   ]
  },
  {
   "cell_type": "code",
   "execution_count": 111,
   "id": "ccf62c28-c455-4bdb-95ad-649031f0aad5",
   "metadata": {
    "tags": []
   },
   "outputs": [],
   "source": [
    "# Quality score\n",
    "np.mean([item[\"score\"] for item in results])"
   ]
  }
 ],
 "metadata": {
  "kernelspec": {
   "display_name": "Python 3 (ipykernel)",
   "language": "python",
   "name": "python3"
  },
  "language_info": {
   "codemirror_mode": {
    "name": "ipython",
    "version": 3
   },
   "file_extension": ".py",
   "mimetype": "text/x-python",
   "name": "python",
   "nbconvert_exporter": "python",
   "pygments_lexer": "ipython3",
   "version": "3.8.13"
  }
 },
 "nbformat": 4,
 "nbformat_minor": 5
}
