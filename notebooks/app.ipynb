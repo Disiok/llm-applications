{
 "cells": [
  {
   "cell_type": "markdown",
   "id": "154b2d0e-f7ce-453b-b3b7-eda0666a9795",
   "metadata": {},
   "source": [
    "# Rag-based LLM Applications"
   ]
  },
  {
   "cell_type": "markdown",
   "id": "de569042-32c7-4bea-a1ef-f0e41e260645",
   "metadata": {},
   "source": [
    "- https://github.com/ray-project/llm-applications\n",
    "- https://endpoints.anyscale.com/"
   ]
  },
  {
   "cell_type": "markdown",
   "id": "35af14d4-478a-418b-a738-b17012188779",
   "metadata": {},
   "source": [
    "## Set up"
   ]
  },
  {
   "cell_type": "code",
   "execution_count": 1,
   "id": "e538090b-c736-46e7-8427-298ecc3e50f9",
   "metadata": {
    "tags": []
   },
   "outputs": [],
   "source": [
    "import os\n",
    "import openai\n",
    "from pathlib import Path\n",
    "from pprint import pprint\n",
    "import ray\n",
    "from tqdm import tqdm"
   ]
  },
  {
   "cell_type": "code",
   "execution_count": 2,
   "id": "633996c3-45b4-4ac6-961d-56b0df9156c0",
   "metadata": {
    "tags": []
   },
   "outputs": [
    {
     "data": {
      "text/plain": [
       "True"
      ]
     },
     "execution_count": 2,
     "metadata": {},
     "output_type": "execute_result"
    }
   ],
   "source": [
    "import sys; sys.path.append(\"..\")\n",
    "import warnings; warnings.filterwarnings(\"ignore\")\n",
    "from dotenv import load_dotenv; load_dotenv()"
   ]
  },
  {
   "cell_type": "code",
   "execution_count": 3,
   "id": "67203efd-979e-4ea5-97a2-f4115c02dcad",
   "metadata": {
    "tags": []
   },
   "outputs": [
    {
     "name": "stdout",
     "output_type": "stream",
     "text": [
      "/home/ray/ray-assistant\n"
     ]
    }
   ],
   "source": [
    "EFS_DIR = Path(\"/efs/shared_storage/goku\")\n",
    "ROOT_DIR = Path(os.getcwd()).parent\n",
    "print (ROOT_DIR)"
   ]
  },
  {
   "cell_type": "code",
   "execution_count": 5,
   "id": "8f36dc38-f797-4db9-9979-2450764679aa",
   "metadata": {
    "tags": []
   },
   "outputs": [
    {
     "name": "stderr",
     "output_type": "stream",
     "text": [
      "2023-08-27 21:52:11,446\tINFO worker.py:1431 -- Connecting to existing Ray cluster at address: 10.0.19.215:6379...\n",
      "2023-08-27 21:52:11,460\tINFO worker.py:1612 -- Connected to Ray cluster. View the dashboard at \u001b[1m\u001b[32mhttps://session-yn5cwtau135l5cajlbkzrdyqqp.i.anyscaleuserdata-staging.com \u001b[39m\u001b[22m\n",
      "2023-08-27 21:52:11,465\tINFO packaging.py:346 -- Pushing file package 'gcs://_ray_pkg_ea4e3a344a0ff944eea15c6740bd9ca2.zip' (0.42MiB) to Ray cluster...\n",
      "2023-08-27 21:52:11,467\tINFO packaging.py:359 -- Successfully pushed file package 'gcs://_ray_pkg_ea4e3a344a0ff944eea15c6740bd9ca2.zip'.\n"
     ]
    },
    {
     "data": {
      "application/vnd.jupyter.widget-view+json": {
       "model_id": "664bff93abec4dacae15051713d1a612",
       "version_major": 2,
       "version_minor": 0
      },
      "text/html": [
       "<div class=\"lm-Widget p-Widget lm-Panel p-Panel jp-Cell-outputWrapper\">\n",
       "    <div style=\"margin-left: 50px;display: flex;flex-direction: row;align-items: center\">\n",
       "        <div class=\"jp-RenderedHTMLCommon\" style=\"display: flex; flex-direction: row;\">\n",
       "  <svg viewBox=\"0 0 567 224\" fill=\"none\" xmlns=\"http://www.w3.org/2000/svg\" style=\"height: 3em;\">\n",
       "    <g clip-path=\"url(#clip0_4338_178347)\">\n",
       "        <path d=\"M341.29 165.561H355.29L330.13 129.051C345.63 123.991 354.21 112.051 354.21 94.2307C354.21 71.3707 338.72 58.1807 311.88 58.1807H271V165.561H283.27V131.661H311.8C314.25 131.661 316.71 131.501 319.01 131.351L341.25 165.561H341.29ZM283.29 119.851V70.0007H311.82C331.3 70.0007 342.34 78.2907 342.34 94.5507C342.34 111.271 331.34 119.861 311.82 119.861L283.29 119.851ZM451.4 138.411L463.4 165.561H476.74L428.74 58.1807H416L367.83 165.561H380.83L392.83 138.411H451.4ZM446.19 126.601H398L422 72.1407L446.24 126.601H446.19ZM526.11 128.741L566.91 58.1807H554.35L519.99 114.181L485.17 58.1807H472.44L514.01 129.181V165.541H526.13V128.741H526.11Z\" fill=\"var(--jp-ui-font-color0)\"/>\n",
       "        <path d=\"M82.35 104.44C84.0187 97.8827 87.8248 92.0678 93.1671 87.9146C98.5094 83.7614 105.083 81.5067 111.85 81.5067C118.617 81.5067 125.191 83.7614 130.533 87.9146C135.875 92.0678 139.681 97.8827 141.35 104.44H163.75C164.476 101.562 165.622 98.8057 167.15 96.2605L127.45 56.5605C121.071 60.3522 113.526 61.6823 106.235 60.3005C98.9443 58.9187 92.4094 54.9203 87.8602 49.0574C83.3109 43.1946 81.0609 35.8714 81.5332 28.4656C82.0056 21.0599 85.1679 14.0819 90.4252 8.8446C95.6824 3.60726 102.672 0.471508 110.08 0.0272655C117.487 -0.416977 124.802 1.86091 130.647 6.4324C136.493 11.0039 140.467 17.5539 141.821 24.8501C143.175 32.1463 141.816 39.6859 138 46.0505L177.69 85.7505C182.31 82.9877 187.58 81.4995 192.962 81.4375C198.345 81.3755 203.648 82.742 208.33 85.3976C213.012 88.0532 216.907 91.9029 219.616 96.5544C222.326 101.206 223.753 106.492 223.753 111.875C223.753 117.258 222.326 122.545 219.616 127.197C216.907 131.848 213.012 135.698 208.33 138.353C203.648 141.009 198.345 142.375 192.962 142.313C187.58 142.251 182.31 140.763 177.69 138L138 177.7C141.808 184.071 143.155 191.614 141.79 198.91C140.424 206.205 136.44 212.75 130.585 217.313C124.731 221.875 117.412 224.141 110.004 223.683C102.596 223.226 95.6103 220.077 90.3621 214.828C85.1139 209.58 81.9647 202.595 81.5072 195.187C81.0497 187.779 83.3154 180.459 87.878 174.605C92.4405 168.751 98.9853 164.766 106.281 163.401C113.576 162.035 121.119 163.383 127.49 167.19L167.19 127.49C165.664 124.941 164.518 122.182 163.79 119.3H141.39C139.721 125.858 135.915 131.673 130.573 135.826C125.231 139.98 118.657 142.234 111.89 142.234C105.123 142.234 98.5494 139.98 93.2071 135.826C87.8648 131.673 84.0587 125.858 82.39 119.3H60C58.1878 126.495 53.8086 132.78 47.6863 136.971C41.5641 141.163 34.1211 142.972 26.7579 142.059C19.3947 141.146 12.6191 137.574 7.70605 132.014C2.79302 126.454 0.0813599 119.29 0.0813599 111.87C0.0813599 104.451 2.79302 97.2871 7.70605 91.7272C12.6191 86.1673 19.3947 82.5947 26.7579 81.6817C34.1211 80.7686 41.5641 82.5781 47.6863 86.7696C53.8086 90.9611 58.1878 97.2456 60 104.44H82.35ZM100.86 204.32C103.407 206.868 106.759 208.453 110.345 208.806C113.93 209.159 117.527 208.258 120.522 206.256C123.517 204.254 125.725 201.276 126.771 197.828C127.816 194.38 127.633 190.677 126.253 187.349C124.874 184.021 122.383 181.274 119.205 179.577C116.027 177.88 112.359 177.337 108.826 178.042C105.293 178.746 102.113 180.654 99.8291 183.44C97.5451 186.226 96.2979 189.718 96.3 193.32C96.2985 195.364 96.7006 197.388 97.4831 199.275C98.2656 201.163 99.4132 202.877 100.86 204.32ZM204.32 122.88C206.868 120.333 208.453 116.981 208.806 113.396C209.159 109.811 208.258 106.214 206.256 103.219C204.254 100.223 201.275 98.0151 197.827 96.97C194.38 95.9249 190.676 96.1077 187.348 97.4873C184.02 98.8669 181.274 101.358 179.577 104.536C177.879 107.714 177.337 111.382 178.041 114.915C178.746 118.448 180.653 121.627 183.439 123.911C186.226 126.195 189.717 127.443 193.32 127.44C195.364 127.443 197.388 127.042 199.275 126.259C201.163 125.476 202.878 124.328 204.32 122.88ZM122.88 19.4205C120.333 16.8729 116.981 15.2876 113.395 14.9347C109.81 14.5817 106.213 15.483 103.218 17.4849C100.223 19.4868 98.0146 22.4654 96.9696 25.9131C95.9245 29.3608 96.1073 33.0642 97.4869 36.3922C98.8665 39.7202 101.358 42.4668 104.535 44.1639C107.713 45.861 111.381 46.4036 114.914 45.6992C118.447 44.9949 121.627 43.0871 123.911 40.301C126.195 37.515 127.442 34.0231 127.44 30.4205C127.44 28.3772 127.038 26.3539 126.255 24.4664C125.473 22.5788 124.326 20.8642 122.88 19.4205ZM19.42 100.86C16.8725 103.408 15.2872 106.76 14.9342 110.345C14.5813 113.93 15.4826 117.527 17.4844 120.522C19.4863 123.518 22.4649 125.726 25.9127 126.771C29.3604 127.816 33.0638 127.633 36.3918 126.254C39.7198 124.874 42.4664 122.383 44.1635 119.205C45.8606 116.027 46.4032 112.359 45.6988 108.826C44.9944 105.293 43.0866 102.114 40.3006 99.8296C37.5145 97.5455 34.0227 96.2983 30.42 96.3005C26.2938 96.3018 22.337 97.9421 19.42 100.86ZM100.86 100.86C98.3125 103.408 96.7272 106.76 96.3742 110.345C96.0213 113.93 96.9226 117.527 98.9244 120.522C100.926 123.518 103.905 125.726 107.353 126.771C110.8 127.816 114.504 127.633 117.832 126.254C121.16 124.874 123.906 122.383 125.604 119.205C127.301 116.027 127.843 112.359 127.139 108.826C126.434 105.293 124.527 102.114 121.741 99.8296C118.955 97.5455 115.463 96.2983 111.86 96.3005C109.817 96.299 107.793 96.701 105.905 97.4835C104.018 98.2661 102.303 99.4136 100.86 100.86Z\" fill=\"#00AEEF\"/>\n",
       "    </g>\n",
       "    <defs>\n",
       "        <clipPath id=\"clip0_4338_178347\">\n",
       "            <rect width=\"566.93\" height=\"223.75\" fill=\"white\"/>\n",
       "        </clipPath>\n",
       "    </defs>\n",
       "  </svg>\n",
       "</div>\n",
       "\n",
       "        <table class=\"jp-RenderedHTMLCommon\" style=\"border-collapse: collapse;color: var(--jp-ui-font-color1);font-size: var(--jp-ui-font-size1);\">\n",
       "    <tr>\n",
       "        <td style=\"text-align: left\"><b>Python version:</b></td>\n",
       "        <td style=\"text-align: left\"><b>3.8.13</b></td>\n",
       "    </tr>\n",
       "    <tr>\n",
       "        <td style=\"text-align: left\"><b>Ray version:</b></td>\n",
       "        <td style=\"text-align: left\"><b>2.6.3</b></td>\n",
       "    </tr>\n",
       "    <tr>\n",
       "    <td style=\"text-align: left\"><b>Dashboard:</b></td>\n",
       "    <td style=\"text-align: left\"><b><a href=\"http://session-yn5cwtau135l5cajlbkzrdyqqp.i.anyscaleuserdata-staging.com\" target=\"_blank\">http://session-yn5cwtau135l5cajlbkzrdyqqp.i.anyscaleuserdata-staging.com</a></b></td>\n",
       "</tr>\n",
       "\n",
       "</table>\n",
       "\n",
       "    </div>\n",
       "</div>\n"
      ],
      "text/plain": [
       "RayContext(dashboard_url='session-yn5cwtau135l5cajlbkzrdyqqp.i.anyscaleuserdata-staging.com', python_version='3.8.13', ray_version='2.6.3', ray_commit='8a434b4ee7cd48e60fa1531315d39901fac5d79e', protocol_version=None)"
      ]
     },
     "execution_count": 5,
     "metadata": {},
     "output_type": "execute_result"
    }
   ],
   "source": [
    "# Database credentials\n",
    "ray.init(runtime_env={\"env_vars\": {\n",
    "    \"OPENAI_API_BASE\": os.environ[\"OPENAI_API_BASE\"],\n",
    "    \"OPENAI_API_KEY\": os.environ[\"OPENAI_API_KEY\"], \n",
    "    \"ANYSCALE_API_BASE\": os.environ[\"ANYSCALE_API_BASE\"],\n",
    "    \"ANYSCALE_API_KEY\": os.environ[\"ANYSCALE_API_KEY\"],\n",
    "    \"DB_CONNECTION_STRING\": os.environ[\"DB_CONNECTION_STRING\"],\n",
    "}})"
   ]
  },
  {
   "cell_type": "markdown",
   "id": "4c503edd-963a-4ec3-9182-39f7afc44153",
   "metadata": {},
   "source": [
    "## Load data"
   ]
  },
  {
   "cell_type": "markdown",
   "id": "1f82562f-2b5d-4e8d-9716-b0da8670e8bf",
   "metadata": {},
   "source": [
    "Our data is already ready at `/efs/shared_storage/goku/docs.ray.io/en/master/` (on Staging, `us-east-1`) but if you wanted to load it yourself, run this bash command (change `/desired/output/directory`, but make sure it's on the shared storage,\n",
    "so that it's accessible to the workers):\n",
    "```bash\n",
    "export DOCS_PATH=/desired/output/directory\n",
    "wget -e robots=off --recursive --no-clobber --page-requisites \\\n",
    "  --html-extension --convert-links --restrict-file-names=windows \\\n",
    "  --domains docs.ray.io --no-parent --accept=html \\\n",
    "  -P $DOCS_PATH https://docs.ray.io/en/master/\n",
    "```"
   ]
  },
  {
   "cell_type": "code",
   "execution_count": 6,
   "id": "bba6b43b-ea82-4c21-a885-57178cec3b44",
   "metadata": {
    "tags": []
   },
   "outputs": [
    {
     "name": "stdout",
     "output_type": "stream",
     "text": [
      "3294 documents\n"
     ]
    }
   ],
   "source": [
    "# Ray dataset\n",
    "docs_path = Path(EFS_DIR, \"docs.ray.io/en/master/\")\n",
    "ds = ray.data.from_items([{\"path\": path} for path in docs_path.rglob(\"*.html\") if not path.is_dir()])\n",
    "print(f\"{ds.count()} documents\")"
   ]
  },
  {
   "cell_type": "markdown",
   "id": "ba9edff6-6dbf-4037-9675-ae05cd3eb7a7",
   "metadata": {
    "tags": []
   },
   "source": [
    "## Process data"
   ]
  },
  {
   "cell_type": "markdown",
   "id": "1d9a745a-6445-437c-8f91-92b274c6716f",
   "metadata": {},
   "source": [
    "### Sections"
   ]
  },
  {
   "cell_type": "code",
   "execution_count": 7,
   "id": "45eab701-0238-43e2-a7f1-3816f5e5e54b",
   "metadata": {
    "tags": []
   },
   "outputs": [],
   "source": [
    "from bs4 import BeautifulSoup, NavigableString, Tag\n",
    "import matplotlib.pyplot as plt\n",
    "import pandas as pd"
   ]
  },
  {
   "cell_type": "code",
   "execution_count": 8,
   "id": "d17bceaa-a5b0-44b0-89da-5ef4d0581771",
   "metadata": {
    "tags": []
   },
   "outputs": [],
   "source": [
    "def load_html_file(path):\n",
    "    with open(path) as f:\n",
    "        soup = BeautifulSoup(f.read())\n",
    "    html_tags = [\n",
    "        (\"div\", {\"role\": \"main\"}),\n",
    "        (\"main\", {\"id\": \"main-content\"}),\n",
    "    ]\n",
    "    text = None\n",
    "    for tag, attrs in html_tags:\n",
    "        text = soup.find(tag, attrs)\n",
    "        # if found, break\n",
    "        if text is not None:\n",
    "            break\n",
    "\n",
    "    return text"
   ]
  },
  {
   "cell_type": "code",
   "execution_count": 9,
   "id": "0202b625-b581-4242-b51c-1c6c29e42c0f",
   "metadata": {
    "tags": []
   },
   "outputs": [],
   "source": [
    "class TaggedStr:\n",
    "    def __init__(self, value, tag):\n",
    "        self.value = value\n",
    "        self.tag = tag\n",
    "\n",
    "    def __repr__(self):\n",
    "        return repr(self.value) + f\" [{self.tag}]\" if self.tag else \"\""
   ]
  },
  {
   "cell_type": "code",
   "execution_count": 10,
   "id": "234f2d9d-cd88-4352-b35f-dd51ff09fd44",
   "metadata": {
    "tags": []
   },
   "outputs": [],
   "source": [
    "def convert_to_tagged_text(path, element, section=None):\n",
    "    \"Recursively convert a BeautifulSoup element to text, keeping track of sections.\"\n",
    "    results = []\n",
    "    for child in element.children:\n",
    "        if isinstance(child, NavigableString):\n",
    "            results.append(TaggedStr(str(child), section))\n",
    "        elif isinstance(child, Tag):\n",
    "            if child.name == \"section\" and \"id\" in child.attrs:\n",
    "                results.extend(convert_to_tagged_text(path, child, section=child.attrs[\"id\"]))\n",
    "            elif not child.find_all(\"section\"):\n",
    "                results.append(TaggedStr(child.get_text(), section))\n",
    "            else:\n",
    "                results.extend(convert_to_tagged_text(path, child, section))\n",
    "    return results"
   ]
  },
  {
   "cell_type": "code",
   "execution_count": 11,
   "id": "bcae5532-9e58-46b8-bfe3-b9c133a805ec",
   "metadata": {
    "tags": []
   },
   "outputs": [],
   "source": [
    "def group_tagged_text(chunks):\n",
    "    result = []\n",
    "    for item in chunks:\n",
    "        if result and item.value.strip() == \"\":\n",
    "            result[-1].value += item.value\n",
    "        elif result and item.tag == result[-1].tag:\n",
    "            result[-1].value += item.value\n",
    "        else:\n",
    "            result.append(item)\n",
    "    return result"
   ]
  },
  {
   "cell_type": "code",
   "execution_count": 12,
   "id": "a9f6dd4b-effa-4a3e-8f6f-770c51d3ec51",
   "metadata": {
    "tags": []
   },
   "outputs": [],
   "source": [
    "def path_to_uri(path, scheme=\"https://\", domain=\"docs.ray.io\"):\n",
    "    return scheme + domain + path.split(domain)[-1]"
   ]
  },
  {
   "cell_type": "code",
   "execution_count": 13,
   "id": "7ba226d1-eb4d-46a4-9a34-b2217cc5911c",
   "metadata": {
    "tags": []
   },
   "outputs": [],
   "source": [
    "def parse_file(record):\n",
    "    html_content = load_html_file(record[\"path\"])\n",
    "    if not html_content:\n",
    "        return []\n",
    "    parsed_data = [\n",
    "        {\n",
    "            \"source\": path_to_uri(str(record[\"path\"])) + (\"#\" + chunk.tag if chunk.tag else \"\"),\n",
    "            \"text\": chunk.value,\n",
    "        }\n",
    "        for chunk in group_tagged_text(convert_to_tagged_text(record[\"path\"], html_content))\n",
    "    ]\n",
    "    return parsed_data"
   ]
  },
  {
   "cell_type": "code",
   "execution_count": 14,
   "id": "5befdbb1-92c7-41db-aaf1-6af24631c9fa",
   "metadata": {
    "tags": []
   },
   "outputs": [
    {
     "name": "stdout",
     "output_type": "stream",
     "text": [
      "/efs/shared_storage/goku/docs.ray.io/en/master/train/faq.html\n"
     ]
    }
   ],
   "source": [
    "# Paste any URL from https://docs.ray.io/en/master/ (ex. https://docs.ray.io/en/master/train/faq.html)\n",
    "docs_page_url = \"https://docs.ray.io/en/master/train/faq.html\"\n",
    "path = f\"{str(docs_path)}/{docs_page_url.split('docs.ray.io/en/master/')[-1]}\"\n",
    "print (path)"
   ]
  },
  {
   "cell_type": "code",
   "execution_count": 15,
   "id": "0f1289a8-e184-4422-918e-d32529963124",
   "metadata": {
    "tags": []
   },
   "outputs": [
    {
     "name": "stdout",
     "output_type": "stream",
     "text": [
      "[{'source': 'https://docs.ray.io/en/master/train/faq.html', 'text': '\\n\\n\\n'},\n",
      " {'source': 'https://docs.ray.io/en/master/train/faq.html#ray-train-faq',\n",
      "  'text': 'Ray Train FAQ#\\n\\n'},\n",
      " {'source': 'https://docs.ray.io/en/master/train/faq.html#how-fast-is-ray-train-compared-to-pytorch-tensorflow-etc',\n",
      "  'text': 'How fast is Ray Train compared to PyTorch, TensorFlow, etc.?#\\n'\n",
      "          'At its core, training speed should be the same - while Ray Train '\n",
      "          'launches distributed training workers via Ray Actors,\\n'\n",
      "          'communication during training (e.g. gradient synchronization) is '\n",
      "          'handled by the backend training framework itself.\\n'\n",
      "          'For example, when running Ray Train with the TorchTrainer,\\n'\n",
      "          'distributed training communication is done with Torch’s '\n",
      "          'DistributedDataParallel.\\n'\n",
      "          'Take a look at the Pytorch and Tensorflow benchmarks to check '\n",
      "          'performance parity.\\n'\n",
      "          '\\n'\n",
      "          '\\n'}]\n"
     ]
    }
   ],
   "source": [
    "# Sample\n",
    "record = {\"path\": path}\n",
    "pprint(parse_file(record)[:3])  # just first few chunks"
   ]
  },
  {
   "cell_type": "code",
   "execution_count": 16,
   "id": "78ae36c4-b683-4331-988d-afdf40c4e842",
   "metadata": {
    "tags": []
   },
   "outputs": [
    {
     "name": "stderr",
     "output_type": "stream",
     "text": [
      "2023-08-27 21:52:23,523\tINFO streaming_executor.py:92 -- Executing DAG InputDataBuffer[Input] -> TaskPoolMapOperator[FlatMap(parse_file)]\n",
      "2023-08-27 21:52:23,524\tINFO streaming_executor.py:93 -- Execution config: ExecutionOptions(resource_limits=ExecutionResources(cpu=None, gpu=None, object_store_memory=None), locality_with_output=False, preserve_order=False, actor_locality_enabled=True, verbose_progress=False)\n",
      "2023-08-27 21:52:23,525\tINFO streaming_executor.py:95 -- Tip: For detailed progress reporting, run `ray.data.DataContext.get_current().execution_options.verbose_progress = True`\n"
     ]
    },
    {
     "data": {
      "application/vnd.jupyter.widget-view+json": {
       "model_id": "",
       "version_major": 2,
       "version_minor": 0
      },
      "text/plain": [
       "Running 0:   0%|          | 0/200 [00:00<?, ?it/s]"
      ]
     },
     "metadata": {},
     "output_type": "display_data"
    },
    {
     "name": "stdout",
     "output_type": "stream",
     "text": [
      "8913\n"
     ]
    }
   ],
   "source": [
    "# Extract sections\n",
    "sections_ds = ds.flat_map(parse_file)\n",
    "sections = sections_ds.take_all()\n",
    "print (len(sections))"
   ]
  },
  {
   "cell_type": "code",
   "execution_count": 17,
   "id": "f5d6b1c9-b308-4ab1-9e30-e18e50464f34",
   "metadata": {
    "tags": []
   },
   "outputs": [
    {
     "data": {
      "text/plain": [
       "count      8913.000000\n",
       "mean       1335.435095\n",
       "std        5963.464153\n",
       "min           3.000000\n",
       "25%           3.000000\n",
       "50%         251.000000\n",
       "75%         809.000000\n",
       "max      208012.000000\n",
       "dtype: float64"
      ]
     },
     "execution_count": 17,
     "metadata": {},
     "output_type": "execute_result"
    }
   ],
   "source": [
    "# Stats summary\n",
    "sections_lengths = [len(section[\"text\"]) for section in sections]\n",
    "series = pd.Series(sections_lengths)\n",
    "series.describe()"
   ]
  },
  {
   "cell_type": "code",
   "execution_count": 18,
   "id": "06587e19-723f-4777-aefe-d002c79ad2b3",
   "metadata": {
    "tags": []
   },
   "outputs": [
    {
     "data": {
      "image/png": "[encoded data removed]",
      "text/plain": [
       "<Figure size 1800x300 with 1 Axes>"
      ]
     },
     "metadata": {},
     "output_type": "display_data"
    }
   ],
   "source": [
    "# Sections lengths\n",
    "plt.figure(figsize=(18, 3))\n",
    "plt.semilogy(sections_lengths, marker='o')\n",
    "plt.xlabel('Section')\n",
    "plt.ylabel('# of characters (log scale)')\n",
    "plt.title('Section Lengths')\n",
    "plt.show()"
   ]
  },
  {
   "cell_type": "markdown",
   "id": "f1769855-6138-4015-ae64-dd8169445dd3",
   "metadata": {
    "tags": []
   },
   "source": [
    "### Chunks"
   ]
  },
  {
   "cell_type": "markdown",
   "id": "5fc8d27e-f708-4731-aefb-458d64726775",
   "metadata": {},
   "source": [
    "Some of these sections are very large, let's apply some chunking to improve this so that we can use these sections as context later."
   ]
  },
  {
   "cell_type": "code",
   "execution_count": 19,
   "id": "0bf7145b-47d4-4b60-96a8-74c8d8315f92",
   "metadata": {
    "tags": []
   },
   "outputs": [],
   "source": [
    "from langchain.text_splitter import RecursiveCharacterTextSplitter"
   ]
  },
  {
   "cell_type": "code",
   "execution_count": 20,
   "id": "6b6337e6-07b2-459d-a666-45de3aa945c4",
   "metadata": {
    "tags": []
   },
   "outputs": [],
   "source": [
    "text_splitter = RecursiveCharacterTextSplitter(\n",
    "    separators=[\"\\n\\n\", \"\\n\", \" \", \"\"],\n",
    "    chunk_size=300,\n",
    "    chunk_overlap=50,\n",
    "    length_function=len,\n",
    ")"
   ]
  },
  {
   "cell_type": "code",
   "execution_count": 21,
   "id": "54966d0f-33ee-4503-9f40-a673710950bc",
   "metadata": {
    "tags": []
   },
   "outputs": [],
   "source": [
    "chunks = text_splitter.create_documents(\n",
    "    texts=[section[\"text\"] for section in sections], \n",
    "    metadatas=[{\"source\": section[\"source\"]} for section in sections]\n",
    ")"
   ]
  },
  {
   "cell_type": "code",
   "execution_count": 22,
   "id": "d85f61be-b2ce-4f1e-aaf9-36cd3ec5aed8",
   "metadata": {
    "tags": []
   },
   "outputs": [
    {
     "name": "stdout",
     "output_type": "stream",
     "text": [
      "57835 chunks\n",
      "\n",
      "('ray.util.state.get_actor#\\n'\n",
      " '\\n'\n",
      " '\\n'\n",
      " 'ray.util.state.get_actor(id: str, address: Optional[str] = None, timeout: '\n",
      " 'int = 30, _explain: bool = False) → Optional[Dict][source]#\\n'\n",
      " 'Get an actor by id.\\n'\n",
      " '\\n'\n",
      " 'Parameters')\n",
      "\n",
      "metadata:\n",
      "{'source': 'https://docs.ray.io/en/master/ray-observability/reference/doc/ray.util.state.get_actor.html#ray-util-state-get-actor'}\n"
     ]
    }
   ],
   "source": [
    "print (f\"{len(chunks)} chunks\\n\")\n",
    "pprint (chunks[0].page_content)  # a few tokens\n",
    "print (f\"\\nmetadata:\\n{chunks[0].metadata}\")"
   ]
  },
  {
   "cell_type": "code",
   "execution_count": 23,
   "id": "5be23c62-3108-49be-994d-5aa033162c71",
   "metadata": {
    "tags": []
   },
   "outputs": [
    {
     "name": "stderr",
     "output_type": "stream",
     "text": [
      "2023-08-27 21:52:46,643\tINFO dataset.py:2180 -- Tip: Use `take_batch()` instead of `take() / show()` to return records in pandas or numpy batch format.\n"
     ]
    },
    {
     "name": "stdout",
     "output_type": "stream",
     "text": [
      "{'text': 'ray.util.state.get_actor#\\n\\n\\nray.util.state.get_actor(id: str, address: Optional[str] = None, timeout: int = 30, _explain: bool = False) → Optional[Dict][source]#\\nGet an actor by id.\\n\\nParameters', 'source': 'https://docs.ray.io/en/master/ray-observability/reference/doc/ray.util.state.get_actor.html#ray-util-state-get-actor'}\n"
     ]
    }
   ],
   "source": [
    "# Ray dataset\n",
    "chunks_ds = ray.data.from_items([{\"text\": chunk.page_content, \"source\": chunk.metadata[\"source\"]} for chunk in chunks])\n",
    "chunks_ds.show(1)"
   ]
  },
  {
   "cell_type": "markdown",
   "id": "d9c23b31-e7b3-4078-abf7-683f448f5b19",
   "metadata": {},
   "source": [
    "## Embed data"
   ]
  },
  {
   "cell_type": "code",
   "execution_count": 24,
   "id": "712fe08b-fd19-4cb8-94d9-a7570b2dc09d",
   "metadata": {
    "tags": []
   },
   "outputs": [],
   "source": [
    "from langchain.embeddings import OpenAIEmbeddings\n",
    "from langchain.embeddings.huggingface import HuggingFaceEmbeddings\n",
    "import numpy as np\n",
    "from ray.data import ActorPoolStrategy"
   ]
  },
  {
   "cell_type": "code",
   "execution_count": 25,
   "id": "83b6a5a3-cd2d-4987-838a-be13e9553080",
   "metadata": {
    "tags": []
   },
   "outputs": [],
   "source": [
    "class EmbedChunks:\n",
    "    def __init__(self, model_name):\n",
    "        model_kwargs = {\"device\": \"cuda\"}\n",
    "        encode_kwargs = {\"device\": \"cuda\", \"batch_size\": 100}\n",
    "        if model_name == \"text-embedding-ada-002\":\n",
    "            self.embedding_model = OpenAIEmbeddings(\n",
    "                model=model_name,\n",
    "                model_kwargs=model_kwargs,\n",
    "                encode_kwargs=encode_kwargs,\n",
    "                openai_api_base=os.environ[\"OPENAI_API_BASE\"],\n",
    "                openai_api_key=os.environ[\"OPENAI_API_KEY\"])\n",
    "        else:\n",
    "            self.embedding_model = HuggingFaceEmbeddings(\n",
    "                model_name=model_name,\n",
    "                model_kwargs=model_kwargs,\n",
    "                encode_kwargs=encode_kwargs)\n",
    "    \n",
    "    def __call__(self, batch):\n",
    "        embeddings = self.embedding_model.embed_documents(batch[\"text\"])\n",
    "        return {\"text\": batch[\"text\"], \"source\": batch[\"source\"], \"embeddings\": embeddings}"
   ]
  },
  {
   "cell_type": "code",
   "execution_count": 26,
   "id": "9715a01e-dc67-4342-a0cb-30e770852097",
   "metadata": {
    "tags": []
   },
   "outputs": [],
   "source": [
    "# Embed chunks\n",
    "embedding_model_name = \"thenlper/gte-base\"\n",
    "embedded_chunks = chunks_ds.map_batches(\n",
    "    EmbedChunks,\n",
    "    fn_constructor_kwargs={\"model_name\": embedding_model_name},\n",
    "    batch_size=100, \n",
    "    num_gpus=1,\n",
    "    compute=ActorPoolStrategy(size=2))"
   ]
  },
  {
   "cell_type": "code",
   "execution_count": 27,
   "id": "67dffa1f-19a3-4411-af3f-b161a47ee164",
   "metadata": {
    "tags": []
   },
   "outputs": [
    {
     "name": "stderr",
     "output_type": "stream",
     "text": [
      "2023-08-24 01:12:51,284\tINFO streaming_executor.py:92 -- Executing DAG InputDataBuffer[Input] -> ActorPoolMapOperator[MapBatches(EmbedChunks)]\n",
      "2023-08-24 01:12:51,285\tINFO streaming_executor.py:93 -- Execution config: ExecutionOptions(resource_limits=ExecutionResources(cpu=None, gpu=None, object_store_memory=None), locality_with_output=False, preserve_order=False, actor_locality_enabled=True, verbose_progress=False)\n",
      "2023-08-24 01:12:51,286\tINFO streaming_executor.py:95 -- Tip: For detailed progress reporting, run `ray.data.DataContext.get_current().execution_options.verbose_progress = True`\n",
      "2023-08-24 01:12:51,303\tINFO actor_pool_map_operator.py:117 -- MapBatches(EmbedChunks): Waiting for 2 pool actors to start...\n"
     ]
    },
    {
     "data": {
      "application/vnd.jupyter.widget-view+json": {
       "model_id": "",
       "version_major": 2,
       "version_minor": 0
      },
      "text/plain": [
       "Running 0:   0%|          | 0/200 [00:00<?, ?it/s]"
      ]
     },
     "metadata": {},
     "output_type": "display_data"
    },
    {
     "name": "stderr",
     "output_type": "stream",
     "text": [
      "2023-08-24 01:13:17,289\tWARNING actor_pool_map_operator.py:275 -- To ensure full parallelization across an actor pool of size 2, the Dataset should consist of at least 2 distinct blocks. Consider increasing the parallelism when creating the Dataset.\n"
     ]
    },
    {
     "name": "stdout",
     "output_type": "stream",
     "text": [
      "embedding size: 768\n",
      "('id – Id of the task\\n'\n",
      " 'address – Ray bootstrap address, could be auto, localhost:6379.\\n'\n",
      " 'If None, it will be resolved automatically from an initialized ray.\\n'\n",
      " 'timeout – Max timeout value for the state APIs requests made.\\n'\n",
      " '_explain – Print the API information such as API latency or')\n"
     ]
    }
   ],
   "source": [
    "# Sample\n",
    "sample = embedded_chunks.take(5)\n",
    "print (\"embedding size:\", len(sample[0][\"embeddings\"]))\n",
    "pprint(sample[0][\"text\"])"
   ]
  },
  {
   "cell_type": "markdown",
   "id": "09187588-e1dc-44c5-b88b-cc8ebe3f9c48",
   "metadata": {},
   "source": [
    "## Index data"
   ]
  },
  {
   "cell_type": "code",
   "execution_count": 27,
   "id": "bb6bf17c-da04-4bd8-af2f-dc79e4e27913",
   "metadata": {
    "tags": []
   },
   "outputs": [],
   "source": [
    "import psycopg\n",
    "from pgvector.psycopg import register_vector"
   ]
  },
  {
   "cell_type": "code",
   "execution_count": 28,
   "id": "031a6487-c757-46bc-bc20-1e6a135fee6c",
   "metadata": {
    "tags": []
   },
   "outputs": [],
   "source": [
    "class StoreResults:\n",
    "    def __call__(self, batch):\n",
    "        with psycopg.connect(os.environ[\"DB_CONNECTION_STRING\"]) as conn:\n",
    "            register_vector(conn)\n",
    "            with conn.cursor() as cur:\n",
    "                for text, source, embedding in zip(batch[\"text\"], batch[\"source\"], batch[\"embeddings\"]):\n",
    "                    cur.execute(\"INSERT INTO document (text, source, embedding) VALUES (%s, %s, %s)\", (text, source, embedding,),)\n",
    "        return {}"
   ]
  },
  {
   "cell_type": "code",
   "execution_count": null,
   "id": "c7ae20ca-1371-48d6-bc84-6d11a425c3f5",
   "metadata": {},
   "outputs": [],
   "source": [
    "%%bash\n",
    "# Set up pgvector\n",
    "bash ../setup-pgvector.sh"
   ]
  },
  {
   "cell_type": "code",
   "execution_count": 30,
   "id": "806b47aa-f3c1-44d3-b041-a3a4f0867653",
   "metadata": {
    "tags": []
   },
   "outputs": [
    {
     "name": "stdout",
     "output_type": "stream",
     "text": [
      "DELETE 0\n"
     ]
    }
   ],
   "source": [
    "%%bash\n",
    "# Drop current vector DB (if any)\n",
    "psql \"$DB_CONNECTION_STRING\" -c \"DROP TABLE document;\"\n",
    "sudo -u postgres psql -f ../migrations/vector-768.sql"
   ]
  },
  {
   "cell_type": "code",
   "execution_count": 31,
   "id": "9c4582d9-40ba-4a94-81ac-259b3851f837",
   "metadata": {
    "tags": []
   },
   "outputs": [
    {
     "name": "stderr",
     "output_type": "stream",
     "text": [
      "2023-08-24 01:13:17,707\tINFO streaming_executor.py:92 -- Executing DAG InputDataBuffer[Input] -> ActorPoolMapOperator[MapBatches(EmbedChunks)] -> ActorPoolMapOperator[MapBatches(StoreResults)]\n",
      "2023-08-24 01:13:17,708\tINFO streaming_executor.py:93 -- Execution config: ExecutionOptions(resource_limits=ExecutionResources(cpu=None, gpu=None, object_store_memory=None), locality_with_output=False, preserve_order=False, actor_locality_enabled=True, verbose_progress=False)\n",
      "2023-08-24 01:13:17,709\tINFO streaming_executor.py:95 -- Tip: For detailed progress reporting, run `ray.data.DataContext.get_current().execution_options.verbose_progress = True`\n",
      "2023-08-24 01:13:17,729\tINFO actor_pool_map_operator.py:117 -- MapBatches(EmbedChunks): Waiting for 2 pool actors to start...\n",
      "2023-08-24 01:13:35,760\tINFO actor_pool_map_operator.py:117 -- MapBatches(StoreResults): Waiting for 28 pool actors to start...\n"
     ]
    },
    {
     "data": {
      "application/vnd.jupyter.widget-view+json": {
       "model_id": "",
       "version_major": 2,
       "version_minor": 0
      },
      "text/plain": [
       "Running 0:   0%|          | 0/200 [00:00<?, ?it/s]"
      ]
     },
     "metadata": {},
     "output_type": "display_data"
    },
    {
     "name": "stderr",
     "output_type": "stream",
     "text": [
      "2023-08-24 01:21:22,479\tWARNING actor_pool_map_operator.py:267 -- To ensure full parallelization across an actor pool of size 28, the specified batch size should be at most 0. Your configured batch size for this operator was 128.\n"
     ]
    },
    {
     "data": {
      "text/plain": [
       "0"
      ]
     },
     "execution_count": 31,
     "metadata": {},
     "output_type": "execute_result"
    }
   ],
   "source": [
    "# Index data\n",
    "embedded_chunks.map_batches(\n",
    "    StoreResults,\n",
    "    batch_size=128,\n",
    "    num_cpus=1,\n",
    "    compute=ActorPoolStrategy(size=28),\n",
    ").count()"
   ]
  },
  {
   "cell_type": "code",
   "execution_count": 32,
   "id": "04fbfb53-f121-435b-8e26-77715d5ffe38",
   "metadata": {
    "tags": []
   },
   "outputs": [
    {
     "name": "stdout",
     "output_type": "stream",
     "text": [
      " count \n",
      "-------\n",
      " 57835\n",
      "(1 row)\n",
      "\n"
     ]
    }
   ],
   "source": [
    "%%bash\n",
    "# Check number of rows\n",
    "psql \"$DB_CONNECTION_STRING\" -c \"SELECT count(*) FROM document;\" "
   ]
  },
  {
   "cell_type": "code",
   "execution_count": null,
   "id": "40925cd6-41e8-4651-9692-aeb399b68af6",
   "metadata": {},
   "outputs": [],
   "source": [
    "%%bash\n",
    "# Save index\n",
    "export SQL_DUMP_FP=\"/efs/shared_storage/goku/sql_dumps/gte-base_300_50.sql\"\n",
    "sudo -u postgres pg_dump -c > $SQL_DUMP_FP  # save"
   ]
  },
  {
   "cell_type": "markdown",
   "id": "318798c3-d119-4eb5-ad81-b2834516151a",
   "metadata": {},
   "source": [
    "## Retrieval"
   ]
  },
  {
   "cell_type": "code",
   "execution_count": 29,
   "id": "480d4c49-5870-471e-a617-86f7d3fa13d0",
   "metadata": {
    "tags": []
   },
   "outputs": [],
   "source": [
    "import json\n",
    "import numpy as np"
   ]
  },
  {
   "cell_type": "code",
   "execution_count": 30,
   "id": "4827efb7-487b-4368-8880-c7480511c8cf",
   "metadata": {
    "tags": []
   },
   "outputs": [],
   "source": [
    "embedding_model = HuggingFaceEmbeddings(model_name=embedding_model_name)\n",
    "conn = psycopg.connect(os.environ[\"DB_CONNECTION_STRING\"])\n",
    "register_vector(conn)"
   ]
  },
  {
   "cell_type": "code",
   "execution_count": 35,
   "id": "39c3f410-89a2-4992-8cd1-63aca5bf9936",
   "metadata": {
    "tags": []
   },
   "outputs": [
    {
     "data": {
      "text/plain": [
       "768"
      ]
     },
     "execution_count": 35,
     "metadata": {},
     "output_type": "execute_result"
    }
   ],
   "source": [
    "# Embed query\n",
    "query = \"What is the default batch size for map_batches?\"\n",
    "embedding = np.array(embedding_model.embed_query(query))\n",
    "len(embedding)"
   ]
  },
  {
   "cell_type": "code",
   "execution_count": 36,
   "id": "cc9b25ed-fa16-48df-9e1b-a94c33891a3c",
   "metadata": {
    "tags": []
   },
   "outputs": [],
   "source": [
    "with conn.cursor() as cur:\n",
    "    cur.execute(\"SELECT * FROM document ORDER BY embedding <-> %s LIMIT 5\", (embedding,))\n",
    "    rows = cur.fetchall()\n",
    "    context = [{\"text\": row[1], \"source\": row[2]} for row in rows]"
   ]
  },
  {
   "cell_type": "code",
   "execution_count": 37,
   "id": "b0197e98-5fee-4be0-bdf5-2d975216aa4b",
   "metadata": {
    "tags": []
   },
   "outputs": [
    {
     "name": "stdout",
     "output_type": "stream",
     "text": [
      "https://docs.ray.io/en/master/data/api/doc/ray.data.Dataset.map_batches.html#ray-data-dataset-map-batches\n",
      "entire blocks as batches (blocks may contain different numbers of rows).\n",
      "The actual size of the batch provided to fn may be smaller than\n",
      "batch_size if batch_size doesn’t evenly divide the block(s) sent\n",
      "to a given map task. Default batch_size is 4096 with “default”.\n",
      "\n",
      "https://docs.ray.io/en/master/_modules/ray/data/dataset.html\n",
      "``batch_size`` if ``batch_size`` doesn't evenly divide the block(s) sent\n",
      "                to a given map task. Default batch_size is 4096 with \"default\".\n",
      "            compute: Either \"tasks\" (default) to use Ray Tasks or an\n",
      "\n",
      "https://docs.ray.io/en/master/ray-air/api/doc/ray.data.preprocessors.BatchMapper.html#ray-data-preprocessors-batchmapper\n",
      "contain different number of rows) and the actual size of the batch provided\n",
      "to fn may be smaller than batch_size if batch_size doesn’t\n",
      "evenly divide the block(s) sent to a given map task. Defaults to 4096,\n",
      "which is the same default value as dataset.map_batches().\n",
      "\n",
      "https://docs.ray.io/en/master/data/transforming-data.html#configuring-batch-size\n",
      "Note\n",
      "The default batch size depends on your resource type. If you’re using CPUs,\n",
      "the default batch size is 4096. If you’re using GPUs, you must specify an explicit\n",
      "batch size.\n",
      "\n",
      "https://docs.ray.io/en/master/_modules/ray/data/context.html\n",
      "# Default batch size for batch transformations.\n",
      "DEFAULT_BATCH_SIZE = 4096\n",
      "\n",
      "# Default batch size for batch transformations in strict mode.\n",
      "STRICT_MODE_DEFAULT_BATCH_SIZE = 1024\n",
      "\n"
     ]
    }
   ],
   "source": [
    "for item in context:\n",
    "    print (item[\"source\"])\n",
    "    print (item[\"text\"])\n",
    "    print ()"
   ]
  },
  {
   "cell_type": "markdown",
   "id": "f5738d23-91e3-4016-826e-716872f76b62",
   "metadata": {
    "tags": []
   },
   "source": [
    "## Generation"
   ]
  },
  {
   "cell_type": "code",
   "execution_count": 31,
   "id": "b55cc1d7-e110-4d9d-abc4-36576db25f92",
   "metadata": {
    "tags": []
   },
   "outputs": [],
   "source": [
    "import time"
   ]
  },
  {
   "cell_type": "code",
   "execution_count": 32,
   "id": "697e65e8-4d69-4870-9f09-0e128008b94e",
   "metadata": {
    "tags": []
   },
   "outputs": [],
   "source": [
    "def generate_response(\n",
    "    llm, temperature=0.0, \n",
    "    system_content=\"\", assistant_content=\"\", user_content=\"\", \n",
    "    max_retries=3, retry_interval=60):\n",
    "    \"\"\"Generate response from an LLM.\"\"\"\n",
    "    retry_count = 0\n",
    "    while retry_count < max_retries:\n",
    "        try:\n",
    "            response = openai.ChatCompletion.create(\n",
    "                model=llm,\n",
    "                temperature=temperature,\n",
    "                messages=[\n",
    "                    {\"role\": \"system\", \"content\": system_content},\n",
    "                    {\"role\": \"assistant\", \"content\": assistant_content},\n",
    "                    {\"role\": \"user\", \"content\": user_content},\n",
    "                ],\n",
    "            )\n",
    "            return response[\"choices\"][-1][\"message\"][\"content\"]\n",
    "        except Exception as e:\n",
    "            print(e)\n",
    "            time.sleep(retry_interval)  # default is per-minute rate limits\n",
    "            retry_count += 1\n",
    "    return \"\""
   ]
  },
  {
   "cell_type": "code",
   "execution_count": 40,
   "id": "b76e2b44-dfdf-4f98-ba01-dda13e7c1677",
   "metadata": {
    "tags": []
   },
   "outputs": [],
   "source": [
    "# Credentials\n",
    "openai.api_base = os.environ[\"ANYSCALE_API_BASE\"]\n",
    "openai.api_key = os.environ[\"ANYSCALE_API_KEY\"]"
   ]
  },
  {
   "cell_type": "code",
   "execution_count": 41,
   "id": "9de3685b-6839-445f-9baa-68a5e863562a",
   "metadata": {
    "tags": []
   },
   "outputs": [
    {
     "data": {
      "text/plain": [
       "\"The default batch size for map_batches is 4096. This is mentioned in multiple sources, including the Ray Documentation for map_batches, the Ray Documentation for BatchMapper, and the Ray Documentation for configuring batch size. The default batch size is also mentioned in the Ray Data API documentation for dataset.map_batches().\\n\\nIt's worth noting that the actual batch size provided to the function may be smaller than the specified batch size if the batch size doesn't evenly divide the block(s) sent to a given map task. Additionally, the default batch size may be different depending on the resource type being used, with a default of 4096 for CPUs and a requirement for an explicit batch size for GPUs.\""
      ]
     },
     "execution_count": 41,
     "metadata": {},
     "output_type": "execute_result"
    }
   ],
   "source": [
    "# Generate response\n",
    "generate_response(\n",
    "    llm=\"meta-llama/Llama-2-70b-chat-hf\",\n",
    "    temperature=0.0,\n",
    "    system_content=\"Answer the {query} using the provided {context}\",\n",
    "    user_content=f\"query: {query}, context: {context}\"\n",
    ")"
   ]
  },
  {
   "cell_type": "markdown",
   "id": "9c2b39d3-83f9-497d-960d-8756068af7f2",
   "metadata": {},
   "source": [
    "### Query Agent"
   ]
  },
  {
   "cell_type": "markdown",
   "id": "bad51191-19d1-40d5-bbc8-72245fafd154",
   "metadata": {},
   "source": [
    "Let's combine the context retrieval and response generation together into a conventient query agent that we can use to easily generate our responses."
   ]
  },
  {
   "cell_type": "code",
   "execution_count": 64,
   "id": "ffcc892a-ceee-487a-aecf-db116f53e89f",
   "metadata": {
    "tags": []
   },
   "outputs": [],
   "source": [
    "class QueryAgent:\n",
    "    def __init__(self, embedding_model_name=\"thenlper/gte-base\",\n",
    "                 llm=\"meta-llama/Llama-2-70b-chat-hf\", \n",
    "                 temperature=0.0, max_context_length=4096,\n",
    "                 system_content=\"\", assistant_content=\"\"):\n",
    "        \n",
    "        # Embedding model\n",
    "        model_kwargs = {\"device\": \"cuda\"}\n",
    "        encode_kwargs = {\"device\": \"cuda\", \"batch_size\": 100}\n",
    "        if embedding_model_name == \"text-embedding-ada-002\":\n",
    "            self.embedding_model = OpenAIEmbeddings(\n",
    "                model=embedding_model_name,\n",
    "                model_kwargs=model_kwargs,\n",
    "                encode_kwargs=encode_kwargs,\n",
    "                openai_api_base=os.environ[\"OPENAI_API_BASE\"],\n",
    "                openai_api_key=os.environ[\"OPENAI_API_KEY\"])\n",
    "        else:\n",
    "            self.embedding_model = HuggingFaceEmbeddings(\n",
    "                model_name=embedding_model_name,\n",
    "                model_kwargs=model_kwargs,\n",
    "                encode_kwargs=encode_kwargs)\n",
    "            \n",
    "        self.llm = llm\n",
    "        self.temperature = temperature\n",
    "        self.context_length = max_context_length - len(system_content + assistant_content)\n",
    "        self.system_content = system_content\n",
    "        self.assistant_content = assistant_content\n",
    "\n",
    "        # VectorDB connection\n",
    "        self.conn = psycopg.connect(os.environ[\"DB_CONNECTION_STRING\"])\n",
    "        register_vector(self.conn)\n",
    "\n",
    "    def __call__(self, query, num_chunks=5):\n",
    "        # Get context\n",
    "        embedding = np.array(self.embedding_model.embed_query(query))\n",
    "        with self.conn.cursor() as cur:\n",
    "            cur.execute(\"SELECT * FROM document ORDER BY embedding <-> %s LIMIT %s\", (embedding, num_chunks))\n",
    "            rows = cur.fetchall()\n",
    "            context = [{\"text\": row[1]} for row in rows]\n",
    "            sources = [row[2] for row in rows]\n",
    "\n",
    "        # Generate response\n",
    "        user_content = f\"query: {query}, context: {context}\"\n",
    "        answer = generate_response(\n",
    "            llm=self.llm,\n",
    "            temperature=self.temperature,\n",
    "            system_content=self.system_content,\n",
    "            assistant_content=self.assistant_content,\n",
    "            user_content=user_content[: self.context_length],\n",
    "        )\n",
    "\n",
    "        # Result\n",
    "        result = {\n",
    "            \"question\": query,\n",
    "            \"sources\": sources,\n",
    "            \"answer\": answer,\n",
    "        }\n",
    "        return result"
   ]
  },
  {
   "cell_type": "code",
   "execution_count": 43,
   "id": "ad3b1224-922b-40b5-9979-9075c6ef100e",
   "metadata": {
    "tags": []
   },
   "outputs": [
    {
     "name": "stdout",
     "output_type": "stream",
     "text": [
      "{\n",
      "  \"question\": \"What is the default batch size for map_batches?\",\n",
      "  \"sources\": [\n",
      "    \"https://docs.ray.io/en/master/data/api/doc/ray.data.Dataset.map_batches.html#ray-data-dataset-map-batches\",\n",
      "    \"https://docs.ray.io/en/master/_modules/ray/data/dataset.html\",\n",
      "    \"https://docs.ray.io/en/master/ray-air/api/doc/ray.data.preprocessors.BatchMapper.html#ray-data-preprocessors-batchmapper\",\n",
      "    \"https://docs.ray.io/en/master/data/transforming-data.html#configuring-batch-size\",\n",
      "    \"https://docs.ray.io/en/master/_modules/ray/data/context.html\"\n",
      "  ],\n",
      "  \"answer\": \"The default batch size for `map_batches` is 4096, as specified in the context provided. However, it's important to note that the actual batch size provided to the function may be smaller than the default batch size if the block(s) sent to a given map task don't evenly divide the batch size. Additionally, the default batch size may vary depending on the resource type being used, with a default batch size of 4096 for CPUs and a different default batch size for GPUs.\"\n",
      "}\n"
     ]
    }
   ],
   "source": [
    "query = \"What is the default batch size for map_batches?\"\n",
    "system_content = \"Your job is to answer a question using the additional context provided.\"\n",
    "agent = QueryAgent(\n",
    "    embedding_model_name=\"thenlper/gte-base\",\n",
    "    llm=\"meta-llama/Llama-2-7b-chat-hf\",\n",
    "    max_context_length=4096,\n",
    "    system_content=system_content,\n",
    ")\n",
    "result = agent(query=query)\n",
    "print(json.dumps(result, indent=2))"
   ]
  },
  {
   "cell_type": "markdown",
   "id": "4fa7a068-fc77-4928-bf58-52321616f9d5",
   "metadata": {},
   "source": [
    "## References"
   ]
  },
  {
   "cell_type": "markdown",
   "id": "03acb7e0-7bcb-4e2f-8552-5fe182a278db",
   "metadata": {},
   "source": [
    "We'll start by creating our reference (ground-truth) dataset. We have a list of user queries and the ideal source to answer the query [`datasets/eval-dataset-v1.jsonl`](https://github.com/ray-project/llm-applications/blob/main/datasets/eval-dataset-v1.jsonl). We will our LLM app above to generate reference answer for each query/source pair using `gpt-4`."
   ]
  },
  {
   "cell_type": "code",
   "execution_count": 34,
   "id": "fa6cab00-d68d-4745-a735-048d72d8e5d6",
   "metadata": {
    "tags": []
   },
   "outputs": [],
   "source": [
    "import re"
   ]
  },
  {
   "cell_type": "code",
   "execution_count": 35,
   "id": "ca019cc9-3241-4453-b63d-ef7c44ba584a",
   "metadata": {
    "tags": []
   },
   "outputs": [],
   "source": [
    "with open(Path(ROOT_DIR, \"datasets/eval-dataset-v1.jsonl\"), \"r\") as f:\n",
    "    data = [json.loads(item) for item in list(f)]"
   ]
  },
  {
   "cell_type": "code",
   "execution_count": 36,
   "id": "716b02e5-1ab5-4d19-aaea-cc89d28de508",
   "metadata": {
    "tags": []
   },
   "outputs": [],
   "source": [
    "# Clean up\n",
    "for row in data:\n",
    "    row[\"source\"] = row[\"source\"].replace(\"https://docs.ray.io/en/latest/\", \"https://docs.ray.io/en/master/\")"
   ]
  },
  {
   "cell_type": "code",
   "execution_count": 37,
   "id": "3cd9e509-1fe6-42ad-886f-0e118e8dd35d",
   "metadata": {
    "tags": []
   },
   "outputs": [
    {
     "data": {
      "text/plain": [
       "[{'question': 'I’m struggling a bit with Ray Data type conversions when I do map_batches. Any advice?',\n",
       "  'source': 'https://docs.ray.io/en/master/data/transforming-data.html#configuring-batch-format'},\n",
       " {'question': 'How does autoscaling work in a Ray Serve application?',\n",
       "  'source': 'https://docs.ray.io/en/master/serve/scaling-and-resource-allocation.html#autoscaling'},\n",
       " {'question': 'how do I get the address of a ray node',\n",
       "  'source': 'https://docs.ray.io/en/master/ray-core/miscellaneous.html#node-information'},\n",
       " {'question': 'Does Ray support NCCL?',\n",
       "  'source': 'https://docs.ray.io/en/master/ray-more-libs/ray-collective.html'},\n",
       " {'question': 'could you give me an example of using this library for data-parallel training of CNNs on Ray?',\n",
       "  'source': 'https://docs.ray.io/en/master/ray-air/computer-vision.html#training-vision-models'}]"
      ]
     },
     "execution_count": 37,
     "metadata": {},
     "output_type": "execute_result"
    }
   ],
   "source": [
    "data[:5]"
   ]
  },
  {
   "cell_type": "code",
   "execution_count": 38,
   "id": "7e1eb37d-38d2-45dd-8e57-789fc20bb9ca",
   "metadata": {
    "tags": []
   },
   "outputs": [],
   "source": [
    "# Section per document (page) dict\n",
    "sections_per_doc = {section[\"source\"]: section[\"text\"] for section in sections}\n",
    "for section in sections:\n",
    "    page = section[\"source\"]\n",
    "    if \"#\" not in page:\n",
    "        page_sections = [key for key in sections_per_doc.keys() if key.startswith(page)]\n",
    "        combined_text = \"\\n\".join(sections_per_doc[page_section] for page_section in page_sections)\n",
    "        sections_per_doc[page] = combined_text"
   ]
  },
  {
   "cell_type": "code",
   "execution_count": 39,
   "id": "1c9a74a6-501e-4024-8faf-5776b323691f",
   "metadata": {
    "tags": []
   },
   "outputs": [
    {
     "data": {
      "text/plain": [
       "'\\n\\n\\n\\nKey Concepts of Ray Train#\\nThere are three main concepts in the Ray Train library.\\n\\nTrainers execute distributed training.\\nConfiguration objects are used to configure training.\\nCheckpoints are returned as the result of training.\\n\\n\\n\\nTrainers#\\nTrainers are responsible for executing (distributed) training runs.\\nThe output of a Trainer run is a Result that contains\\nmetrics from the training run and the latest saved Checkpoint.\\nTrainers can also be configured with Datasets and Preprocessors for scalable data ingest and preprocessing.\\n\\n\\nDeep Learning, Tree-Based, and other Trainers#\\nThere are three categories of built-in Trainers:\\n\\n\\n\\nDeep Learning Trainers\\nRay Train supports the following deep learning trainers:\\n\\nTorchTrainer\\nTensorflowTrainer\\nHorovodTrainer\\nLightningTrainer\\n\\nFor these trainers, you usually define your own training function that loads the model\\nand executes single-worker training steps. Refer to the following guides for more details:\\n\\nDistributed PyTorch\\nDistributed TensorFlow\\nHorovod\\n\\n\\n\\n\\nTree-Based Trainers\\nTree-based trainers utilize gradient-based decision trees for training. The most popular libraries\\nfor this are XGBoost and LightGBM.\\n\\nXGBoostTrainer\\nLightGBMTrainer\\n\\nFor these trainers, you just pass a dataset and parameters. The training loop is configured\\nautomatically.\\n\\nDistributed XGBoost/LightGBM\\n\\n\\n\\n\\nOther Trainers\\nSome trainers don’t fit into the other two categories, such as:\\n\\nTransformersTrainer for NLP\\nRLTrainer for reinforcement learning\\nSklearnTrainer for (non-distributed) training of sklearn models.\\n\\n\\n\\n\\n\\n\\n\\nTrain Configuration#\\nTrainers are configured with configuration objects. There are two main configuration classes,\\nthe ScalingConfig and the RunConfig.\\nThe latter contains subconfigurations, such as the FailureConfig,\\nSyncConfig and CheckpointConfig.\\n\\n\\n\\nTrain Checkpoints#\\nCalling Trainer.fit() returns a Result object, which includes\\ninformation about the run such as the reported metrics and the saved checkpoints.\\nCheckpoints have the following purposes:\\n\\nThey can be passed to a Trainer to resume training from the given model state.\\nThey can be used to create a Predictor / BatchPredictor for scalable batch prediction.\\nThey can be deployed with Ray Serve.\\n\\n\\n\\n\\n'"
      ]
     },
     "execution_count": 39,
     "metadata": {},
     "output_type": "execute_result"
    }
   ],
   "source": [
    "sections_per_doc['https://docs.ray.io/en/master/train/key-concepts.html']"
   ]
  },
  {
   "cell_type": "code",
   "execution_count": 40,
   "id": "63f8d062-abac-4e66-bc66-ecb1789370f6",
   "metadata": {
    "tags": []
   },
   "outputs": [],
   "source": [
    "# Checking if any sources are not in our parsed sources\n",
    "for i, row in enumerate(data):\n",
    "    if row[\"source\"].startswith(\"https://docs.ray.io\"):\n",
    "        if row[\"source\"] not in sections_per_doc:\n",
    "            print(i, row[\"source\"])"
   ]
  },
  {
   "cell_type": "code",
   "execution_count": 41,
   "id": "dec3460f-c07a-4a2f-95f7-d1ef85d1a064",
   "metadata": {
    "tags": []
   },
   "outputs": [],
   "source": [
    "# Content for inference\n",
    "system_content = \"\"\"\n",
    "    Your job is {answer} a {query} using the additional {context} provided.\n",
    "    Then, you must {score} your response between 1 and 5.\n",
    "    You must return your response in a line with only the score.\n",
    "    Do not add any more details.\n",
    "    On a separate line provide your {reasoning} for the score as well.\n",
    "    Return your response following the exact format outlined below.\n",
    "    Do not add or remove anything.\n",
    "    And all of this must be in a valid JSON format.\n",
    "    \n",
    "    {\"answer\": answer,\n",
    "     \"score\": score,\n",
    "     \"reasoning\": reasoning}\n",
    "    \"\"\"\n",
    "assistant_content = \"\""
   ]
  },
  {
   "cell_type": "code",
   "execution_count": 42,
   "id": "8a67f8a6-c742-4c40-b8e5-d2c5fb70fec2",
   "metadata": {
    "tags": []
   },
   "outputs": [],
   "source": [
    "def extract_from_response(response):\n",
    "    # Define regular expressions for extracting values\n",
    "    answer_pattern = r'\"answer\"\\s*:\\s*\"([^\"]*)\"'\n",
    "    score_pattern = r'\"score\"\\s*:\\s*([0-9]+)'\n",
    "    reasoning_pattern = r'\"reasoning\"\\s*:\\s*\"([^\"]*)\"'\n",
    "\n",
    "    # Extract values using regular expressions\n",
    "    answer_match = re.search(answer_pattern, response)\n",
    "    score_match = re.search(score_pattern, response)\n",
    "    reasoning_match = re.search(reasoning_pattern, response)\n",
    "\n",
    "    # Convert\n",
    "    if answer_match and score_match and reasoning_match:\n",
    "        answer = answer_match.group(1)\n",
    "        score = float(score_match.group(1))\n",
    "        reasoning = reasoning_match.group(1)\n",
    "        return answer, score, reasoning\n",
    "\n",
    "    return \"\", \"\", \"\""
   ]
  },
  {
   "cell_type": "code",
   "execution_count": 43,
   "id": "63c2db65-36fc-48cb-8e86-18b96554f977",
   "metadata": {
    "tags": []
   },
   "outputs": [],
   "source": [
    "def get_references(data, sections_per_doc, llm, temperature, max_context_length, system_content, assistant_content):\n",
    "    results = []\n",
    "    for row in tqdm(data):\n",
    "        # Get context\n",
    "        query = row[\"question\"]\n",
    "        context = sections_per_doc.get(row[\"source\"], \"\")\n",
    "\n",
    "        # Generate response\n",
    "        context_length = max_context_length - len(system_content + assistant_content)\n",
    "        user_content = f\"The query is {query} and the additional context is {context}\"[:context_length]\n",
    "        response = generate_response(\n",
    "            llm=llm,\n",
    "            temperature=temperature,\n",
    "            system_content=system_content, \n",
    "            assistant_content=assistant_content, \n",
    "            user_content=user_content)\n",
    "\n",
    "        # Extract from response\n",
    "        answer, score, reasoning = extract_from_response(response=response)\n",
    "\n",
    "        # Store result\n",
    "        result = ({\n",
    "                \"question\": query,\n",
    "                \"source\": row[\"source\"],\n",
    "                \"answer\": answer,\n",
    "                \"score\": score,\n",
    "                \"reasoning\": reasoning,\n",
    "            })\n",
    "        results.append(result)\n",
    "    return results"
   ]
  },
  {
   "cell_type": "markdown",
   "id": "4bbd2ab6-1cf5-4a81-a2ac-42d8fbca7417",
   "metadata": {},
   "source": [
    "### gpt-4"
   ]
  },
  {
   "cell_type": "code",
   "execution_count": 130,
   "id": "73f83147-be5a-447e-9237-f1c81199d7b7",
   "metadata": {
    "tags": []
   },
   "outputs": [],
   "source": [
    "openai.api_base = os.environ[\"OPENAI_API_BASE\"]\n",
    "openai.api_key = os.environ[\"OPENAI_API_KEY\"]"
   ]
  },
  {
   "cell_type": "code",
   "execution_count": null,
   "id": "25cb4b98-ddc7-462e-8d6f-92f703bfc838",
   "metadata": {
    "tags": []
   },
   "outputs": [],
   "source": [
    "llm = \"gpt-4\"\n",
    "max_context_length = 8192\n",
    "results = get_references(\n",
    "    data=data, sections_per_doc=sections_per_doc, \n",
    "    llm=llm, temperature=0.0, max_context_length=max_context_length, \n",
    "    system_content=system_content, assistant_content=assistant_content)"
   ]
  },
  {
   "cell_type": "markdown",
   "id": "4447323f-6e5e-4c22-8569-0684331b85a2",
   "metadata": {
    "tags": []
   },
   "source": [
    "If we have some errors in our results, we can rerun those samples again. We could use function calling here but we'll also experiment with generating these reference answers with OSS LLMs (ex. `Llama-2-70b`) which don't have function calling:\n",
    "\n",
    "```python\n",
    "error_indices = [i for i, row in enumerate(results) if row[\"answer\"] == \"\" and row[\"source\"].startswith(\"https://docs.ray.io\")]\n",
    "for i in tqdm(error_indices):\n",
    "    row = results[i]\n",
    "    query = row[\"question\"]\n",
    "    context = sections_per_doc.get(row[\"source\"], \"\")\n",
    "    user_content = f\"The question is {query} and the additional context is {context}\"[:max_context_length]\n",
    "    response = generate_response(\n",
    "        llm=llm, \n",
    "        system_content=system_content, \n",
    "        assistant_content=assistant_content, \n",
    "        user_content=user_content)\n",
    "    answer, score, reasoning = extract_from_response(response=response)\n",
    "    result = ({\n",
    "            \"question\": query,\n",
    "            \"source\": row[\"source\"],\n",
    "            \"answer\": answer,\n",
    "            \"score\": score,\n",
    "            \"reasoning\": reasoning,\n",
    "        })\n",
    "    results[i] = result\n",
    "```"
   ]
  },
  {
   "cell_type": "markdown",
   "id": "5bd71260-5b7f-4ac4-b1f8-299369b157ea",
   "metadata": {},
   "source": [
    "Rerun the above cell until no errors in extraction."
   ]
  },
  {
   "cell_type": "code",
   "execution_count": 142,
   "id": "65111ac3-6dbc-47f9-aa3a-e238b2743fac",
   "metadata": {
    "tags": []
   },
   "outputs": [],
   "source": [
    "references_fp = Path(ROOT_DIR, \"experiments\", \"references\", \"gpt-4.json\")\n",
    "references_fp.parent.mkdir(parents=True, exist_ok=True)"
   ]
  },
  {
   "cell_type": "code",
   "execution_count": 60,
   "id": "1c0f48d7-9d8d-4eeb-a304-fc93324ec4ee",
   "metadata": {
    "tags": []
   },
   "outputs": [],
   "source": [
    "# Save to file\n",
    "with open(references_fp, \"w\") as fp:\n",
    "    json.dump(results, fp, indent=4)"
   ]
  },
  {
   "cell_type": "code",
   "execution_count": 143,
   "id": "71f389d0-f6a2-4175-8e95-dcde55244c8e",
   "metadata": {
    "tags": []
   },
   "outputs": [],
   "source": [
    "# Read from file\n",
    "with open(references_fp, \"r\") as fp:\n",
    "    results = json.load(fp)"
   ]
  },
  {
   "cell_type": "code",
   "execution_count": 144,
   "id": "f15cfeae-84a0-4679-82c3-9eb1f366477c",
   "metadata": {
    "tags": []
   },
   "outputs": [
    {
     "name": "stdout",
     "output_type": "stream",
     "text": [
      "4.527777777777778\n"
     ]
    }
   ],
   "source": [
    "# Average score gpt-4 gave itself\n",
    "print (np.mean([float(result[\"score\"]) for result in results if result[\"score\"]]))"
   ]
  },
  {
   "cell_type": "code",
   "execution_count": 145,
   "id": "72d05f17-eca6-48b7-8691-61724b91566b",
   "metadata": {
    "tags": []
   },
   "outputs": [
    {
     "data": {
      "text/plain": [
       "{'question': 'I’m struggling a bit with Ray Data type conversions when I do map_batches. Any advice?',\n",
       " 'source': 'https://docs.ray.io/en/master/data/transforming-data.html#configuring-batch-format',\n",
       " 'answer': \"When you're handling Ray Data type conversions and using `map_batches`, you can configure the batch type by specifying `batch_format` in `map_batches()`. You can return either format from your function. If you're dealing with NumPy datasets, your function manipulates the specific numpy dataset. For instance, in the provided example, `increase_brightness` function increases the brightness of an image. Similarly, if you're dealing with pandas DataFrame, you can perform operations like dropping NaN values from the DataFrame using your function. It's vital that the functions are correctly formatted and the intended operation is properly performed in these functions.\",\n",
       " 'score': 5.0,\n",
       " 'reasoning': 'The provided answer is well-detailed and thorough. It explains why one might be experiencing issues with Ray Data type conversions when they do map_batches and how to overcome them. The answer provides examples for both NumPy and pandas showing how to use the `map_batches()` function in different scenarios. Hence, I believe this would be quite useful for someone having trouble with type conversions in Ray.'}"
      ]
     },
     "execution_count": 145,
     "metadata": {},
     "output_type": "execute_result"
    }
   ],
   "source": [
    "# Sample\n",
    "results[0]"
   ]
  },
  {
   "cell_type": "markdown",
   "id": "98960772-bf08-4eef-b594-273e4dcddebd",
   "metadata": {},
   "source": [
    "### Llama-2-70b"
   ]
  },
  {
   "cell_type": "markdown",
   "id": "a76733db-4b41-4911-aae8-0d8aa01c0330",
   "metadata": {},
   "source": [
    "Let's generate reference responses with `Llama-2-70b` as well:"
   ]
  },
  {
   "cell_type": "code",
   "execution_count": 132,
   "id": "30d27ea5-128a-4a5c-ad3e-b053c6ba1efe",
   "metadata": {
    "tags": []
   },
   "outputs": [],
   "source": [
    "openai.api_base = os.environ[\"ANYSCALE_API_BASE\"]\n",
    "openai.api_key = os.environ[\"ANYSCALE_API_KEY\"]"
   ]
  },
  {
   "cell_type": "code",
   "execution_count": null,
   "id": "8037f7a6-644c-4b8c-adcc-1d1c1ca76cc6",
   "metadata": {
    "tags": []
   },
   "outputs": [],
   "source": [
    "llm = \"meta-llama/Llama-2-70b-chat-hf\"\n",
    "max_context_length = 4096\n",
    "results = get_references(\n",
    "    data=data, sections_per_doc=sections_per_doc, \n",
    "    llm=llm, temperature=0.0, max_context_length=max_context_length, \n",
    "    system_content=system_content, assistant_content=assistant_content)"
   ]
  },
  {
   "cell_type": "code",
   "execution_count": 137,
   "id": "0fe3b56e-c20b-46aa-8c95-5f677c26d3bd",
   "metadata": {
    "tags": []
   },
   "outputs": [],
   "source": [
    "references_fp = Path(ROOT_DIR, \"experiments\", \"references\", \"llama-2-70b.json\")"
   ]
  },
  {
   "cell_type": "code",
   "execution_count": 110,
   "id": "8174556d-72ca-4b42-b35d-1e6479af50f7",
   "metadata": {
    "tags": []
   },
   "outputs": [],
   "source": [
    "# Save to file\n",
    "with open(references_fp, \"w\") as fp:\n",
    "    json.dump(results, fp, indent=4)"
   ]
  },
  {
   "cell_type": "code",
   "execution_count": 146,
   "id": "a0a14884-eb83-4d8c-bac2-f49010d31688",
   "metadata": {
    "tags": []
   },
   "outputs": [],
   "source": [
    "# Read from file\n",
    "with open(references_fp, \"r\") as fp:\n",
    "    results = json.load(fp)"
   ]
  },
  {
   "cell_type": "code",
   "execution_count": 147,
   "id": "2bc4849c-0639-449d-bfe2-b6b06b9687b2",
   "metadata": {
    "tags": []
   },
   "outputs": [
    {
     "name": "stdout",
     "output_type": "stream",
     "text": [
      "4.928104575163399\n"
     ]
    }
   ],
   "source": [
    "# Average score llama-2-70b gave itself\n",
    "print (np.mean([float(result[\"score\"]) for result in results if result[\"score\"]]))"
   ]
  },
  {
   "cell_type": "code",
   "execution_count": 129,
   "id": "7bcf49f0-4433-4a49-8f68-7d49414668cb",
   "metadata": {
    "tags": []
   },
   "outputs": [
    {
     "data": {
      "text/plain": [
       "{'question': 'I’m struggling a bit with Ray Data type conversions when I do map_batches. Any advice?',\n",
       " 'source': 'https://docs.ray.io/en/master/data/transforming-data.html#configuring-batch-format',\n",
       " 'answer': \"You can specify the batch format by using the batch_format argument in the map_batches function. For example, to use NumPy ndarrays, you can set batch_format='numpy'. To use pandas DataFrames, you can set batch_format='pandas'.\",\n",
       " 'score': 5.0,\n",
       " 'reasoning': 'The answer is correct and provides a clear solution to the problem. It also includes examples of how to specify the batch format for both NumPy ndarrays and pandas DataFrames.'}"
      ]
     },
     "execution_count": 129,
     "metadata": {},
     "output_type": "execute_result"
    }
   ],
   "source": [
    "# Sample\n",
    "results[0]"
   ]
  },
  {
   "cell_type": "markdown",
   "id": "5772f9aa-30e1-44bb-b08b-41d014256515",
   "metadata": {},
   "source": [
    "## Evaluator"
   ]
  },
  {
   "cell_type": "markdown",
   "id": "4c522532-98c2-46e9-b262-1747145f34e1",
   "metadata": {},
   "source": [
    "Now that we've seen the answers, scores and reasoning for our references dataset from both `gpt-4` and `Llama-2-70b`. We can use these responses to decide on a quality evaluator for our future experiments. This evaluator will be used to score answers for different experiment configuations and so we need to be able to trust their scores, reasoning, etc. After inspecting Llama2 evaluating Llama2's answers, it is definitely not a good evaluator. For most answers the reasoning is not good, and the score is pretty random with lots of 4s. Therefore, our evaluator will be `gpt-4`."
   ]
  },
  {
   "cell_type": "code",
   "execution_count": 44,
   "id": "dceefac3-e86c-4f2b-96ee-99e3f026692f",
   "metadata": {
    "tags": []
   },
   "outputs": [],
   "source": [
    "EVALUATOR = \"gpt-4\""
   ]
  },
  {
   "cell_type": "markdown",
   "id": "5b029edf-e018-427f-a1c9-2b4bf689d09c",
   "metadata": {},
   "source": [
    "## Experiments"
   ]
  },
  {
   "cell_type": "markdown",
   "id": "8dea24ed-0a47-47a6-9881-0af1ea8c5691",
   "metadata": {},
   "source": [
    "We're going to start experimenting with the various components in our LLM application such as our evaluator, context, sections, chunking size, number of chunks in our context, embedding models, OSS/closed LLMs and more!"
   ]
  },
  {
   "cell_type": "markdown",
   "id": "f8b51fd3-7a86-41dd-91bb-adcb83bf7269",
   "metadata": {},
   "source": [
    "### Utilities"
   ]
  },
  {
   "cell_type": "markdown",
   "id": "07b3f59f-f79b-4cdb-b55f-6d1d5d245628",
   "metadata": {},
   "source": [
    "str(Path(ROOT_DIR, \"datasets\", \"eval-dataset-v1.jsonl\")Before we get started with our experiments, we're going to define some utility functions that we'll use to easily generate and evaluate responses using the different experiment configurations. We'll also define some functions to help determine our response quality score, retrieval recall score, etc."
   ]
  },
  {
   "cell_type": "code",
   "execution_count": 45,
   "id": "0f9bdb8e-ed08-47b5-b456-1b1ff3e82c42",
   "metadata": {
    "tags": []
   },
   "outputs": [],
   "source": [
    "import subprocess"
   ]
  },
  {
   "cell_type": "code",
   "execution_count": 46,
   "id": "9961f6af-06ea-4179-a4c5-bfa23479364c",
   "metadata": {
    "tags": []
   },
   "outputs": [],
   "source": [
    "# Paths\n",
    "data_path = str(Path(ROOT_DIR, \"datasets\", \"eval-dataset-v1.jsonl\"))\n",
    "reference_loc = str(Path(ROOT_DIR, \"experiments\", \"references\", \"gpt-4.json\"))"
   ]
  },
  {
   "cell_type": "code",
   "execution_count": 47,
   "id": "86bfa2e5-c48d-4e9a-9a22-026a7e1d8e38",
   "metadata": {
    "tags": []
   },
   "outputs": [],
   "source": [
    "# Mappings\n",
    "embedding_dimensions = {\n",
    "    \"thenlper/gte-base\": 768,\n",
    "    \"BAAI/bge-large-en\": 1024,\n",
    "    \"text-embedding-ada-002\": 1536\n",
    "}\n",
    "max_context_lengths = {\n",
    "    \"gpt-4\": 8192,\n",
    "    \"gpt-3.5-turbo\": 4096,\n",
    "    \"gpt-3.5-turbo-16k\": 16384,\n",
    "    \"meta-llama/Llama-2-7b-chat-hf\": 4096,\n",
    "    \"meta-llama/Llama-2-13b-chat-hf\": 4096,\n",
    "    \"meta-llama/Llama-2-70b-chat-hf\": 4096,\n",
    "}"
   ]
  },
  {
   "cell_type": "code",
   "execution_count": 49,
   "id": "13f6f1dd-b9f4-468b-aff7-7a7e68071ab6",
   "metadata": {
    "tags": []
   },
   "outputs": [],
   "source": [
    "def execute_bash(command):\n",
    "    results = subprocess.run(command, shell=True, stdout=subprocess.PIPE, stderr=subprocess.PIPE, text=True)\n",
    "    return results"
   ]
  },
  {
   "cell_type": "code",
   "execution_count": 50,
   "id": "e4076f37-2798-40db-9284-c70fa0da7287",
   "metadata": {
    "tags": []
   },
   "outputs": [],
   "source": [
    "def create_index(embedding_model_name, chunk_size, chunk_overlap):\n",
    "    # Drop current Vector DB and prepare for new one\n",
    "    execute_bash(f'''psql \"{os.environ[\"DB_CONNECTION_STRING\"]}\" -c \"SELECT pg_terminate_backend(pid) FROM pg_stat_activity WHERE state = 'idle in transaction';\"''')\n",
    "    execute_bash(f'psql \"{os.environ[\"DB_CONNECTION_STRING\"]}\" -c \"DROP TABLE document;\"')\n",
    "    execute_bash(f'sudo -u postgres psql -f ../migrations/vector-{embedding_dimensions[embedding_model_name]}.sql')\n",
    "    \n",
    "    SQL_DUMP_FP = Path(EFS_DIR, \"sql_dumps\", f\"{embedding_model_name.split('/')[-1]}_{chunk_size}_{chunk_overlap}.sql\")\n",
    "    if SQL_DUMP_FP.exists():\n",
    "        # Load from SQL dump\n",
    "        execute_bash(f'psql \"{os.environ[\"DB_CONNECTION_STRING\"]}\" -f {SQL_DUMP_FP}')\n",
    "    else:\n",
    "        # Create chunks dataset\n",
    "        text_splitter = RecursiveCharacterTextSplitter(\n",
    "            separators=[\"\\n\\n\", \"\\n\", \" \", \"\"],\n",
    "            chunk_size=chunk_size,\n",
    "            chunk_overlap=chunk_overlap,\n",
    "            length_function=len,\n",
    "        )\n",
    "        chunks = text_splitter.create_documents(\n",
    "            texts=[section[\"text\"] for section in sections], \n",
    "            metadatas=[{\"source\": section[\"source\"]} for section in sections]\n",
    "        )\n",
    "        chunks_ds = ray.data.from_items([{\"text\": chunk.page_content, \"source\": chunk.metadata[\"source\"]} for chunk in chunks])\n",
    "\n",
    "        # Embed chunks\n",
    "        embedded_chunks = chunks_ds.map_batches(\n",
    "            EmbedChunks,\n",
    "            fn_constructor_kwargs={\"model_name\": embedding_model_name},\n",
    "            batch_size=100, \n",
    "            num_gpus=1,\n",
    "            compute=ActorPoolStrategy(size=2))\n",
    "        \n",
    "        # Index data\n",
    "        embedded_chunks.map_batches(\n",
    "            StoreResults,\n",
    "            batch_size=128,\n",
    "            num_cpus=1,\n",
    "            compute=ActorPoolStrategy(size=28),\n",
    "        ).count()\n",
    "        \n",
    "        # Save to SQL dump\n",
    "        execute_bash(f\"sudo -u postgres pg_dump -c > {SQL_DUMP_FP}\")"
   ]
  },
  {
   "cell_type": "code",
   "execution_count": 48,
   "id": "1f2e38a9-0366-4204-b542-c4b6e61deed7",
   "metadata": {
    "tags": []
   },
   "outputs": [],
   "source": [
    "def set_credentials(llm):\n",
    "    if llm.startswith(\"gpt\"):\n",
    "        openai.api_base = os.environ[\"OPENAI_API_BASE\"]\n",
    "        openai.api_key = os.environ[\"OPENAI_API_KEY\"]\n",
    "    else:\n",
    "        openai.api_base = os.environ[\"ANYSCALE_API_BASE\"]\n",
    "        openai.api_key = os.environ[\"ANYSCALE_API_KEY\"]"
   ]
  },
  {
   "cell_type": "code",
   "execution_count": 51,
   "id": "64a9d54d-146c-41a6-b13c-61513549434b",
   "metadata": {
    "tags": []
   },
   "outputs": [],
   "source": [
    "# Generate responses\n",
    "def generate_responses(\n",
    "    experiment_name, data_path, \n",
    "    chunk_size, chunk_overlap, num_chunks,\n",
    "    embedding_model_name, \n",
    "    llm, temperature, max_context_length, \n",
    "    system_content, assistant_content=\"\"):\n",
    "    \n",
    "    # Set credentials\n",
    "    set_credentials(llm=llm)\n",
    "    \n",
    "    # Build index\n",
    "    create_index(\n",
    "        embedding_model_name=embedding_model_name,\n",
    "        chunk_size=chunk_size,\n",
    "        chunk_overlap=chunk_overlap,\n",
    "    )\n",
    "    \n",
    "    # Query agent\n",
    "    agent = QueryAgent(\n",
    "        embedding_model_name=embedding_model_name,\n",
    "        llm=llm,\n",
    "        temperature=temperature,\n",
    "        max_context_length=max_context_length,\n",
    "        system_content=system_content,\n",
    "        assistant_content=assistant_content,\n",
    "    )\n",
    "\n",
    "    # Generate responses\n",
    "    results = []\n",
    "    with open(Path(data_path), \"r\") as f:\n",
    "        questions = [json.loads(item)[\"question\"] for item in list(f)]\n",
    "    for query in tqdm(questions):\n",
    "        result = agent(query=query, num_chunks=num_chunks)\n",
    "        results.append(result)\n",
    "\n",
    "    # Save to file\n",
    "    responses_fp = Path(ROOT_DIR, \"experiments\", \"responses\", f\"{experiment_name}.json\")\n",
    "    responses_fp.parent.mkdir(parents=True, exist_ok=True)\n",
    "    config = {\n",
    "        \"experiment_name\": experiment_name,\n",
    "        \"data_path\": data_path,\n",
    "        \"chunk_size\": chunk_size,\n",
    "        \"chunk_overlap\": chunk_overlap,\n",
    "        \"num_chunks\": num_chunks,\n",
    "        \"embedding_model_name\": embedding_model_name,\n",
    "        \"llm\": llm,\n",
    "        \"temperature\": temperature,\n",
    "        \"max_context_length\": max_context_length,\n",
    "        \"system_content\": system_content,\n",
    "        \"assistant_content\": assistant_content,\n",
    "    }\n",
    "    responses = {\n",
    "        \"config\": config,\n",
    "        \"results\": results,\n",
    "    }\n",
    "    with open(responses_fp, \"w\") as fp:\n",
    "        json.dump(responses, fp, indent=4)"
   ]
  },
  {
   "cell_type": "code",
   "execution_count": 52,
   "id": "73a57c87-8ef0-4d45-9594-34ca07ff7210",
   "metadata": {
    "tags": []
   },
   "outputs": [],
   "source": [
    "def get_retrieval_score(references, generated):\n",
    "    matches = np.zeros(len(references))\n",
    "    for i in range(len(references)):\n",
    "        reference_source = references[i][\"source\"].split(\"#\")[0]\n",
    "        if not reference_source:\n",
    "            matches[i] = 1\n",
    "            continue\n",
    "        for source in generated[i][\"sources\"]:\n",
    "            # sections don't have to perfectly match\n",
    "            if reference_source == source.split(\"#\")[0]:\n",
    "                matches[i] = 1\n",
    "                continue\n",
    "    retrieval_score = np.mean(matches)\n",
    "    return retrieval_score"
   ]
  },
  {
   "cell_type": "code",
   "execution_count": 53,
   "id": "9943ec93-cdb8-4f17-889c-7a1d98cde143",
   "metadata": {
    "tags": []
   },
   "outputs": [],
   "source": [
    "def evaluate_responses(\n",
    "    experiment_name, reference_loc, response_loc,\n",
    "    evaluator, temperature, max_context_length,\n",
    "    system_content, assistant_content=\"\"):\n",
    "    \n",
    "    # Set credentials\n",
    "    set_credentials(llm=evaluator)\n",
    "    \n",
    "    # Load answers\n",
    "    with open(Path(reference_loc), \"r\") as f:\n",
    "        references = [item for item in json.load(f)]\n",
    "    with open(Path(response_loc), \"r\") as f:\n",
    "        generated = [item for item in json.load(f)[\"results\"]]\n",
    "    assert len(references) == len(generated)\n",
    "\n",
    "    # Quality score\n",
    "    results = []\n",
    "    context_length = max_context_length - len(system_content + assistant_content)\n",
    "    for ref, gen in tqdm(zip(references, generated), total=len(references)):\n",
    "        assert ref[\"question\"] == gen[\"question\"]\n",
    "        user_content = str(\n",
    "            {\n",
    "                \"question\": gen[\"question\"],\n",
    "                \"generated_answer\": gen[\"answer\"],\n",
    "                \"reference_answer\": ref[\"answer\"],\n",
    "            }\n",
    "        )[:context_length]\n",
    "\n",
    "        # Generate response\n",
    "        response = generate_response(\n",
    "            llm=evaluator,\n",
    "            temperature=temperature,\n",
    "            system_content=system_content,\n",
    "            assistant_content=assistant_content,\n",
    "            user_content=user_content,\n",
    "        )\n",
    "\n",
    "        # Extract from response\n",
    "        score, reasoning = response.split(\"\\n\", 1)\n",
    "\n",
    "        # Store result\n",
    "        result = {\n",
    "            \"question\": gen[\"question\"],\n",
    "            \"generated_answer\": gen[\"answer\"],\n",
    "            \"reference_answer\": ref[\"answer\"],\n",
    "            \"score\": float(score),\n",
    "            \"reasoning\": reasoning.lstrip(\"\\n\"),\n",
    "            \"sources\": gen[\"sources\"],\n",
    "        }\n",
    "        results.append(result)\n",
    "\n",
    "    # Save to file\n",
    "    evaluator_name = evaluator.split(\"/\")[-1].lower()\n",
    "    evaluation_fp = Path(ROOT_DIR, \"experiments\", \"evaluations\", f\"{experiment_name}_{evaluator_name}.json\")\n",
    "    evaluation_fp.parent.mkdir(parents=True, exist_ok=True)\n",
    "    config = {\n",
    "        \"experiment_name\": experiment_name,\n",
    "        \"reference_loc\": reference_loc,\n",
    "        \"response_loc\": response_loc,\n",
    "        \"evaluator\": evaluator,\n",
    "        \"temperature\": temperature,\n",
    "        \"max_context_length\": max_context_length,\n",
    "        \"system_content\": system_content,\n",
    "        \"assistant_content\": assistant_content,\n",
    "    }\n",
    "    evaluation = {\n",
    "        \"config\": config,\n",
    "        \"retrieval_score\": get_retrieval_score(references, generated),\n",
    "        \"quality_score\": np.mean([item[\"score\"] for item in results if (item[\"score\"] and item[\"reference_answer\"])]),\n",
    "        \"results\": results,\n",
    "    }\n",
    "    with open(evaluation_fp, \"w\") as fp:\n",
    "        json.dump(evaluation, fp, indent=4)"
   ]
  },
  {
   "cell_type": "code",
   "execution_count": 54,
   "id": "66a76e95-9c1b-488f-bd9f-750a176d3d77",
   "metadata": {
    "tags": []
   },
   "outputs": [],
   "source": [
    "def run_experiment(\n",
    "    experiment_name, data_path,\n",
    "    chunk_size, chunk_overlap, num_chunks,\n",
    "    embedding_model_name, llm,\n",
    "    reference_loc, evaluator):\n",
    "    \"\"\"Generate responses and evaluate them.\"\"\"\n",
    "    \n",
    "    # Generate responses\n",
    "    generate_responses(\n",
    "        experiment_name=experiment_name, \n",
    "        data_path=data_path, \n",
    "        chunk_size=chunk_size, \n",
    "        chunk_overlap=chunk_overlap, \n",
    "        num_chunks=num_chunks,\n",
    "        embedding_model_name=embedding_model_name, \n",
    "        llm=llm, \n",
    "        temperature=0.0, \n",
    "        max_context_length=max_context_lengths[llm], \n",
    "        system_content=\"Answer the {query} using the additional {context} provided.\")\n",
    "\n",
    "    # Evaluate responses\n",
    "    evaluation_system_content = \"\"\"\n",
    "        Your job is to rate the quality of our generated answer {generated_answer}\n",
    "        given a query {query} and a reference answer {reference_answer}.\n",
    "        Your score has to be between 1 and 5.\n",
    "        You must return your response in a line with only the score.\n",
    "        Do not return answers in any other format.\n",
    "        On a separate line provide your reasoning for the score as well.\n",
    "        \"\"\"\n",
    "    evaluate_responses(\n",
    "        experiment_name=experiment_name,\n",
    "        reference_loc=reference_loc, \n",
    "        response_loc=str(Path(ROOT_DIR, \"experiments\", \"responses\", f\"{experiment_name}.json\")),\n",
    "        evaluator=EVALUATOR, \n",
    "        temperature=0.0, \n",
    "        max_context_length=max_context_lengths[EVALUATOR],\n",
    "        system_content=evaluation_system_content)"
   ]
  },
  {
   "cell_type": "code",
   "execution_count": 55,
   "id": "169201fd-aa78-4459-a55f-04c97f1938aa",
   "metadata": {
    "tags": []
   },
   "outputs": [],
   "source": [
    "def print_experiment(experiment_name, evaluator=EVALUATOR):\n",
    "    eval_fp = Path(ROOT_DIR, \"experiments\", \"evaluations\", f\"{experiment_name}_{evaluator}.json\")\n",
    "    with open(eval_fp, \"r\") as fp:\n",
    "        d = json.load(fp)\n",
    "    print (experiment_name)\n",
    "    print (\"  retrieval score:\", d[\"retrieval_score\"])\n",
    "    print (\"  quality score:\", d[\"quality_score\"])\n",
    "    print ()"
   ]
  },
  {
   "cell_type": "markdown",
   "id": "6b31ebee-f839-4aaa-b328-72cee088c830",
   "metadata": {
    "tags": []
   },
   "source": [
    "### Context"
   ]
  },
  {
   "cell_type": "markdown",
   "id": "e89f56c4-2629-4ff7-b57c-f319170937de",
   "metadata": {},
   "source": [
    "We're first going to test if the additonal context we provide is helpful at all. This is to validate that the RAG system is indeed worth the effort."
   ]
  },
  {
   "cell_type": "markdown",
   "id": "282271b0-8b4a-45fe-ae23-2c674b291c13",
   "metadata": {},
   "source": [
    "#### Without context"
   ]
  },
  {
   "cell_type": "code",
   "execution_count": null,
   "id": "91cefda6-0ec7-40a2-afc0-b8af2bdd3332",
   "metadata": {
    "tags": []
   },
   "outputs": [],
   "source": [
    "num_chunks = 0\n",
    "experiment_name = \"without-context\"\n",
    "run_experiment(\n",
    "    experiment_name=experiment_name, \n",
    "    data_path=data_path,\n",
    "    chunk_size=100, \n",
    "    chunk_overlap=50, \n",
    "    num_chunks=num_chunks,\n",
    "    embedding_model_name=\"thenlper/gte-base\",\n",
    "    llm=\"meta-llama/Llama-2-70b-chat-hf\",\n",
    "    reference_loc=reference_loc,\n",
    "    evaluator=EVALUATOR)"
   ]
  },
  {
   "cell_type": "code",
   "execution_count": 44,
   "id": "f506ea99-7397-44b3-88a1-0d2a2df1ac21",
   "metadata": {
    "tags": []
   },
   "outputs": [
    {
     "name": "stdout",
     "output_type": "stream",
     "text": [
      "without-context\n",
      "  retrieval score: 0.0\n",
      "  quality score: 2.631284916201117\n",
      "\n"
     ]
    }
   ],
   "source": [
    "print_experiment(experiment_name=experiment_name)"
   ]
  },
  {
   "cell_type": "markdown",
   "id": "28dc2fd9-68b5-4d26-8bab-f4b37ce06674",
   "metadata": {},
   "source": [
    "#### With context"
   ]
  },
  {
   "cell_type": "code",
   "execution_count": null,
   "id": "a819c26a-9e05-484b-8e57-edfd26a84d4d",
   "metadata": {},
   "outputs": [],
   "source": [
    "num_chunks = 5\n",
    "experiment_name = \"with-context\"\n",
    "run_experiment(\n",
    "    experiment_name=experiment_name, \n",
    "    data_path=data_path,\n",
    "    chunk_size=300, \n",
    "    chunk_overlap=50, \n",
    "    num_chunks=num_chunks,\n",
    "    embedding_model_name=\"thenlper/gte-base\",\n",
    "    llm=\"meta-llama/Llama-2-70b-chat-hf\",\n",
    "    reference_loc=reference_loc,\n",
    "    evaluator=EVALUATOR)"
   ]
  },
  {
   "cell_type": "code",
   "execution_count": null,
   "id": "8327cf28-5114-4e93-b769-014108dd743a",
   "metadata": {
    "tags": []
   },
   "outputs": [
    {
     "name": "stdout",
     "output_type": "stream",
     "text": [
      "with-context\n",
      "  retrieval score: 0.4301675977653631\n",
      "  quality score: 3.2458100558659218\n",
      "\n"
     ]
    }
   ],
   "source": [
    "print_experiment(experiment_name=experiment_name)"
   ]
  },
  {
   "cell_type": "markdown",
   "id": "df01f761-d3a7-4783-9fa7-57f62679b548",
   "metadata": {},
   "source": [
    "As we can see, **using context (RAG)** does indeed help in the quality of our answers!"
   ]
  },
  {
   "cell_type": "markdown",
   "id": "8b334355-ab35-4cf3-85b5-601f62b4e7e9",
   "metadata": {
    "tags": []
   },
   "source": [
    "### Sections"
   ]
  },
  {
   "cell_type": "markdown",
   "id": "c5a75e19-8cd0-4040-8be6-cb18facf0366",
   "metadata": {},
   "source": [
    "#### Without sections"
   ]
  },
  {
   "cell_type": "code",
   "execution_count": 102,
   "id": "6e0c2584-2249-463b-9437-23b38c3bc9a2",
   "metadata": {
    "tags": []
   },
   "outputs": [],
   "source": [
    "from langchain.document_loaders import ReadTheDocsLoader"
   ]
  },
  {
   "cell_type": "code",
   "execution_count": null,
   "id": "a8fa643e-72f0-4286-b519-4f0e7f6c9399",
   "metadata": {
    "tags": []
   },
   "outputs": [],
   "source": [
    "# Load data\n",
    "loader = ReadTheDocsLoader(f\"{EFS_DIR}/docs.ray.io/en/master/\", encoding=\"utf-8\", errors=\"ignore\")\n",
    "docs = loader.load()\n",
    "for doc in docs:  # clean\n",
    "    doc.metadata[\"source\"] = doc.metadata[\"source\"].replace(str(EFS_DIR)+\"/\", \"https://\")"
   ]
  },
  {
   "cell_type": "code",
   "execution_count": 187,
   "id": "074a8227-7b0e-49cb-888e-2ed8d7aaed63",
   "metadata": {
    "tags": []
   },
   "outputs": [],
   "source": [
    "text_splitter = RecursiveCharacterTextSplitter(\n",
    "    separators=[\"\\n\\n\", \"\\n\", \" \", \"\"],\n",
    "    chunk_size=300,\n",
    "    chunk_overlap=50,\n",
    "    length_function=len,\n",
    ")"
   ]
  },
  {
   "cell_type": "code",
   "execution_count": 188,
   "id": "ddd3467b-cd77-4f6d-bba4-5955f2aa8e01",
   "metadata": {
    "tags": []
   },
   "outputs": [],
   "source": [
    "# Chunks\n",
    "chunks = text_splitter.create_documents(\n",
    "    texts=[doc.page_content for doc in docs], \n",
    "    metadatas=[doc.metadata for doc in docs]\n",
    ")"
   ]
  },
  {
   "cell_type": "code",
   "execution_count": 189,
   "id": "b213d197-111b-4388-989a-8931ab8df945",
   "metadata": {
    "tags": []
   },
   "outputs": [
    {
     "name": "stdout",
     "output_type": "stream",
     "text": [
      "{'text': 'Environments#\\nRLlib works with several different types of environments, including Farama-Foundation Gymnasium, user-defined, multi-agent, and also batched environments.\\nTip\\nNot all environments work with all algorithms. Check out the algorithm overview for more information.\\nConfiguring Environments#', 'source': '/efs/shared_storage/goku/docs.ray.io/en/master/rllib-env.html'}\n"
     ]
    }
   ],
   "source": [
    "# Ray dataset\n",
    "chunks_ds = ray.data.from_items([{\"text\": chunk.page_content, \"source\": chunk.metadata[\"source\"]} for chunk in chunks])\n",
    "chunks_ds.show(1)"
   ]
  },
  {
   "cell_type": "code",
   "execution_count": 190,
   "id": "dd77bfc5-0088-47d5-80be-8f031c1aa4e9",
   "metadata": {
    "tags": []
   },
   "outputs": [],
   "source": [
    "# Embed chunks\n",
    "embedding_model_name = \"thenlper/gte-base\"\n",
    "embedded_chunks = chunks_ds.map_batches(\n",
    "    EmbedChunks,\n",
    "    fn_constructor_kwargs={\"model_name\": embedding_model_name},\n",
    "    batch_size=100, \n",
    "    num_gpus=1,\n",
    "    compute=ActorPoolStrategy(size=2))"
   ]
  },
  {
   "cell_type": "code",
   "execution_count": 191,
   "id": "d16aa979-6b7f-4dbf-acc4-fad1246c0448",
   "metadata": {
    "tags": []
   },
   "outputs": [
    {
     "name": "stdout",
     "output_type": "stream",
     "text": [
      "huggingface/tokenizers: The current process just got forked, after parallelism has already been used. Disabling parallelism to avoid deadlocks...\n",
      "To disable this warning, you can either:\n",
      "\t- Avoid using `tokenizers` before the fork if possible\n",
      "\t- Explicitly set the environment variable TOKENIZERS_PARALLELISM=(true | false)\n",
      "DROP TABLE\n",
      "CREATE TABLE\n"
     ]
    }
   ],
   "source": [
    "%%bash\n",
    "# Drop current vector DB (if any)\n",
    "psql \"$DB_CONNECTION_STRING\" -c \"DROP TABLE document;\"\n",
    "sudo -u postgres psql -f ../migrations/vector-768.sql"
   ]
  },
  {
   "cell_type": "code",
   "execution_count": 192,
   "id": "330a21a3-5e25-4c18-aedb-38ae0cb2b806",
   "metadata": {
    "tags": []
   },
   "outputs": [
    {
     "name": "stderr",
     "output_type": "stream",
     "text": [
      "2023-08-24 16:44:15,944\tINFO streaming_executor.py:92 -- Executing DAG InputDataBuffer[Input] -> ActorPoolMapOperator[MapBatches(EmbedChunks)] -> ActorPoolMapOperator[MapBatches(StoreResults)]\n",
      "2023-08-24 16:44:15,945\tINFO streaming_executor.py:93 -- Execution config: ExecutionOptions(resource_limits=ExecutionResources(cpu=None, gpu=None, object_store_memory=None), locality_with_output=False, preserve_order=False, actor_locality_enabled=True, verbose_progress=False)\n",
      "2023-08-24 16:44:15,946\tINFO streaming_executor.py:95 -- Tip: For detailed progress reporting, run `ray.data.DataContext.get_current().execution_options.verbose_progress = True`\n",
      "2023-08-24 16:44:15,972\tINFO actor_pool_map_operator.py:117 -- MapBatches(EmbedChunks): Waiting for 2 pool actors to start...\n",
      "2023-08-24 16:44:37,256\tINFO actor_pool_map_operator.py:117 -- MapBatches(StoreResults): Waiting for 28 pool actors to start...\n"
     ]
    },
    {
     "data": {
      "application/vnd.jupyter.widget-view+json": {
       "model_id": "",
       "version_major": 2,
       "version_minor": 0
      },
      "text/plain": [
       "Running 0:   0%|          | 0/200 [00:00<?, ?it/s]"
      ]
     },
     "metadata": {},
     "output_type": "display_data"
    },
    {
     "name": "stderr",
     "output_type": "stream",
     "text": [
      "2023-08-24 16:51:19,313\tWARNING actor_pool_map_operator.py:267 -- To ensure full parallelization across an actor pool of size 28, the specified batch size should be at most 0. Your configured batch size for this operator was 128.\n"
     ]
    },
    {
     "data": {
      "text/plain": [
       "0"
      ]
     },
     "execution_count": 192,
     "metadata": {},
     "output_type": "execute_result"
    }
   ],
   "source": [
    "# Index data\n",
    "embedded_chunks.map_batches(\n",
    "    StoreResults,\n",
    "    batch_size=128,\n",
    "    num_cpus=1,\n",
    "    compute=ActorPoolStrategy(size=28),\n",
    ").count()"
   ]
  },
  {
   "cell_type": "code",
   "execution_count": 193,
   "id": "6bf5d4da-5232-4296-969c-385bd5ee57c5",
   "metadata": {
    "tags": []
   },
   "outputs": [
    {
     "name": "stdout",
     "output_type": "stream",
     "text": [
      "huggingface/tokenizers: The current process just got forked, after parallelism has already been used. Disabling parallelism to avoid deadlocks...\n",
      "To disable this warning, you can either:\n",
      "\t- Avoid using `tokenizers` before the fork if possible\n",
      "\t- Explicitly set the environment variable TOKENIZERS_PARALLELISM=(true | false)\n",
      " count \n",
      "-------\n",
      " 49220\n",
      "(1 row)\n",
      "\n"
     ]
    }
   ],
   "source": [
    "%%bash\n",
    "# Check number of rows\n",
    "psql \"$DB_CONNECTION_STRING\" -c \"SELECT count(*) FROM document;\" "
   ]
  },
  {
   "cell_type": "code",
   "execution_count": 194,
   "id": "f4e2847d-63be-465a-93b6-41bb19ec1e09",
   "metadata": {
    "tags": []
   },
   "outputs": [
    {
     "name": "stdout",
     "output_type": "stream",
     "text": [
      "huggingface/tokenizers: The current process just got forked, after parallelism has already been used. Disabling parallelism to avoid deadlocks...\n",
      "To disable this warning, you can either:\n",
      "\t- Avoid using `tokenizers` before the fork if possible\n",
      "\t- Explicitly set the environment variable TOKENIZERS_PARALLELISM=(true | false)\n"
     ]
    }
   ],
   "source": [
    "%%bash\n",
    "# Save index\n",
    "export SQL_DUMP_FP=\"/efs/shared_storage/goku/sql_dumps/without-sections.sql\"\n",
    "sudo -u postgres pg_dump -c > $SQL_DUMP_FP  # save"
   ]
  },
  {
   "cell_type": "code",
   "execution_count": null,
   "id": "279c8cdb-6031-4ba6-a519-448f6b2c5f0f",
   "metadata": {},
   "outputs": [],
   "source": [
    "experiment_name = \"without-sections\"\n",
    "run_experiment(\n",
    "    experiment_name=experiment_name, \n",
    "    data_path=data_path,\n",
    "    chunk_size=300, \n",
    "    chunk_overlap=50, \n",
    "    num_chunks=5,\n",
    "    embedding_model_name=\"thenlper/gte-base\",\n",
    "    llm=\"meta-llama/Llama-2-70b-chat-hf\",\n",
    "    reference_loc=reference_loc,\n",
    "    evaluator=EVALUATOR)"
   ]
  },
  {
   "cell_type": "code",
   "execution_count": 64,
   "id": "c4867666-66ac-4c13-9bf3-72acc6d88236",
   "metadata": {
    "tags": []
   },
   "outputs": [
    {
     "name": "stdout",
     "output_type": "stream",
     "text": [
      "without-sections\n",
      "  retrieval score: 0.0\n",
      "  quality score: 3.2849162011173183\n",
      "\n"
     ]
    }
   ],
   "source": [
    "print_experiment(experiment_name=experiment_name)"
   ]
  },
  {
   "cell_type": "markdown",
   "id": "d6934303-7829-472c-aa14-495b8a2ee9ad",
   "metadata": {},
   "source": [
    "#### With sections"
   ]
  },
  {
   "cell_type": "code",
   "execution_count": 206,
   "id": "dd164683-7b3e-47f4-b19f-9c95e1765295",
   "metadata": {
    "tags": []
   },
   "outputs": [
    {
     "name": "stdout",
     "output_type": "stream",
     "text": [
      "huggingface/tokenizers: The current process just got forked, after parallelism has already been used. Disabling parallelism to avoid deadlocks...\n",
      "To disable this warning, you can either:\n",
      "\t- Avoid using `tokenizers` before the fork if possible\n",
      "\t- Explicitly set the environment variable TOKENIZERS_PARALLELISM=(true | false)\n",
      "DROP TABLE\n",
      "CREATE TABLE\n"
     ]
    }
   ],
   "source": [
    "%%bash\n",
    "# Drop current vector DB (if any)\n",
    "psql \"$DB_CONNECTION_STRING\" -c \"DROP TABLE document;\"\n",
    "sudo -u postgres psql -f ../migrations/vector-768.sql"
   ]
  },
  {
   "cell_type": "code",
   "execution_count": null,
   "id": "9d8f3c60-5caa-47c9-8364-bed3ecc431d1",
   "metadata": {
    "tags": []
   },
   "outputs": [],
   "source": [
    "%%bash\n",
    "# Switch VectorDB\n",
    "export SQL_DUMP_FP=\"/efs/shared_storage/goku/sql_dumps/with-sections.sql\"\n",
    "psql \"$DB_CONNECTION_STRING\" -f $SQL_DUMP_FP # load"
   ]
  },
  {
   "cell_type": "code",
   "execution_count": 48,
   "id": "723ea973-8050-4b67-8180-2d58c6dbbcf2",
   "metadata": {
    "tags": []
   },
   "outputs": [
    {
     "name": "stdout",
     "output_type": "stream",
     "text": [
      " count \n",
      "-------\n",
      " 57835\n",
      "(1 row)\n",
      "\n"
     ]
    }
   ],
   "source": [
    "%%bash\n",
    "# Check number of rows\n",
    "psql \"$DB_CONNECTION_STRING\" -c \"SELECT count(*) FROM document;\" "
   ]
  },
  {
   "cell_type": "code",
   "execution_count": null,
   "id": "3ecee626-612c-436f-8b89-a20cf6c73c7a",
   "metadata": {},
   "outputs": [],
   "source": [
    "experiment_name=\"with-sections\"\n",
    "run_experiment(\n",
    "    experiment_name=experiment_name, \n",
    "    data_path=data_path,\n",
    "    chunk_size=300, \n",
    "    chunk_overlap=50, \n",
    "    num_chunks=5,\n",
    "    embedding_model_name=\"thenlper/gte-base\",\n",
    "    llm=\"meta-llama/Llama-2-70b-chat-hf\",\n",
    "    reference_loc=reference_loc,\n",
    "    evaluator=EVALUATOR)"
   ]
  },
  {
   "cell_type": "code",
   "execution_count": 65,
   "id": "6d0170a9-6128-4481-aefb-63ad1999f1ca",
   "metadata": {
    "tags": []
   },
   "outputs": [
    {
     "name": "stdout",
     "output_type": "stream",
     "text": [
      "with-sections\n",
      "  retrieval score: 0.4301675977653631\n",
      "  quality score: 3.2541899441340782\n",
      "\n"
     ]
    }
   ],
   "source": [
    "print_experiment(experiment_name=experiment_name)"
   ]
  },
  {
   "cell_type": "markdown",
   "id": "5441b904-519c-4767-8925-5289e018359c",
   "metadata": {},
   "source": [
    "Looks like isolating sections wasn't really helpful but it doesn't hurt either. We could test with different models (ex. `gpt-3.5-turbo`) to further validate this claim."
   ]
  },
  {
   "cell_type": "markdown",
   "id": "6acc3a24-007d-4add-b0dd-5832351c6d63",
   "metadata": {
    "tags": []
   },
   "source": [
    "### Chunk size"
   ]
  },
  {
   "cell_type": "code",
   "execution_count": 63,
   "id": "64b691b8-b2ea-4f77-857a-09e50053699c",
   "metadata": {
    "tags": []
   },
   "outputs": [],
   "source": [
    "chunk_sizes = [100, 300, 600, 900]"
   ]
  },
  {
   "cell_type": "code",
   "execution_count": null,
   "id": "53c054d1-9e4d-4688-b4b9-cf5a39b382c3",
   "metadata": {
    "tags": []
   },
   "outputs": [],
   "source": [
    "for chunk_size in chunk_sizes:\n",
    "    experiment_name = f\"chunk-size-{chunk_size}\"\n",
    "    run_experiment(\n",
    "        experiment_name=experiment_name, \n",
    "        data_path=data_path,\n",
    "        chunk_size=chunk_size, \n",
    "        chunk_overlap=50, \n",
    "        num_chunks=5,\n",
    "        embedding_model_name=\"thenlper/gte-base\",\n",
    "        llm=\"meta-llama/Llama-2-70b-chat-hf\",\n",
    "        reference_loc=reference_loc,\n",
    "        evaluator=EVALUATOR)"
   ]
  },
  {
   "cell_type": "code",
   "execution_count": 64,
   "id": "bc0e486a-de51-4cf0-8852-00d6ac8b532c",
   "metadata": {
    "tags": []
   },
   "outputs": [
    {
     "name": "stdout",
     "output_type": "stream",
     "text": [
      "chunk-size-100\n",
      "  retrieval score: 0.39106145251396646\n",
      "  quality score: 2.877094972067039\n",
      "\n",
      "chunk-size-300\n",
      "  retrieval score: 0.4301675977653631\n",
      "  quality score: 3.2653631284916202\n",
      "\n",
      "chunk-size-600\n",
      "  retrieval score: 0.547486033519553\n",
      "  quality score: 3.5335195530726256\n",
      "\n",
      "chunk-size-900\n",
      "  retrieval score: 0.547486033519553\n",
      "  quality score: 3.4860335195530725\n",
      "\n"
     ]
    }
   ],
   "source": [
    "for chunk_size in chunk_sizes:\n",
    "    experiment_name = f\"chunk-size-{chunk_size}\"\n",
    "    print_experiment(experiment_name=experiment_name)"
   ]
  },
  {
   "cell_type": "markdown",
   "id": "680569cb-d1b3-464e-b771-1f5dd3d0cc66",
   "metadata": {},
   "source": [
    "Seem that a larger chunk size does help but it tapers off around the 600 characters mark (too much context might be too noisy)."
   ]
  },
  {
   "cell_type": "markdown",
   "id": "a316e232-a250-4880-8518-a2ba7a4e5835",
   "metadata": {},
   "source": [
    "**Note**: If we were to use larger chunk sizes (ours is based on characters), keep in mind that [most](https://huggingface.co/spaces/mteb/leaderboard) open source embedding models have a maximum sequence length of 512 sub-word tokens. This means that if our chunk contains more than 512 sub-word tokens, the embedding wouldn't account for it anyway (unless we finetune our embedding model to have longer sequence lengths)."
   ]
  },
  {
   "cell_type": "code",
   "execution_count": 58,
   "id": "04df6ec4-7edf-4a27-93ae-7ee2b3ff7241",
   "metadata": {
    "tags": []
   },
   "outputs": [],
   "source": [
    "CHUNK_SIZE = 600\n",
    "CHUNK_OVERLAP = 50"
   ]
  },
  {
   "cell_type": "markdown",
   "id": "fc80dd05-ced6-49b4-a193-c52fcebc118e",
   "metadata": {
    "tags": []
   },
   "source": [
    "### Number of chunks"
   ]
  },
  {
   "cell_type": "markdown",
   "id": "84fbb854-b016-4c42-97bc-56c7eebfa3dd",
   "metadata": {},
   "source": [
    "**Note**: Keep in mind that the `chunk_size` you chose multiplied by the `num_chunks` below fits inside the LLM's context length. We're experimenting with the chunk size and number of chunks as if they were indepdent variables but they area heavily related. Especially since all of our LLMs have a finite maximum context length. So ideally, we would tune for a combination if `chunk_size` * `num_chunks`."
   ]
  },
  {
   "cell_type": "code",
   "execution_count": null,
   "id": "03926725-4dac-43ad-880b-80825d3b958c",
   "metadata": {
    "tags": []
   },
   "outputs": [],
   "source": [
    "num_chunks_list = [1, 3, 5, 6]"
   ]
  },
  {
   "cell_type": "code",
   "execution_count": null,
   "id": "c514d9c7-e16d-44c4-88b7-72a49b5c4197",
   "metadata": {
    "tags": []
   },
   "outputs": [],
   "source": [
    "for num_chunks in num_chunks_list:\n",
    "    experiment_name = f\"num-chunks-{num_chunks}\"\n",
    "    run_experiment(\n",
    "        experiment_name=experiment_name, \n",
    "        data_path=data_path,\n",
    "        chunk_size=CHUNK_SIZE, \n",
    "        chunk_overlap=CHUNK_OVERLAP, \n",
    "        num_chunks=num_chunks,\n",
    "        embedding_model_name=\"thenlper/gte-base\",\n",
    "        llm=\"meta-llama/Llama-2-70b-chat-hf\",\n",
    "        reference_loc=reference_loc,\n",
    "        evaluator=EVALUATOR)"
   ]
  },
  {
   "cell_type": "code",
   "execution_count": 70,
   "id": "76f5a117-819e-4d06-b9e9-d196a592e123",
   "metadata": {
    "tags": []
   },
   "outputs": [
    {
     "name": "stdout",
     "output_type": "stream",
     "text": [
      "num-chunks-1\n",
      "  retrieval score: 0.2737430167597765\n",
      "  quality score: 3.2458100558659218\n",
      "\n",
      "num-chunks-3\n",
      "  retrieval score: 0.48044692737430167\n",
      "  quality score: 3.363128491620112\n",
      "\n",
      "num-chunks-5\n",
      "  retrieval score: 0.547486033519553\n",
      "  quality score: 3.53072625698324\n",
      "\n",
      "num-chunks-6\n",
      "  retrieval score: 0.5977653631284916\n",
      "  quality score: 3.5810055865921786\n",
      "\n"
     ]
    }
   ],
   "source": [
    "for num_chunks in num_chunks_list:\n",
    "    experiment_name=f\"num-chunks-{num_chunks}\"\n",
    "    print_experiment(experiment_name=experiment_name)"
   ]
  },
  {
   "cell_type": "markdown",
   "id": "ee986a80-8659-4344-bb22-71bb62b32946",
   "metadata": {},
   "source": [
    "Increasing our number of chunks improves our retrieval and quality scores. We had to stop testing at 6 chunks since our `chunk_size` is 600 tokens and `Llama-2-70b`'s maximum context length is 4096 tokens (we also have to account for the system, assistant and user content to our LLM). This is a major reason to invest in extending context size via RoPE scaling (rotary position embeddings), etc. But it also seems that the benefit of increasing the number of chunks is starting to taper off."
   ]
  },
  {
   "cell_type": "code",
   "execution_count": 59,
   "id": "fbe4828f-9639-4957-898e-27dd0ce3ee32",
   "metadata": {
    "tags": []
   },
   "outputs": [],
   "source": [
    "NUM_CHUNKS = 6"
   ]
  },
  {
   "cell_type": "markdown",
   "id": "1a04dff3-5323-419f-a290-849c96899292",
   "metadata": {},
   "source": [
    "### Embedding models"
   ]
  },
  {
   "cell_type": "markdown",
   "id": "df10c471-22b5-479c-bbbd-59ff3835d7b9",
   "metadata": {},
   "source": [
    "So far, we've used [`thenlper/gte-base`](https://huggingface.co/thenlper/gte-base) as our embedding model because it's a relatively small (0.22 GB) and performant option. But now, let's explore other popular options such the current leader on the [MTEB leaderboard](https://huggingface.co/spaces/mteb/leaderboard), [`BAAI/bge-large-en`](https://huggingface.co/BAAI/bge-large-en) (1.34 GB), and OpenAI's [`text-embedding-ada-002`](https://openai.com/blog/new-and-improved-embedding-model)."
   ]
  },
  {
   "cell_type": "code",
   "execution_count": 67,
   "id": "198ec597-8aaf-4c45-a275-2094211eebb4",
   "metadata": {
    "tags": []
   },
   "outputs": [],
   "source": [
    "embedding_model_names = [\"thenlper/gte-base\", \"BAAI/bge-large-en\", \"text-embedding-ada-002\"]"
   ]
  },
  {
   "cell_type": "code",
   "execution_count": 66,
   "id": "1913f50c-ef13-487d-beeb-77ee38f91067",
   "metadata": {
    "tags": []
   },
   "outputs": [
    {
     "name": "stderr",
     "output_type": "stream",
     "text": [
      " 86%|████████▌ | 154/179 [48:50<06:16, 15.07s/it]Retrying langchain.embeddings.openai.embed_with_retry.<locals>._embed_with_retry in 4.0 seconds as it raised APIConnectionError: Error communicating with OpenAI: ('Connection aborted.', ConnectionResetError(104, 'Connection reset by peer')).\n",
      "100%|██████████| 179/179 [55:38<00:00, 18.65s/it]\n",
      "100%|██████████| 179/179 [24:44<00:00,  8.29s/it]\n"
     ]
    }
   ],
   "source": [
    "for embedding_model_name in embedding_model_names:\n",
    "    experiment_name = f\"{embedding_model_name.split('/')[-1]}\"\n",
    "    run_experiment(\n",
    "        experiment_name=experiment_name, \n",
    "        data_path=data_path,\n",
    "        chunk_size=CHUNK_SIZE, \n",
    "        chunk_overlap=CHUNK_OVERLAP, \n",
    "        num_chunks=NUM_CHUNKS,\n",
    "        embedding_model_name=embedding_model_name,\n",
    "        llm=\"meta-llama/Llama-2-70b-chat-hf\",\n",
    "        reference_loc=reference_loc,\n",
    "        evaluator=EVALUATOR)"
   ]
  },
  {
   "cell_type": "code",
   "execution_count": 68,
   "id": "2c429ae5-f5a5-4a2e-893a-7add9d11337f",
   "metadata": {
    "tags": []
   },
   "outputs": [
    {
     "name": "stdout",
     "output_type": "stream",
     "text": [
      "gte-base\n",
      "  retrieval score: 0.5977653631284916\n",
      "  quality score: 3.589385474860335\n",
      "\n",
      "bge-large-en\n",
      "  retrieval score: 0.35195530726256985\n",
      "  quality score: 3.1145251396648046\n",
      "\n",
      "text-embedding-ada-002\n",
      "  retrieval score: 0.5586592178770949\n",
      "  quality score: 3.4329608938547485\n",
      "\n"
     ]
    }
   ],
   "source": [
    "for embedding_model_name in embedding_model_names:\n",
    "    experiment_name = f\"{embedding_model_name.split('/')[-1]}\"\n",
    "    print_experiment(experiment_name=experiment_name)"
   ]
  },
  {
   "cell_type": "markdown",
   "id": "7fd24b35-1db3-4326-ab0c-c4b484fb5aea",
   "metadata": {},
   "source": [
    "This is an interesting outcome because the #1 (`BAAI/bge-large-en`) on the current leaderboard isn't necessarily the best for our specific task. Using the smaller `thenlper/gte-base` produced the best retrieval and quality scores in our experiments."
   ]
  },
  {
   "cell_type": "code",
   "execution_count": 69,
   "id": "845ad771-65e1-44cf-813f-3aa167c07e31",
   "metadata": {
    "tags": []
   },
   "outputs": [],
   "source": [
    "EMBEDDING_MODEL_NAME = \"thenlper/gte-base\""
   ]
  },
  {
   "cell_type": "markdown",
   "id": "8b21b32f-bacb-4703-b16c-d4a7014779dc",
   "metadata": {},
   "source": [
    "### OSS vs. closed LLMs"
   ]
  },
  {
   "cell_type": "code",
   "execution_count": 76,
   "id": "a91c87cb-ba0d-4044-9616-b2cbad239587",
   "metadata": {
    "tags": []
   },
   "outputs": [],
   "source": [
    "llms = [\"gpt-3.5-turbo\", \n",
    "        \"gpt-3.5-turbo-16k\", \n",
    "        \"gpt-4\",\n",
    "        \"meta-llama/Llama-2-7b-chat-hf\", \n",
    "        \"meta-llama/Llama-2-13b-chat-hf\", \n",
    "        \"meta-llama/Llama-2-70b-chat-hf\"]"
   ]
  },
  {
   "cell_type": "code",
   "execution_count": null,
   "id": "072e8114-23ba-402e-a03d-594089e9b4d5",
   "metadata": {
    "tags": []
   },
   "outputs": [
    {
     "name": "stderr",
     "output_type": "stream",
     "text": [
      "  4%|▍         | 8/179 [00:59<24:47,  8.70s/it]"
     ]
    }
   ],
   "source": [
    "for llm in llms:\n",
    "    experiment_name = f\"{llm.split('/')[-1].lower()}\"\n",
    "    run_experiment(\n",
    "        experiment_name=experiment_name, \n",
    "        data_path=data_path,\n",
    "        chunk_size=CHUNK_SIZE, \n",
    "        chunk_overlap=CHUNK_OVERLAP, \n",
    "        num_chunks=NUM_CHUNKS,\n",
    "        embedding_model_name=EMBEDDING_MODEL_NAME,\n",
    "        llm=llm,\n",
    "        reference_loc=reference_loc,\n",
    "        evaluator=EVALUATOR)"
   ]
  },
  {
   "cell_type": "markdown",
   "id": "97d1cd68-f77a-4f13-9454-3add1fc65158",
   "metadata": {},
   "source": [
    "**Note**: Some of our LLMs have much larger context lengths, ex. `gpt-4` is 8192 and `gpt-3.5-turbo-16k` is 16384. We could increase the number of chunks that we use for these since we saw that increasing `num_chunks` continued to improve the retrieval and quality scores. However, we will keep this value fixed for now since the performance started to taper off anyway and so we can compare these performances under the exact same configurations."
   ]
  },
  {
   "cell_type": "code",
   "execution_count": null,
   "id": "0275cb71-6876-404a-bdbe-f79347162696",
   "metadata": {},
   "outputs": [],
   "source": [
    "LLM = \"\""
   ]
  },
  {
   "cell_type": "markdown",
   "id": "f916ea05-4b99-4024-9211-ed35bb8ac9dc",
   "metadata": {},
   "source": [
    "## Cost comparisons"
   ]
  },
  {
   "cell_type": "code",
   "execution_count": null,
   "id": "ca18129b-62db-49af-9be3-2444d0af5751",
   "metadata": {},
   "outputs": [],
   "source": []
  },
  {
   "cell_type": "markdown",
   "id": "5034926f-94da-4478-b547-0d83319134fc",
   "metadata": {
    "tags": []
   },
   "source": [
    "## Routing"
   ]
  },
  {
   "cell_type": "code",
   "execution_count": null,
   "id": "2c03ae2f-578d-4824-a455-21100df66d73",
   "metadata": {},
   "outputs": [],
   "source": []
  },
  {
   "cell_type": "markdown",
   "id": "95dcee8a-050d-4cfd-9e39-bb187e28360e",
   "metadata": {
    "tags": []
   },
   "source": [
    "## Additional data sources"
   ]
  },
  {
   "cell_type": "code",
   "execution_count": null,
   "id": "81554b7b-4686-4f2d-8080-23f911ad4a2b",
   "metadata": {},
   "outputs": [],
   "source": []
  },
  {
   "cell_type": "code",
   "execution_count": null,
   "id": "bf13edb0-d40a-4215-b6ac-50a8ea3492fc",
   "metadata": {},
   "outputs": [],
   "source": []
  },
  {
   "cell_type": "markdown",
   "id": "14f2b5b9-8fe0-44a3-8910-8ce21056dc57",
   "metadata": {},
   "source": [
    "## Next steps"
   ]
  },
  {
   "cell_type": "code",
   "execution_count": null,
   "id": "ffb691db-2835-489e-86c1-c0bfae30693d",
   "metadata": {},
   "outputs": [],
   "source": []
  }
 ],
 "metadata": {
  "kernelspec": {
   "display_name": "Python 3 (ipykernel)",
   "language": "python",
   "name": "python3"
  },
  "language_info": {
   "codemirror_mode": {
    "name": "ipython",
    "version": 3
   },
   "file_extension": ".py",
   "mimetype": "text/x-python",
   "name": "python",
   "nbconvert_exporter": "python",
   "pygments_lexer": "ipython3",
   "version": "3.8.13"
  }
 },
 "nbformat": 4,
 "nbformat_minor": 5
}
