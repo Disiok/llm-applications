{
 "cells": [
  {
   "cell_type": "markdown",
   "id": "bf421c39-741f-45b6-b656-4eaede7082a2",
   "metadata": {
    "tags": []
   },
   "source": [
    " # Eval with Labels"
   ]
  },
  {
   "cell_type": "markdown",
   "id": "ec1409c6-083b-4deb-aed5-ca1212d40a17",
   "metadata": {
    "tags": []
   },
   "source": [
    "## Setup"
   ]
  },
  {
   "cell_type": "code",
   "execution_count": 9,
   "id": "548cf615-215e-4e1d-bb9e-e9261e9a73f9",
   "metadata": {
    "tags": []
   },
   "outputs": [],
   "source": [
    "import os\n",
    "import openai\n",
    "from pathlib import Path\n",
    "from pprint import pprint\n",
    "import ray\n",
    "from tqdm import tqdm"
   ]
  },
  {
   "cell_type": "code",
   "execution_count": 36,
   "id": "56365bb3-0e85-407d-8ce2-c60975754944",
   "metadata": {
    "tags": []
   },
   "outputs": [
    {
     "data": {
      "text/plain": [
       "True"
      ]
     },
     "execution_count": 36,
     "metadata": {},
     "output_type": "execute_result"
    }
   ],
   "source": [
    "import sys; sys.path.append(\"..\")\n",
    "import warnings; warnings.filterwarnings(\"ignore\")\n",
    "from dotenv import load_dotenv; load_dotenv()"
   ]
  },
  {
   "cell_type": "code",
   "execution_count": 37,
   "id": "27502546-fd0e-4a18-b6b0-f95569d077a7",
   "metadata": {
    "tags": []
   },
   "outputs": [
    {
     "name": "stdout",
     "output_type": "stream",
     "text": [
      "/home/ray/default/llm-applications\n"
     ]
    }
   ],
   "source": [
    "EFS_DIR = Path(\"/efs/shared_storage/simon\")\n",
    "ROOT_DIR = Path(os.getcwd()).parent\n",
    "print (ROOT_DIR)"
   ]
  },
  {
   "cell_type": "code",
   "execution_count": 38,
   "id": "30b9dba1-8da6-4f6b-99a0-f012d958149b",
   "metadata": {
    "tags": []
   },
   "outputs": [
    {
     "name": "stderr",
     "output_type": "stream",
     "text": [
      "2023-08-31 00:34:29,068\tINFO worker.py:1431 -- Connecting to existing Ray cluster at address: 10.0.30.102:6379...\n",
      "2023-08-31 00:34:29,078\tINFO worker.py:1612 -- Connected to Ray cluster. View the dashboard at \u001b[1m\u001b[32mhttps://session-hvq6cjxyd917stdzvn4cs58auc.i.anyscaleuserdata.com \u001b[39m\u001b[22m\n",
      "2023-08-31 00:34:29,082\tINFO packaging.py:346 -- Pushing file package 'gcs://_ray_pkg_591bfdbdda85a4ebb0a1c8ccab90c290.zip' (0.74MiB) to Ray cluster...\n",
      "2023-08-31 00:34:29,084\tINFO packaging.py:359 -- Successfully pushed file package 'gcs://_ray_pkg_591bfdbdda85a4ebb0a1c8ccab90c290.zip'.\n"
     ]
    },
    {
     "data": {
      "application/vnd.jupyter.widget-view+json": {
       "model_id": "51f54768c9664697b038ec1c84828b88",
       "version_major": 2,
       "version_minor": 0
      },
      "text/html": [
       "<div class=\"lm-Widget p-Widget lm-Panel p-Panel jp-Cell-outputWrapper\">\n",
       "    <div style=\"margin-left: 50px;display: flex;flex-direction: row;align-items: center\">\n",
       "        <div class=\"jp-RenderedHTMLCommon\" style=\"display: flex; flex-direction: row;\">\n",
       "  <svg viewBox=\"0 0 567 224\" fill=\"none\" xmlns=\"http://www.w3.org/2000/svg\" style=\"height: 3em;\">\n",
       "    <g clip-path=\"url(#clip0_4338_178347)\">\n",
       "        <path d=\"M341.29 165.561H355.29L330.13 129.051C345.63 123.991 354.21 112.051 354.21 94.2307C354.21 71.3707 338.72 58.1807 311.88 58.1807H271V165.561H283.27V131.661H311.8C314.25 131.661 316.71 131.501 319.01 131.351L341.25 165.561H341.29ZM283.29 119.851V70.0007H311.82C331.3 70.0007 342.34 78.2907 342.34 94.5507C342.34 111.271 331.34 119.861 311.82 119.861L283.29 119.851ZM451.4 138.411L463.4 165.561H476.74L428.74 58.1807H416L367.83 165.561H380.83L392.83 138.411H451.4ZM446.19 126.601H398L422 72.1407L446.24 126.601H446.19ZM526.11 128.741L566.91 58.1807H554.35L519.99 114.181L485.17 58.1807H472.44L514.01 129.181V165.541H526.13V128.741H526.11Z\" fill=\"var(--jp-ui-font-color0)\"/>\n",
       "        <path d=\"M82.35 104.44C84.0187 97.8827 87.8248 92.0678 93.1671 87.9146C98.5094 83.7614 105.083 81.5067 111.85 81.5067C118.617 81.5067 125.191 83.7614 130.533 87.9146C135.875 92.0678 139.681 97.8827 141.35 104.44H163.75C164.476 101.562 165.622 98.8057 167.15 96.2605L127.45 56.5605C121.071 60.3522 113.526 61.6823 106.235 60.3005C98.9443 58.9187 92.4094 54.9203 87.8602 49.0574C83.3109 43.1946 81.0609 35.8714 81.5332 28.4656C82.0056 21.0599 85.1679 14.0819 90.4252 8.8446C95.6824 3.60726 102.672 0.471508 110.08 0.0272655C117.487 -0.416977 124.802 1.86091 130.647 6.4324C136.493 11.0039 140.467 17.5539 141.821 24.8501C143.175 32.1463 141.816 39.6859 138 46.0505L177.69 85.7505C182.31 82.9877 187.58 81.4995 192.962 81.4375C198.345 81.3755 203.648 82.742 208.33 85.3976C213.012 88.0532 216.907 91.9029 219.616 96.5544C222.326 101.206 223.753 106.492 223.753 111.875C223.753 117.258 222.326 122.545 219.616 127.197C216.907 131.848 213.012 135.698 208.33 138.353C203.648 141.009 198.345 142.375 192.962 142.313C187.58 142.251 182.31 140.763 177.69 138L138 177.7C141.808 184.071 143.155 191.614 141.79 198.91C140.424 206.205 136.44 212.75 130.585 217.313C124.731 221.875 117.412 224.141 110.004 223.683C102.596 223.226 95.6103 220.077 90.3621 214.828C85.1139 209.58 81.9647 202.595 81.5072 195.187C81.0497 187.779 83.3154 180.459 87.878 174.605C92.4405 168.751 98.9853 164.766 106.281 163.401C113.576 162.035 121.119 163.383 127.49 167.19L167.19 127.49C165.664 124.941 164.518 122.182 163.79 119.3H141.39C139.721 125.858 135.915 131.673 130.573 135.826C125.231 139.98 118.657 142.234 111.89 142.234C105.123 142.234 98.5494 139.98 93.2071 135.826C87.8648 131.673 84.0587 125.858 82.39 119.3H60C58.1878 126.495 53.8086 132.78 47.6863 136.971C41.5641 141.163 34.1211 142.972 26.7579 142.059C19.3947 141.146 12.6191 137.574 7.70605 132.014C2.79302 126.454 0.0813599 119.29 0.0813599 111.87C0.0813599 104.451 2.79302 97.2871 7.70605 91.7272C12.6191 86.1673 19.3947 82.5947 26.7579 81.6817C34.1211 80.7686 41.5641 82.5781 47.6863 86.7696C53.8086 90.9611 58.1878 97.2456 60 104.44H82.35ZM100.86 204.32C103.407 206.868 106.759 208.453 110.345 208.806C113.93 209.159 117.527 208.258 120.522 206.256C123.517 204.254 125.725 201.276 126.771 197.828C127.816 194.38 127.633 190.677 126.253 187.349C124.874 184.021 122.383 181.274 119.205 179.577C116.027 177.88 112.359 177.337 108.826 178.042C105.293 178.746 102.113 180.654 99.8291 183.44C97.5451 186.226 96.2979 189.718 96.3 193.32C96.2985 195.364 96.7006 197.388 97.4831 199.275C98.2656 201.163 99.4132 202.877 100.86 204.32ZM204.32 122.88C206.868 120.333 208.453 116.981 208.806 113.396C209.159 109.811 208.258 106.214 206.256 103.219C204.254 100.223 201.275 98.0151 197.827 96.97C194.38 95.9249 190.676 96.1077 187.348 97.4873C184.02 98.8669 181.274 101.358 179.577 104.536C177.879 107.714 177.337 111.382 178.041 114.915C178.746 118.448 180.653 121.627 183.439 123.911C186.226 126.195 189.717 127.443 193.32 127.44C195.364 127.443 197.388 127.042 199.275 126.259C201.163 125.476 202.878 124.328 204.32 122.88ZM122.88 19.4205C120.333 16.8729 116.981 15.2876 113.395 14.9347C109.81 14.5817 106.213 15.483 103.218 17.4849C100.223 19.4868 98.0146 22.4654 96.9696 25.9131C95.9245 29.3608 96.1073 33.0642 97.4869 36.3922C98.8665 39.7202 101.358 42.4668 104.535 44.1639C107.713 45.861 111.381 46.4036 114.914 45.6992C118.447 44.9949 121.627 43.0871 123.911 40.301C126.195 37.515 127.442 34.0231 127.44 30.4205C127.44 28.3772 127.038 26.3539 126.255 24.4664C125.473 22.5788 124.326 20.8642 122.88 19.4205ZM19.42 100.86C16.8725 103.408 15.2872 106.76 14.9342 110.345C14.5813 113.93 15.4826 117.527 17.4844 120.522C19.4863 123.518 22.4649 125.726 25.9127 126.771C29.3604 127.816 33.0638 127.633 36.3918 126.254C39.7198 124.874 42.4664 122.383 44.1635 119.205C45.8606 116.027 46.4032 112.359 45.6988 108.826C44.9944 105.293 43.0866 102.114 40.3006 99.8296C37.5145 97.5455 34.0227 96.2983 30.42 96.3005C26.2938 96.3018 22.337 97.9421 19.42 100.86ZM100.86 100.86C98.3125 103.408 96.7272 106.76 96.3742 110.345C96.0213 113.93 96.9226 117.527 98.9244 120.522C100.926 123.518 103.905 125.726 107.353 126.771C110.8 127.816 114.504 127.633 117.832 126.254C121.16 124.874 123.906 122.383 125.604 119.205C127.301 116.027 127.843 112.359 127.139 108.826C126.434 105.293 124.527 102.114 121.741 99.8296C118.955 97.5455 115.463 96.2983 111.86 96.3005C109.817 96.299 107.793 96.701 105.905 97.4835C104.018 98.2661 102.303 99.4136 100.86 100.86Z\" fill=\"#00AEEF\"/>\n",
       "    </g>\n",
       "    <defs>\n",
       "        <clipPath id=\"clip0_4338_178347\">\n",
       "            <rect width=\"566.93\" height=\"223.75\" fill=\"white\"/>\n",
       "        </clipPath>\n",
       "    </defs>\n",
       "  </svg>\n",
       "</div>\n",
       "\n",
       "        <table class=\"jp-RenderedHTMLCommon\" style=\"border-collapse: collapse;color: var(--jp-ui-font-color1);font-size: var(--jp-ui-font-size1);\">\n",
       "    <tr>\n",
       "        <td style=\"text-align: left\"><b>Python version:</b></td>\n",
       "        <td style=\"text-align: left\"><b>3.9.15</b></td>\n",
       "    </tr>\n",
       "    <tr>\n",
       "        <td style=\"text-align: left\"><b>Ray version:</b></td>\n",
       "        <td style=\"text-align: left\"><b>2.6.2</b></td>\n",
       "    </tr>\n",
       "    <tr>\n",
       "    <td style=\"text-align: left\"><b>Dashboard:</b></td>\n",
       "    <td style=\"text-align: left\"><b><a href=\"http://session-hvq6cjxyd917stdzvn4cs58auc.i.anyscaleuserdata.com\" target=\"_blank\">http://session-hvq6cjxyd917stdzvn4cs58auc.i.anyscaleuserdata.com</a></b></td>\n",
       "</tr>\n",
       "\n",
       "</table>\n",
       "\n",
       "    </div>\n",
       "</div>\n"
      ],
      "text/plain": [
       "RayContext(dashboard_url='session-hvq6cjxyd917stdzvn4cs58auc.i.anyscaleuserdata.com', python_version='3.9.15', ray_version='2.6.2', ray_commit='92ad4bab9e93c7a207a44c65ab51295f92566cb4', protocol_version=None)"
      ]
     },
     "execution_count": 38,
     "metadata": {},
     "output_type": "execute_result"
    }
   ],
   "source": [
    "# Credentials\n",
    "ray.init(runtime_env={\"env_vars\": {\n",
    "    \"OPENAI_API_BASE\": os.environ[\"OPENAI_API_BASE\"],\n",
    "    \"OPENAI_API_KEY\": os.environ[\"OPENAI_API_KEY\"], \n",
    "    \"ANYSCALE_API_BASE\": os.environ[\"ANYSCALE_API_BASE\"],\n",
    "    \"ANYSCALE_API_KEY\": os.environ[\"ANYSCALE_API_KEY\"],\n",
    "    \"DB_CONNECTION_STRING\": os.environ[\"DB_CONNECTION_STRING\"],\n",
    "}})"
   ]
  },
  {
   "cell_type": "markdown",
   "id": "207d8210-0f2a-4c75-b346-bc2e23febd58",
   "metadata": {},
   "source": [
    "### Utils "
   ]
  },
  {
   "cell_type": "code",
   "execution_count": 20,
   "id": "cf7a3c27-404d-4cad-9703-ac7838992994",
   "metadata": {
    "tags": []
   },
   "outputs": [],
   "source": [
    "import json\n",
    "\n",
    "def write_json(data, filename):\n",
    "    with open(filename, 'w') as f:\n",
    "        json.dump(data, f, indent=4)\n",
    "\n",
    "def read_json(filename):\n",
    "    with open(filename, 'r') as f:\n",
    "        data = json.load(f)\n",
    "    return data"
   ]
  },
  {
   "cell_type": "markdown",
   "id": "a7960ff6-63a8-4b57-a75b-1ff5b865bd3b",
   "metadata": {},
   "source": [
    "## Load corpus"
   ]
  },
  {
   "cell_type": "code",
   "execution_count": 22,
   "id": "20b6d36b-205f-4c73-aa8b-8b730cc68325",
   "metadata": {
    "tags": []
   },
   "outputs": [],
   "source": [
    "sections = read_json(Path(ROOT_DIR, \"datasets/eval_full_corpus.json\"))"
   ]
  },
  {
   "cell_type": "markdown",
   "id": "e2339fdb-a53a-4455-9a4d-5df9980bb652",
   "metadata": {},
   "source": [
    "## Load (question, source) labels "
   ]
  },
  {
   "cell_type": "code",
   "execution_count": 13,
   "id": "47158ed0-e1ee-412d-aea2-ba6ca0bc7b85",
   "metadata": {
    "tags": []
   },
   "outputs": [],
   "source": [
    "import re\n",
    "import json\n",
    "from pathlib import Path"
   ]
  },
  {
   "cell_type": "code",
   "execution_count": 43,
   "id": "31413e7b-bcc6-43f1-b326-d8370042ddff",
   "metadata": {
    "tags": []
   },
   "outputs": [],
   "source": [
    "with open(Path(ROOT_DIR, \"datasets/eval-dataset-v1.jsonl\"), \"r\") as f:\n",
    "    val_dataset = [json.loads(item) for item in list(f)]"
   ]
  },
  {
   "cell_type": "code",
   "execution_count": 44,
   "id": "8857b97b-6095-4009-94fc-5f34fcc01167",
   "metadata": {
    "tags": []
   },
   "outputs": [],
   "source": [
    "# Clean up\n",
    "for row in val_dataset:\n",
    "    row[\"source\"] = row[\"source\"].replace(\"https://docs.ray.io/en/latest/\", \"https://docs.ray.io/en/master/\")"
   ]
  },
  {
   "cell_type": "code",
   "execution_count": 45,
   "id": "81787101-0f59-4ffd-9a29-7f0d65039070",
   "metadata": {
    "tags": []
   },
   "outputs": [
    {
     "data": {
      "text/plain": [
       "[{'question': 'I’m struggling a bit with Ray Data type conversions when I do map_batches. Any advice?',\n",
       "  'source': 'https://docs.ray.io/en/master/data/transforming-data.html#configuring-batch-format'},\n",
       " {'question': 'How does autoscaling work in a Ray Serve application?',\n",
       "  'source': 'https://docs.ray.io/en/master/serve/scaling-and-resource-allocation.html#autoscaling'},\n",
       " {'question': 'how do I get the address of a ray node',\n",
       "  'source': 'https://docs.ray.io/en/master/ray-core/miscellaneous.html#node-information'},\n",
       " {'question': 'Does Ray support NCCL?',\n",
       "  'source': 'https://docs.ray.io/en/master/ray-more-libs/ray-collective.html'},\n",
       " {'question': 'could you give me an example of using this library for data-parallel training of CNNs on Ray?',\n",
       "  'source': 'https://docs.ray.io/en/master/ray-air/computer-vision.html#training-vision-models'}]"
      ]
     },
     "execution_count": 45,
     "metadata": {},
     "output_type": "execute_result"
    }
   ],
   "source": [
    "val_dataset[:5]"
   ]
  },
  {
   "cell_type": "code",
   "execution_count": 23,
   "id": "fe3b710f-10c6-4e18-99b3-620cd4e531ef",
   "metadata": {
    "tags": []
   },
   "outputs": [],
   "source": [
    "# Section per document (page) dict\n",
    "sections_per_doc = {section[\"source\"]: section[\"text\"] for section in sections}\n",
    "for section in sections:\n",
    "    page = section[\"source\"]\n",
    "    if \"#\" not in page:\n",
    "        page_sections = [key for key in sections_per_doc.keys() if key.startswith(page)]\n",
    "        combined_text = \"\\n\".join(sections_per_doc[page_section] for page_section in page_sections)\n",
    "        sections_per_doc[page] = combined_text"
   ]
  },
  {
   "cell_type": "code",
   "execution_count": 26,
   "id": "03675bcb-0fea-423f-832f-b91c3467e829",
   "metadata": {
    "tags": []
   },
   "outputs": [],
   "source": [
    "from llama_index import Document\n",
    "\n",
    "def to_doc(entry_dict):\n",
    "    return Document(text=entry_dict['text'], metadata={'source': entry_dict['source']})"
   ]
  },
  {
   "cell_type": "code",
   "execution_count": 27,
   "id": "322d079d-35f0-44e0-9e42-f0a816a9fd15",
   "metadata": {
    "tags": []
   },
   "outputs": [],
   "source": [
    "docs = [to_doc(dict_) for dict_ in sections]"
   ]
  },
  {
   "cell_type": "markdown",
   "id": "1b3c3d98-f620-45cc-9809-22b3a7c4a78d",
   "metadata": {},
   "source": [
    "## Build Index"
   ]
  },
  {
   "cell_type": "code",
   "execution_count": 24,
   "id": "cd04e2f8-e811-44e6-93d1-99765f0a7d9b",
   "metadata": {
    "tags": []
   },
   "outputs": [],
   "source": [
    "from llama_index import VectorStoreIndex, Document, ServiceContext\n",
    "from llama_index.embeddings import OpenAIEmbedding, LangchainEmbedding\n",
    "from langchain.embeddings import HuggingFaceEmbeddings"
   ]
  },
  {
   "cell_type": "code",
   "execution_count": 25,
   "id": "84155653-0caf-4681-a063-f1224f539b20",
   "metadata": {
    "tags": []
   },
   "outputs": [],
   "source": [
    "def build_index(\n",
    "    docs,\n",
    "    chunk_size,\n",
    "    embed_model='text-embedding-ada-002',\n",
    "):\n",
    "    if embed_model == 'text-embedding-ada-002':\n",
    "        embed_model= OpenAIEmbedding(embed_batch_size=100)\n",
    "    else:\n",
    "        embed_model = HuggingFaceEmbeddings(model_name=embed_model)\n",
    "        embed_model = LangchainEmbedding(embed_model, embed_batch_size=100)\n",
    "        \n",
    "    service_context = ServiceContext.from_defaults(\n",
    "        chunk_size=chunk_size,\n",
    "        embed_model=embed_model,\n",
    "    )\n",
    "    index = VectorStoreIndex.from_documents(docs, service_context=service_context, show_progress=True)\n",
    "    return index"
   ]
  },
  {
   "cell_type": "code",
   "execution_count": 46,
   "id": "37f31f3d-2721-4ba0-9db7-72ec6b9577f3",
   "metadata": {
    "tags": []
   },
   "outputs": [],
   "source": [
    "def evaluate_index(\n",
    "    dataset,\n",
    "    index,\n",
    "    top_k=5,\n",
    "    verbose=False,\n",
    "):\n",
    "    retriever = index.as_retriever(similarity_top_k=top_k)\n",
    "\n",
    "    eval_results = []\n",
    "    for entry in tqdm(dataset):\n",
    "        query = entry['question']\n",
    "        expected_source = entry['source']\n",
    "        \n",
    "        retrieved_nodes = retriever.retrieve(query)\n",
    "        retrieved_sources = [node.node.metadata['source'] for node in retrieved_nodes]\n",
    "        is_hit = expected_source in retrieved_sources  # assume 1 relevant doc\n",
    "        \n",
    "        eval_result = {\n",
    "            'is_hit': is_hit,\n",
    "            'retrieved': retrieved_sources,\n",
    "            'expected': expected_source,\n",
    "            'query': query,\n",
    "        }\n",
    "        eval_results.append(eval_result)\n",
    "    return eval_results"
   ]
  },
  {
   "cell_type": "code",
   "execution_count": 47,
   "id": "19396a3f-0b37-4028-bee0-bef6514369c1",
   "metadata": {
    "tags": []
   },
   "outputs": [],
   "source": [
    "def evaluate(\n",
    "    docs, \n",
    "    eval_dataset,\n",
    "    chunk_size=1024,\n",
    "    embed_model=\"text-embedding-ada-002\",\n",
    "    top_k=5,\n",
    "    verbose=True,\n",
    "):\n",
    "    index = build_index(docs, chunk_size, embed_model)\n",
    "    results = evaluate_index(eval_dataset, index, top_k, verbose=verbose)\n",
    "    return results"
   ]
  },
  {
   "cell_type": "markdown",
   "id": "62c2798f-8072-4817-8c93-f587da17b4c7",
   "metadata": {},
   "source": [
    "## Standard approach"
   ]
  },
  {
   "cell_type": "code",
   "execution_count": 59,
   "id": "ba6ec079-3fee-4c50-a7f7-15df9c367145",
   "metadata": {
    "collapsed": true,
    "jupyter": {
     "outputs_hidden": true
    },
    "tags": []
   },
   "outputs": [
    {
     "name": "stdout",
     "output_type": "stream",
     "text": [
      "Running experiment with {'embed_model': 'sentence-transformers/all-mpnet-base-v2'}\n"
     ]
    },
    {
     "data": {
      "application/vnd.jupyter.widget-view+json": {
       "model_id": "4551308b47f041719bcce5a35ebf84e1",
       "version_major": 2,
       "version_minor": 0
      },
      "text/plain": [
       "Parsing documents into nodes:   0%|          | 0/8944 [00:00<?, ?it/s]"
      ]
     },
     "metadata": {},
     "output_type": "display_data"
    },
    {
     "data": {
      "application/vnd.jupyter.widget-view+json": {
       "model_id": "70cd0c71b1594106a0b4c4843c247d3a",
       "version_major": 2,
       "version_minor": 0
      },
      "text/plain": [
       "Generating embeddings:   0%|          | 0/9380 [00:00<?, ?it/s]"
      ]
     },
     "metadata": {},
     "output_type": "display_data"
    },
    {
     "name": "stderr",
     "output_type": "stream",
     "text": [
      "\n",
      "  0%|          | 0/179 [00:00<?, ?it/s]\u001b[A\n",
      "  1%|          | 1/179 [00:01<04:14,  1.43s/it]\u001b[A\n",
      "  1%|          | 2/179 [00:02<04:13,  1.43s/it]\u001b[A\n",
      "  2%|▏         | 3/179 [00:04<04:13,  1.44s/it]\u001b[A\n",
      "  2%|▏         | 4/179 [00:05<04:13,  1.45s/it]\u001b[A\n",
      "  3%|▎         | 5/179 [00:07<04:12,  1.45s/it]\u001b[A\n",
      "  3%|▎         | 6/179 [00:08<04:00,  1.39s/it]\u001b[A\n",
      "  4%|▍         | 7/179 [00:09<03:59,  1.39s/it]\u001b[A\n",
      "  4%|▍         | 8/179 [00:11<03:57,  1.39s/it]\u001b[A\n",
      "  5%|▌         | 9/179 [00:12<03:58,  1.41s/it]\u001b[A\n",
      "  6%|▌         | 10/179 [00:14<04:04,  1.45s/it]\u001b[A\n",
      "  6%|▌         | 11/179 [00:15<04:02,  1.44s/it]\u001b[A\n",
      "  7%|▋         | 12/179 [00:17<03:59,  1.43s/it]\u001b[A\n",
      "  7%|▋         | 13/179 [00:18<04:00,  1.45s/it]\u001b[A\n",
      "  8%|▊         | 14/179 [00:20<04:02,  1.47s/it]\u001b[A\n",
      "  8%|▊         | 15/179 [00:21<03:56,  1.44s/it]\u001b[A\n",
      "  9%|▉         | 16/179 [00:22<03:47,  1.40s/it]\u001b[A\n",
      "  9%|▉         | 17/179 [00:24<03:48,  1.41s/it]\u001b[A\n",
      " 10%|█         | 18/179 [00:25<03:47,  1.41s/it]\u001b[A\n",
      " 11%|█         | 19/179 [00:27<03:46,  1.42s/it]\u001b[A\n",
      " 11%|█         | 20/179 [00:28<03:47,  1.43s/it]\u001b[A\n",
      " 12%|█▏        | 21/179 [00:29<03:43,  1.41s/it]\u001b[A\n",
      " 12%|█▏        | 22/179 [00:31<03:39,  1.40s/it]\u001b[A\n",
      " 13%|█▎        | 23/179 [00:32<03:38,  1.40s/it]\u001b[A\n",
      " 13%|█▎        | 24/179 [00:34<03:41,  1.43s/it]\u001b[A\n",
      " 14%|█▍        | 25/179 [00:35<03:41,  1.44s/it]\u001b[A\n",
      " 15%|█▍        | 26/179 [00:37<03:37,  1.42s/it]\u001b[A\n",
      " 15%|█▌        | 27/179 [00:38<03:33,  1.40s/it]\u001b[A\n",
      " 16%|█▌        | 28/179 [00:39<03:36,  1.44s/it]\u001b[A\n",
      " 16%|█▌        | 29/179 [00:41<03:29,  1.39s/it]\u001b[A\n",
      " 17%|█▋        | 30/179 [00:42<03:25,  1.38s/it]\u001b[A\n",
      " 17%|█▋        | 31/179 [00:43<03:26,  1.40s/it]\u001b[A\n",
      " 18%|█▊        | 32/179 [00:45<03:26,  1.40s/it]\u001b[A\n",
      " 18%|█▊        | 33/179 [00:46<03:26,  1.41s/it]\u001b[A\n",
      " 19%|█▉        | 34/179 [00:48<03:25,  1.42s/it]\u001b[A\n",
      " 20%|█▉        | 35/179 [00:49<03:22,  1.41s/it]\u001b[A\n",
      " 20%|██        | 36/179 [00:51<03:25,  1.44s/it]\u001b[A\n",
      " 21%|██        | 37/179 [00:52<03:24,  1.44s/it]\u001b[A\n",
      " 21%|██        | 38/179 [00:53<03:20,  1.42s/it]\u001b[A\n",
      " 22%|██▏       | 39/179 [00:55<03:18,  1.42s/it]\u001b[A\n",
      " 22%|██▏       | 40/179 [00:56<03:15,  1.41s/it]\u001b[A\n",
      " 23%|██▎       | 41/179 [00:58<03:14,  1.41s/it]\u001b[A\n",
      " 23%|██▎       | 42/179 [00:59<03:16,  1.43s/it]\u001b[A\n",
      " 24%|██▍       | 43/179 [01:01<03:14,  1.43s/it]\u001b[A\n",
      " 25%|██▍       | 44/179 [01:02<03:12,  1.43s/it]\u001b[A\n",
      " 25%|██▌       | 45/179 [01:03<03:10,  1.42s/it]\u001b[A\n",
      " 26%|██▌       | 46/179 [01:05<03:10,  1.43s/it]\u001b[A\n",
      " 26%|██▋       | 47/179 [01:06<03:03,  1.39s/it]\u001b[A\n",
      " 27%|██▋       | 48/179 [01:08<03:03,  1.40s/it]\u001b[A\n",
      " 27%|██▋       | 49/179 [01:09<03:03,  1.41s/it]\u001b[A\n",
      " 28%|██▊       | 50/179 [01:10<02:59,  1.39s/it]\u001b[A\n",
      " 28%|██▊       | 51/179 [01:12<03:02,  1.43s/it]\u001b[A\n",
      " 29%|██▉       | 52/179 [01:13<03:03,  1.45s/it]\u001b[A\n",
      " 30%|██▉       | 53/179 [01:15<03:05,  1.47s/it]\u001b[A\n",
      " 30%|███       | 54/179 [01:16<03:06,  1.49s/it]\u001b[A\n",
      " 31%|███       | 55/179 [01:18<03:02,  1.47s/it]\u001b[A\n",
      " 31%|███▏      | 56/179 [01:19<03:00,  1.47s/it]\u001b[A\n",
      " 32%|███▏      | 57/179 [01:21<02:54,  1.43s/it]\u001b[A\n",
      " 32%|███▏      | 58/179 [01:22<02:52,  1.42s/it]\u001b[A\n",
      " 33%|███▎      | 59/179 [01:23<02:48,  1.40s/it]\u001b[A\n",
      " 34%|███▎      | 60/179 [01:25<02:48,  1.42s/it]\u001b[A\n",
      " 34%|███▍      | 61/179 [01:26<02:47,  1.42s/it]\u001b[A\n",
      " 35%|███▍      | 62/179 [01:28<02:43,  1.40s/it]\u001b[A\n",
      " 35%|███▌      | 63/179 [01:29<02:45,  1.42s/it]\u001b[A\n",
      " 36%|███▌      | 64/179 [01:31<02:44,  1.43s/it]\u001b[A\n",
      " 36%|███▋      | 65/179 [01:32<02:43,  1.43s/it]\u001b[A\n",
      " 37%|███▋      | 66/179 [01:33<02:42,  1.43s/it]\u001b[A\n",
      " 37%|███▋      | 67/179 [01:35<02:39,  1.43s/it]\u001b[A\n",
      " 38%|███▊      | 68/179 [01:36<02:40,  1.44s/it]\u001b[A\n",
      " 39%|███▊      | 69/179 [01:38<02:39,  1.45s/it]\u001b[A\n",
      " 39%|███▉      | 70/179 [01:39<02:40,  1.47s/it]\u001b[A\n",
      " 40%|███▉      | 71/179 [01:41<02:35,  1.44s/it]\u001b[A\n",
      " 40%|████      | 72/179 [01:42<02:34,  1.44s/it]\u001b[A\n",
      " 41%|████      | 73/179 [01:43<02:28,  1.40s/it]\u001b[A\n",
      " 41%|████▏     | 74/179 [01:45<02:26,  1.39s/it]\u001b[A\n",
      " 42%|████▏     | 75/179 [01:46<02:27,  1.42s/it]\u001b[A\n",
      " 42%|████▏     | 76/179 [01:48<02:25,  1.42s/it]\u001b[A\n",
      " 43%|████▎     | 77/179 [01:49<02:25,  1.43s/it]\u001b[A\n",
      " 44%|████▎     | 78/179 [01:51<02:22,  1.41s/it]\u001b[A\n",
      " 44%|████▍     | 79/179 [01:52<02:22,  1.42s/it]\u001b[A\n",
      " 45%|████▍     | 80/179 [01:53<02:20,  1.42s/it]\u001b[A\n",
      " 45%|████▌     | 81/179 [01:55<02:20,  1.43s/it]\u001b[A\n",
      " 46%|████▌     | 82/179 [01:56<02:20,  1.45s/it]\u001b[A\n",
      " 46%|████▋     | 83/179 [01:58<02:18,  1.44s/it]\u001b[A\n",
      " 47%|████▋     | 84/179 [01:59<02:19,  1.47s/it]\u001b[A\n",
      " 47%|████▋     | 85/179 [02:01<02:18,  1.47s/it]\u001b[A\n",
      " 48%|████▊     | 86/179 [02:02<02:13,  1.44s/it]\u001b[A\n",
      " 49%|████▊     | 87/179 [02:04<02:12,  1.44s/it]\u001b[A\n",
      " 49%|████▉     | 88/179 [02:05<02:10,  1.43s/it]\u001b[A\n",
      " 50%|████▉     | 89/179 [02:06<02:10,  1.45s/it]\u001b[A\n",
      " 50%|█████     | 90/179 [02:08<02:06,  1.43s/it]\u001b[A\n",
      " 51%|█████     | 91/179 [02:09<02:04,  1.41s/it]\u001b[A\n",
      " 51%|█████▏    | 92/179 [02:11<02:02,  1.41s/it]\u001b[A\n",
      " 52%|█████▏    | 93/179 [02:12<02:02,  1.42s/it]\u001b[A\n",
      " 53%|█████▎    | 94/179 [02:14<02:00,  1.42s/it]\u001b[A\n",
      " 53%|█████▎    | 95/179 [02:15<02:01,  1.45s/it]\u001b[A\n",
      " 54%|█████▎    | 96/179 [02:16<02:00,  1.45s/it]\u001b[A\n",
      " 54%|█████▍    | 97/179 [02:18<01:59,  1.46s/it]\u001b[A\n",
      " 55%|█████▍    | 98/179 [02:20<02:00,  1.48s/it]\u001b[A\n",
      " 55%|█████▌    | 99/179 [02:21<01:55,  1.44s/it]\u001b[A\n",
      " 56%|█████▌    | 100/179 [02:22<01:53,  1.43s/it]\u001b[A\n",
      " 56%|█████▋    | 101/179 [02:24<01:50,  1.41s/it]\u001b[A\n",
      " 57%|█████▋    | 102/179 [02:25<01:50,  1.43s/it]\u001b[A\n",
      " 58%|█████▊    | 103/179 [02:27<02:08,  1.69s/it]\u001b[A\n",
      " 58%|█████▊    | 104/179 [02:29<02:01,  1.62s/it]\u001b[A\n",
      " 59%|█████▊    | 105/179 [02:30<01:53,  1.54s/it]\u001b[A\n",
      " 59%|█████▉    | 106/179 [02:32<01:51,  1.53s/it]\u001b[A\n",
      " 60%|█████▉    | 107/179 [02:33<01:48,  1.51s/it]\u001b[A\n",
      " 60%|██████    | 108/179 [02:35<01:43,  1.46s/it]\u001b[A\n",
      " 61%|██████    | 109/179 [02:36<01:41,  1.44s/it]\u001b[A\n",
      " 61%|██████▏   | 110/179 [02:37<01:40,  1.45s/it]\u001b[A\n",
      " 62%|██████▏   | 111/179 [02:39<01:36,  1.42s/it]\u001b[A\n",
      " 63%|██████▎   | 112/179 [02:40<01:38,  1.46s/it]\u001b[A\n",
      " 63%|██████▎   | 113/179 [02:42<01:36,  1.46s/it]\u001b[A\n",
      " 64%|██████▎   | 114/179 [02:43<01:33,  1.44s/it]\u001b[A\n",
      " 64%|██████▍   | 115/179 [02:44<01:29,  1.39s/it]\u001b[A\n",
      " 65%|██████▍   | 116/179 [02:46<01:26,  1.37s/it]\u001b[A\n",
      " 65%|██████▌   | 117/179 [02:47<01:27,  1.40s/it]\u001b[A\n",
      " 66%|██████▌   | 118/179 [02:49<01:27,  1.43s/it]\u001b[A\n",
      " 66%|██████▋   | 119/179 [02:50<01:26,  1.43s/it]\u001b[A\n",
      " 67%|██████▋   | 120/179 [02:52<01:26,  1.46s/it]\u001b[A\n",
      " 68%|██████▊   | 121/179 [02:53<01:24,  1.45s/it]\u001b[A\n",
      " 68%|██████▊   | 122/179 [02:55<01:23,  1.46s/it]\u001b[A\n",
      " 69%|██████▊   | 123/179 [02:56<01:21,  1.46s/it]\u001b[A\n",
      " 69%|██████▉   | 124/179 [02:57<01:18,  1.43s/it]\u001b[A\n",
      " 70%|██████▉   | 125/179 [02:59<01:18,  1.46s/it]\u001b[A\n",
      " 70%|███████   | 126/179 [03:00<01:16,  1.44s/it]\u001b[A\n",
      " 71%|███████   | 127/179 [03:02<01:16,  1.47s/it]\u001b[A\n",
      " 72%|███████▏  | 128/179 [03:03<01:12,  1.43s/it]\u001b[A\n",
      " 72%|███████▏  | 129/179 [03:05<01:11,  1.43s/it]\u001b[A\n",
      " 73%|███████▎  | 130/179 [03:06<01:09,  1.43s/it]\u001b[A\n",
      " 73%|███████▎  | 131/179 [03:07<01:07,  1.41s/it]\u001b[A\n",
      " 74%|███████▎  | 132/179 [03:09<01:07,  1.44s/it]\u001b[A\n",
      " 74%|███████▍  | 133/179 [03:10<01:04,  1.40s/it]\u001b[A\n",
      " 75%|███████▍  | 134/179 [03:12<01:03,  1.40s/it]\u001b[A\n",
      " 75%|███████▌  | 135/179 [03:13<01:02,  1.43s/it]\u001b[A\n",
      " 76%|███████▌  | 136/179 [03:15<01:01,  1.43s/it]\u001b[A\n",
      " 77%|███████▋  | 137/179 [03:16<00:59,  1.42s/it]\u001b[A\n",
      " 77%|███████▋  | 138/179 [03:17<00:57,  1.40s/it]\u001b[A\n",
      " 78%|███████▊  | 139/179 [03:19<00:56,  1.40s/it]\u001b[A\n",
      " 78%|███████▊  | 140/179 [03:20<00:55,  1.41s/it]\u001b[A\n",
      " 79%|███████▉  | 141/179 [03:22<00:54,  1.44s/it]\u001b[A\n",
      " 79%|███████▉  | 142/179 [03:23<00:54,  1.47s/it]\u001b[A\n",
      " 80%|███████▉  | 143/179 [03:25<00:51,  1.43s/it]\u001b[A\n",
      " 80%|████████  | 144/179 [03:26<00:49,  1.41s/it]\u001b[A\n",
      " 81%|████████  | 145/179 [03:27<00:47,  1.41s/it]\u001b[A\n",
      " 82%|████████▏ | 146/179 [03:29<00:46,  1.40s/it]\u001b[A\n",
      " 82%|████████▏ | 147/179 [03:30<00:45,  1.41s/it]\u001b[A\n",
      " 83%|████████▎ | 148/179 [03:32<00:43,  1.41s/it]\u001b[A\n",
      " 83%|████████▎ | 149/179 [03:33<00:43,  1.44s/it]\u001b[A\n",
      " 84%|████████▍ | 150/179 [03:35<00:42,  1.46s/it]\u001b[A\n",
      " 84%|████████▍ | 151/179 [03:36<00:41,  1.48s/it]\u001b[A\n",
      " 85%|████████▍ | 152/179 [03:38<00:39,  1.47s/it]\u001b[A\n",
      " 85%|████████▌ | 153/179 [03:39<00:37,  1.44s/it]\u001b[A\n",
      " 86%|████████▌ | 154/179 [03:40<00:35,  1.43s/it]\u001b[A\n",
      " 87%|████████▋ | 155/179 [03:42<00:33,  1.39s/it]\u001b[A\n",
      " 87%|████████▋ | 156/179 [03:43<00:32,  1.40s/it]\u001b[A\n",
      " 88%|████████▊ | 157/179 [03:44<00:30,  1.39s/it]\u001b[A\n",
      " 88%|████████▊ | 158/179 [03:46<00:29,  1.41s/it]\u001b[A\n",
      " 89%|████████▉ | 159/179 [03:47<00:27,  1.40s/it]\u001b[A\n",
      " 89%|████████▉ | 160/179 [03:49<00:26,  1.41s/it]\u001b[A\n",
      " 90%|████████▉ | 161/179 [03:50<00:25,  1.41s/it]\u001b[A\n",
      " 91%|█████████ | 162/179 [03:51<00:23,  1.40s/it]\u001b[A\n",
      " 91%|█████████ | 163/179 [03:53<00:22,  1.41s/it]\u001b[A\n",
      " 92%|█████████▏| 164/179 [03:54<00:20,  1.39s/it]\u001b[A\n",
      " 92%|█████████▏| 165/179 [03:56<00:19,  1.43s/it]\u001b[A\n",
      " 93%|█████████▎| 166/179 [03:57<00:18,  1.42s/it]\u001b[A\n",
      " 93%|█████████▎| 167/179 [03:59<00:17,  1.42s/it]\u001b[A\n",
      " 94%|█████████▍| 168/179 [04:00<00:15,  1.42s/it]\u001b[A\n",
      " 94%|█████████▍| 169/179 [04:01<00:13,  1.38s/it]\u001b[A\n",
      " 95%|█████████▍| 170/179 [04:03<00:12,  1.40s/it]\u001b[A\n",
      " 96%|█████████▌| 171/179 [04:04<00:11,  1.38s/it]\u001b[A\n",
      " 96%|█████████▌| 172/179 [04:05<00:09,  1.38s/it]\u001b[A\n",
      " 97%|█████████▋| 173/179 [04:07<00:08,  1.42s/it]\u001b[A\n",
      " 97%|█████████▋| 174/179 [04:08<00:07,  1.44s/it]\u001b[A\n",
      " 98%|█████████▊| 175/179 [04:10<00:05,  1.41s/it]\u001b[A\n",
      " 98%|█████████▊| 176/179 [04:11<00:04,  1.44s/it]\u001b[A\n",
      " 99%|█████████▉| 177/179 [04:13<00:02,  1.45s/it]\u001b[A\n",
      " 99%|█████████▉| 178/179 [04:14<00:01,  1.45s/it]\u001b[A\n",
      "100%|██████████| 179/179 [04:16<00:00,  1.43s/it]\u001b[A"
     ]
    },
    {
     "name": "stdout",
     "output_type": "stream",
     "text": [
      "0.22346368715083798\n"
     ]
    },
    {
     "name": "stderr",
     "output_type": "stream",
     "text": [
      "\n"
     ]
    }
   ],
   "source": [
    "experiment = {\n",
    "    'embed_model': \"sentence-transformers/all-mpnet-base-v2\"\n",
    "}\n",
    "print(f'Running experiment with {experiment}')\n",
    "\n",
    "val_result = evaluate(docs, val_dataset, **experiment)\n",
    "\n",
    "df = pd.DataFrame(val_result)\n",
    "hit_rate = df['is_hit'].mean()\n",
    "print(hit_rate)"
   ]
  },
  {
   "cell_type": "markdown",
   "id": "51953900-d777-4a8e-b9ad-656f7878d4d4",
   "metadata": {
    "tags": []
   },
   "source": [
    "## Sentence chunk approach"
   ]
  },
  {
   "cell_type": "code",
   "execution_count": 48,
   "id": "8681fb65-da4e-4569-bd67-3b3fc37158cf",
   "metadata": {
    "tags": []
   },
   "outputs": [],
   "source": [
    "from langchain.embeddings import HuggingFaceEmbeddings\n",
    "from llama_index import ServiceContext, set_global_service_context\n",
    "from llama_index.llms import OpenAI\n",
    "from llama_index.embeddings import OpenAIEmbedding\n",
    "from llama_index.node_parser import SentenceWindowNodeParser\n",
    "\n",
    "# create the sentence window node parser w/ default settings\n",
    "node_parser = SentenceWindowNodeParser.from_defaults(\n",
    "    window_size=3,\n",
    "    window_metadata_key=\"window\",\n",
    "    original_text_metadata_key=\"original_text\",\n",
    ")\n",
    "\n",
    "llm = OpenAI(model=\"gpt-3.5-turbo\", temperature=0.1)\n",
    "service_context = ServiceContext.from_defaults(\n",
    "    llm=llm,\n",
    "    embed_model=HuggingFaceEmbeddings(\n",
    "        model_name=\"sentence-transformers/all-mpnet-base-v2\"\n",
    "    ),\n",
    "    node_parser=node_parser,\n",
    ")"
   ]
  },
  {
   "cell_type": "code",
   "execution_count": 49,
   "id": "31f0dd8a-7697-4835-b87e-f84e5d716bd3",
   "metadata": {
    "tags": []
   },
   "outputs": [
    {
     "data": {
      "application/vnd.jupyter.widget-view+json": {
       "model_id": "a033cf16e18c48e2936a6d902ceecca8",
       "version_major": 2,
       "version_minor": 0
      },
      "text/plain": [
       "Parsing documents into nodes:   0%|          | 0/8944 [00:00<?, ?it/s]"
      ]
     },
     "metadata": {},
     "output_type": "display_data"
    },
    {
     "data": {
      "application/vnd.jupyter.widget-view+json": {
       "model_id": "f1d3a4e9882a4927900b12b461de1c62",
       "version_major": 2,
       "version_minor": 0
      },
      "text/plain": [
       "Generating embeddings:   0%|          | 0/59775 [00:00<?, ?it/s]"
      ]
     },
     "metadata": {},
     "output_type": "display_data"
    }
   ],
   "source": [
    "index = VectorStoreIndex.from_documents(docs, service_context=service_context, show_progress=True)"
   ]
  },
  {
   "cell_type": "code",
   "execution_count": 50,
   "id": "78601c13-3121-4b6f-96bc-684e5e6474b6",
   "metadata": {
    "tags": []
   },
   "outputs": [
    {
     "name": "stderr",
     "output_type": "stream",
     "text": [
      "100%|██████████| 179/179 [26:54<00:00,  9.02s/it]\n"
     ]
    }
   ],
   "source": [
    "results = evaluate_index(val_dataset, index, top_k=5, verbose=True)"
   ]
  },
  {
   "cell_type": "code",
   "execution_count": 53,
   "id": "0a8a0b68-6981-4282-97ec-77b46efb15c3",
   "metadata": {
    "tags": []
   },
   "outputs": [
    {
     "data": {
      "text/plain": [
       "0.27932960893854747"
      ]
     },
     "execution_count": 53,
     "metadata": {},
     "output_type": "execute_result"
    }
   ],
   "source": [
    "import pandas as pd\n",
    "df = pd.DataFrame(results)\n",
    "hit_rate = df['is_hit'].mean()\n",
    "hit_rate"
   ]
  }
 ],
 "metadata": {
  "kernelspec": {
   "display_name": "Python 3 (ipykernel)",
   "language": "python",
   "name": "python3"
  },
  "language_info": {
   "codemirror_mode": {
    "name": "ipython",
    "version": 3
   },
   "file_extension": ".py",
   "mimetype": "text/x-python",
   "name": "python",
   "nbconvert_exporter": "python",
   "pygments_lexer": "ipython3",
   "version": "3.9.15"
  }
 },
 "nbformat": 4,
 "nbformat_minor": 5
}
